{
 "cells": [
  {
   "cell_type": "code",
   "execution_count": 1,
   "metadata": {},
   "outputs": [
    {
     "data": {
      "application/vnd.jupyter.widget-view+json": {
       "model_id": "be860130248a4ad6a6a7931ef1a41387",
       "version_major": 2,
       "version_minor": 0
      },
      "text/plain": [
       "VBox(children=(HBox(children=(Button(button_style='success', description='Select All Features', layout=Layout(…"
      ]
     },
     "metadata": {},
     "output_type": "display_data"
    }
   ],
   "source": [
    "from pls_da.plsda import run_plsda_analysis\n",
    "\n",
    "filepath = \"data/1929_Mendeleev_features_binary.csv\"\n",
    "\n",
    "run_plsda_analysis(filepath, target_column=\"Class\")"
   ]
  },
  {
   "cell_type": "code",
   "execution_count": 2,
   "metadata": {},
   "outputs": [
    {
     "name": "stdout",
     "output_type": "stream",
     "text": [
      "Iteration 1: Initial selected = ['cohesive_energy_max', 'Z_eff_avg'], Score = 0.3250\n",
      "Iteration 2: Added 'ionization_energy_A-B', Selected = ['cohesive_energy_max', 'Z_eff_avg', 'ionization_energy_A-B'], Score = 0.7250\n",
      "Iteration 3: Added 'unpaired_electrons_B', Selected = ['cohesive_energy_max', 'Z_eff_avg', 'ionization_energy_A-B', 'unpaired_electrons_B'], Score = 0.8000\n",
      "Iteration 4: Added 'Gilman_A+B', Selected = ['cohesive_energy_max', 'Z_eff_avg', 'ionization_energy_A-B', 'unpaired_electrons_B', 'Gilman_A+B'], Score = 0.8250\n",
      "Iteration 5: Added 'Pauling_EN_B', Selected = ['cohesive_energy_max', 'Z_eff_avg', 'ionization_energy_A-B', 'unpaired_electrons_B', 'Gilman_A+B', 'Pauling_EN_B'], Score = 0.9000\n"
     ]
    },
    {
     "ename": "KeyboardInterrupt",
     "evalue": "",
     "output_type": "error",
     "traceback": [
      "\u001b[0;31m---------------------------------------------------------------------------\u001b[0m",
      "\u001b[0;31mKeyboardInterrupt\u001b[0m                         Traceback (most recent call last)",
      "Cell \u001b[0;32mIn[2], line 4\u001b[0m\n\u001b[1;32m      1\u001b[0m \u001b[38;5;28;01mfrom\u001b[39;00m \u001b[38;5;21;01mpls_da\u001b[39;00m\u001b[38;5;21;01m.\u001b[39;00m\u001b[38;5;21;01mfeature\u001b[39;00m \u001b[38;5;28;01mimport\u001b[39;00m forward_selection_plsda, backward_elimination_plsda\n\u001b[1;32m      3\u001b[0m \u001b[38;5;66;03m# Forward selection example:\u001b[39;00m\n\u001b[0;32m----> 4\u001b[0m selected_feats, perf_hist \u001b[38;5;241m=\u001b[39m \u001b[43mforward_selection_plsda\u001b[49m\u001b[43m(\u001b[49m\n\u001b[1;32m      5\u001b[0m \u001b[43m    \u001b[49m\u001b[43mfilepath\u001b[49m\u001b[43m,\u001b[49m\u001b[43m \u001b[49m\n\u001b[1;32m      6\u001b[0m \u001b[43m    \u001b[49m\u001b[43mtarget_column\u001b[49m\u001b[38;5;241;43m=\u001b[39;49m\u001b[38;5;124;43m\"\u001b[39;49m\u001b[38;5;124;43mClass\u001b[39;49m\u001b[38;5;124;43m\"\u001b[39;49m\u001b[43m,\u001b[49m\u001b[43m \u001b[49m\n\u001b[1;32m      7\u001b[0m \u001b[43m    \u001b[49m\u001b[43mmax_features\u001b[49m\u001b[38;5;241;43m=\u001b[39;49m\u001b[38;5;241;43m50\u001b[39;49m\u001b[43m,\u001b[49m\u001b[43m \u001b[49m\n\u001b[1;32m      8\u001b[0m \u001b[43m    \u001b[49m\u001b[43mn_components\u001b[49m\u001b[38;5;241;43m=\u001b[39;49m\u001b[38;5;241;43m2\u001b[39;49m\u001b[43m,\u001b[49m\n\u001b[1;32m      9\u001b[0m \u001b[43m    \u001b[49m\u001b[43mscoring\u001b[49m\u001b[38;5;241;43m=\u001b[39;49m\u001b[38;5;124;43m'\u001b[39;49m\u001b[38;5;124;43maccuracy\u001b[39;49m\u001b[38;5;124;43m'\u001b[39;49m\u001b[43m,\u001b[49m\u001b[43m \u001b[49m\n\u001b[1;32m     10\u001b[0m \u001b[43m    \u001b[49m\u001b[43mverbose\u001b[49m\u001b[38;5;241;43m=\u001b[39;49m\u001b[38;5;28;43;01mTrue\u001b[39;49;00m\u001b[43m,\u001b[49m\u001b[43m \u001b[49m\n\u001b[1;32m     11\u001b[0m \u001b[43m    \u001b[49m\u001b[43mvisualize\u001b[49m\u001b[38;5;241;43m=\u001b[39;49m\u001b[38;5;28;43;01mTrue\u001b[39;49;00m\n\u001b[1;32m     12\u001b[0m \u001b[43m)\u001b[49m\n\u001b[1;32m     13\u001b[0m \u001b[38;5;28mprint\u001b[39m(\u001b[38;5;124m\"\u001b[39m\u001b[38;5;124mSelected features via forward selection:\u001b[39m\u001b[38;5;124m\"\u001b[39m, selected_feats)\n\u001b[1;32m     15\u001b[0m \u001b[38;5;66;03m# Backward elimination example:\u001b[39;00m\n",
      "File \u001b[0;32m~/Documents/GitHub/pca-plsda-activity/pls_da/feature.py:113\u001b[0m, in \u001b[0;36mforward_selection_plsda\u001b[0;34m(filepath, target_column, max_features, n_components, scoring, verbose, visualize)\u001b[0m\n\u001b[1;32m    111\u001b[0m \u001b[38;5;28;01mif\u001b[39;00m \u001b[38;5;28mlen\u001b[39m(trial_set) \u001b[38;5;241m<\u001b[39m n_components:\n\u001b[1;32m    112\u001b[0m     \u001b[38;5;28;01mcontinue\u001b[39;00m\n\u001b[0;32m--> 113\u001b[0m score_candidate \u001b[38;5;241m=\u001b[39m \u001b[43m_evaluate_subset\u001b[49m\u001b[43m(\u001b[49m\u001b[43mnumeric_data\u001b[49m\u001b[43m,\u001b[49m\u001b[43m \u001b[49m\u001b[43mtarget_data\u001b[49m\u001b[43m,\u001b[49m\u001b[43m \u001b[49m\u001b[43mtrial_set\u001b[49m\u001b[43m,\u001b[49m\u001b[43m \u001b[49m\u001b[43mn_components\u001b[49m\u001b[38;5;241;43m=\u001b[39;49m\u001b[43mn_components\u001b[49m\u001b[43m,\u001b[49m\u001b[43m \u001b[49m\u001b[43mscoring\u001b[49m\u001b[38;5;241;43m=\u001b[39;49m\u001b[43mscoring\u001b[49m\u001b[43m)\u001b[49m\n\u001b[1;32m    114\u001b[0m \u001b[38;5;28;01mif\u001b[39;00m score_candidate \u001b[38;5;241m>\u001b[39m best_candidate_score:\n\u001b[1;32m    115\u001b[0m     best_candidate_score \u001b[38;5;241m=\u001b[39m score_candidate\n",
      "File \u001b[0;32m~/Documents/GitHub/pca-plsda-activity/pls_da/feature.py:31\u001b[0m, in \u001b[0;36m_evaluate_subset\u001b[0;34m(X, y, selected_features, n_components, scoring)\u001b[0m\n\u001b[1;32m     29\u001b[0m y_train_dummies \u001b[38;5;241m=\u001b[39m pd\u001b[38;5;241m.\u001b[39mget_dummies(y_train)\n\u001b[1;32m     30\u001b[0m pls \u001b[38;5;241m=\u001b[39m PLSRegression(n_components\u001b[38;5;241m=\u001b[39mn_components, scale\u001b[38;5;241m=\u001b[39m\u001b[38;5;28;01mFalse\u001b[39;00m)\n\u001b[0;32m---> 31\u001b[0m \u001b[43mpls\u001b[49m\u001b[38;5;241;43m.\u001b[39;49m\u001b[43mfit\u001b[49m\u001b[43m(\u001b[49m\u001b[43mX_train_scaled\u001b[49m\u001b[43m,\u001b[49m\u001b[43m \u001b[49m\u001b[43my_train_dummies\u001b[49m\u001b[43m)\u001b[49m\n\u001b[1;32m     33\u001b[0m y_pred_cont \u001b[38;5;241m=\u001b[39m pls\u001b[38;5;241m.\u001b[39mpredict(X_test_scaled)\n\u001b[1;32m     34\u001b[0m predicted_indices \u001b[38;5;241m=\u001b[39m np\u001b[38;5;241m.\u001b[39margmax(y_pred_cont, axis\u001b[38;5;241m=\u001b[39m\u001b[38;5;241m1\u001b[39m)\n",
      "File \u001b[0;32m/opt/anaconda3/envs/binary/lib/python3.9/site-packages/sklearn/cross_decomposition/_pls.py:713\u001b[0m, in \u001b[0;36mPLSRegression.fit\u001b[0;34m(self, X, y, Y)\u001b[0m\n\u001b[1;32m    687\u001b[0m \u001b[38;5;250m\u001b[39m\u001b[38;5;124;03m\"\"\"Fit model to data.\u001b[39;00m\n\u001b[1;32m    688\u001b[0m \n\u001b[1;32m    689\u001b[0m \u001b[38;5;124;03mParameters\u001b[39;00m\n\u001b[0;32m   (...)\u001b[0m\n\u001b[1;32m    709\u001b[0m \u001b[38;5;124;03m    Fitted model.\u001b[39;00m\n\u001b[1;32m    710\u001b[0m \u001b[38;5;124;03m\"\"\"\u001b[39;00m\n\u001b[1;32m    711\u001b[0m y \u001b[38;5;241m=\u001b[39m _deprecate_Y_when_required(y, Y)\n\u001b[0;32m--> 713\u001b[0m \u001b[38;5;28;43msuper\u001b[39;49m\u001b[43m(\u001b[49m\u001b[43m)\u001b[49m\u001b[38;5;241;43m.\u001b[39;49m\u001b[43mfit\u001b[49m\u001b[43m(\u001b[49m\u001b[43mX\u001b[49m\u001b[43m,\u001b[49m\u001b[43m \u001b[49m\u001b[43my\u001b[49m\u001b[43m)\u001b[49m\n\u001b[1;32m    714\u001b[0m \u001b[38;5;66;03m# expose the fitted attributes `x_scores_` and `y_scores_`\u001b[39;00m\n\u001b[1;32m    715\u001b[0m \u001b[38;5;28mself\u001b[39m\u001b[38;5;241m.\u001b[39mx_scores_ \u001b[38;5;241m=\u001b[39m \u001b[38;5;28mself\u001b[39m\u001b[38;5;241m.\u001b[39m_x_scores\n",
      "File \u001b[0;32m/opt/anaconda3/envs/binary/lib/python3.9/site-packages/sklearn/base.py:1473\u001b[0m, in \u001b[0;36m_fit_context.<locals>.decorator.<locals>.wrapper\u001b[0;34m(estimator, *args, **kwargs)\u001b[0m\n\u001b[1;32m   1466\u001b[0m     estimator\u001b[38;5;241m.\u001b[39m_validate_params()\n\u001b[1;32m   1468\u001b[0m \u001b[38;5;28;01mwith\u001b[39;00m config_context(\n\u001b[1;32m   1469\u001b[0m     skip_parameter_validation\u001b[38;5;241m=\u001b[39m(\n\u001b[1;32m   1470\u001b[0m         prefer_skip_nested_validation \u001b[38;5;129;01mor\u001b[39;00m global_skip_validation\n\u001b[1;32m   1471\u001b[0m     )\n\u001b[1;32m   1472\u001b[0m ):\n\u001b[0;32m-> 1473\u001b[0m     \u001b[38;5;28;01mreturn\u001b[39;00m \u001b[43mfit_method\u001b[49m\u001b[43m(\u001b[49m\u001b[43mestimator\u001b[49m\u001b[43m,\u001b[49m\u001b[43m \u001b[49m\u001b[38;5;241;43m*\u001b[39;49m\u001b[43margs\u001b[49m\u001b[43m,\u001b[49m\u001b[43m \u001b[49m\u001b[38;5;241;43m*\u001b[39;49m\u001b[38;5;241;43m*\u001b[39;49m\u001b[43mkwargs\u001b[49m\u001b[43m)\u001b[49m\n",
      "File \u001b[0;32m/opt/anaconda3/envs/binary/lib/python3.9/site-packages/sklearn/cross_decomposition/_pls.py:334\u001b[0m, in \u001b[0;36m_PLS.fit\u001b[0;34m(self, X, y, Y)\u001b[0m\n\u001b[1;32m    327\u001b[0m yk[:, yk_mask] \u001b[38;5;241m=\u001b[39m \u001b[38;5;241m0.0\u001b[39m\n\u001b[1;32m    329\u001b[0m \u001b[38;5;28;01mtry\u001b[39;00m:\n\u001b[1;32m    330\u001b[0m     (\n\u001b[1;32m    331\u001b[0m         x_weights,\n\u001b[1;32m    332\u001b[0m         y_weights,\n\u001b[1;32m    333\u001b[0m         n_iter_,\n\u001b[0;32m--> 334\u001b[0m     ) \u001b[38;5;241m=\u001b[39m \u001b[43m_get_first_singular_vectors_power_method\u001b[49m\u001b[43m(\u001b[49m\n\u001b[1;32m    335\u001b[0m \u001b[43m        \u001b[49m\u001b[43mXk\u001b[49m\u001b[43m,\u001b[49m\n\u001b[1;32m    336\u001b[0m \u001b[43m        \u001b[49m\u001b[43myk\u001b[49m\u001b[43m,\u001b[49m\n\u001b[1;32m    337\u001b[0m \u001b[43m        \u001b[49m\u001b[43mmode\u001b[49m\u001b[38;5;241;43m=\u001b[39;49m\u001b[38;5;28;43mself\u001b[39;49m\u001b[38;5;241;43m.\u001b[39;49m\u001b[43mmode\u001b[49m\u001b[43m,\u001b[49m\n\u001b[1;32m    338\u001b[0m \u001b[43m        \u001b[49m\u001b[43mmax_iter\u001b[49m\u001b[38;5;241;43m=\u001b[39;49m\u001b[38;5;28;43mself\u001b[39;49m\u001b[38;5;241;43m.\u001b[39;49m\u001b[43mmax_iter\u001b[49m\u001b[43m,\u001b[49m\n\u001b[1;32m    339\u001b[0m \u001b[43m        \u001b[49m\u001b[43mtol\u001b[49m\u001b[38;5;241;43m=\u001b[39;49m\u001b[38;5;28;43mself\u001b[39;49m\u001b[38;5;241;43m.\u001b[39;49m\u001b[43mtol\u001b[49m\u001b[43m,\u001b[49m\n\u001b[1;32m    340\u001b[0m \u001b[43m        \u001b[49m\u001b[43mnorm_y_weights\u001b[49m\u001b[38;5;241;43m=\u001b[39;49m\u001b[43mnorm_y_weights\u001b[49m\u001b[43m,\u001b[49m\n\u001b[1;32m    341\u001b[0m \u001b[43m    \u001b[49m\u001b[43m)\u001b[49m\n\u001b[1;32m    342\u001b[0m \u001b[38;5;28;01mexcept\u001b[39;00m \u001b[38;5;167;01mStopIteration\u001b[39;00m \u001b[38;5;28;01mas\u001b[39;00m e:\n\u001b[1;32m    343\u001b[0m     \u001b[38;5;28;01mif\u001b[39;00m \u001b[38;5;28mstr\u001b[39m(e) \u001b[38;5;241m!=\u001b[39m \u001b[38;5;124m\"\u001b[39m\u001b[38;5;124my residual is constant\u001b[39m\u001b[38;5;124m\"\u001b[39m:\n",
      "File \u001b[0;32m/opt/anaconda3/envs/binary/lib/python3.9/site-packages/sklearn/cross_decomposition/_pls.py:91\u001b[0m, in \u001b[0;36m_get_first_singular_vectors_power_method\u001b[0;34m(X, Y, mode, max_iter, tol, norm_y_weights)\u001b[0m\n\u001b[1;32m     89\u001b[0m     x_weights \u001b[38;5;241m=\u001b[39m np\u001b[38;5;241m.\u001b[39mdot(X_pinv, y_score)\n\u001b[1;32m     90\u001b[0m \u001b[38;5;28;01melse\u001b[39;00m:\n\u001b[0;32m---> 91\u001b[0m     x_weights \u001b[38;5;241m=\u001b[39m \u001b[43mnp\u001b[49m\u001b[38;5;241;43m.\u001b[39;49m\u001b[43mdot\u001b[49m\u001b[43m(\u001b[49m\u001b[43mX\u001b[49m\u001b[38;5;241;43m.\u001b[39;49m\u001b[43mT\u001b[49m\u001b[43m,\u001b[49m\u001b[43m \u001b[49m\u001b[43my_score\u001b[49m\u001b[43m)\u001b[49m\u001b[43m \u001b[49m\u001b[38;5;241;43m/\u001b[39;49m\u001b[43m \u001b[49m\u001b[43mnp\u001b[49m\u001b[38;5;241;43m.\u001b[39;49m\u001b[43mdot\u001b[49m\u001b[43m(\u001b[49m\u001b[43my_score\u001b[49m\u001b[43m,\u001b[49m\u001b[43m \u001b[49m\u001b[43my_score\u001b[49m\u001b[43m)\u001b[49m\n\u001b[1;32m     93\u001b[0m x_weights \u001b[38;5;241m/\u001b[39m\u001b[38;5;241m=\u001b[39m np\u001b[38;5;241m.\u001b[39msqrt(np\u001b[38;5;241m.\u001b[39mdot(x_weights, x_weights)) \u001b[38;5;241m+\u001b[39m eps\n\u001b[1;32m     94\u001b[0m x_score \u001b[38;5;241m=\u001b[39m np\u001b[38;5;241m.\u001b[39mdot(X, x_weights)\n",
      "\u001b[0;31mKeyboardInterrupt\u001b[0m: "
     ]
    }
   ],
   "source": [
    "from pls_da.feature import forward_selection_plsda, backward_elimination_plsda\n",
    "\n",
    "# Forward selection example:\n",
    "selected_feats, perf_hist = forward_selection_plsda(\n",
    "    filepath, \n",
    "    target_column=\"Class\", \n",
    "    max_features=50, \n",
    "    n_components=2,\n",
    "    scoring='accuracy', \n",
    "    verbose=True, \n",
    "    visualize=True\n",
    ")\n",
    "print(\"Selected features via forward selection:\", selected_feats)\n",
    "\n",
    "# Backward elimination example:\n",
    "remaining_feats, perf_hist_back = backward_elimination_plsda(\n",
    "    filepath, \n",
    "    target_column=\"Class\", \n",
    "    min_features=5, \n",
    "    n_components=2,\n",
    "    scoring='accuracy', \n",
    "    verbose=True, \n",
    "    visualize=True\n",
    ")\n",
    "print(\"Remaining features via backward elimination:\", remaining_feats)"
   ]
  }
 ],
 "metadata": {
  "kernelspec": {
   "display_name": "binary",
   "language": "python",
   "name": "python3"
  },
  "language_info": {
   "codemirror_mode": {
    "name": "ipython",
    "version": 3
   },
   "file_extension": ".py",
   "mimetype": "text/x-python",
   "name": "python",
   "nbconvert_exporter": "python",
   "pygments_lexer": "ipython3",
   "version": "3.9.18"
  }
 },
 "nbformat": 4,
 "nbformat_minor": 2
}
