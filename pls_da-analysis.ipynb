{
 "cells": [
  {
   "cell_type": "code",
   "execution_count": 1,
   "metadata": {},
   "outputs": [
    {
     "data": {
      "application/vnd.jupyter.widget-view+json": {
       "model_id": "9e986dfb53704786aa96f6ad6a8c5e34",
       "version_major": 2,
       "version_minor": 0
      },
      "text/plain": [
       "VBox(children=(HBox(children=(Button(button_style='success', description='Select All Features', layout=Layout(…"
      ]
     },
     "metadata": {},
     "output_type": "display_data"
    }
   ],
   "source": [
    "from pls_da_man import run_plsda_analysis\n",
    "\n",
    "filepath = \"1929_Mendeleev_features_binary1.csv\"\n",
    "\n",
    "run_plsda_analysis(filepath, target_column=\"Class\")"
   ]
  },
  {
   "cell_type": "code",
   "execution_count": null,
   "metadata": {},
   "outputs": [
    {
     "name": "stdout",
     "output_type": "stream",
     "text": [
      "Iteration 1: Initial selected = ['Z_eff_weighted_norm_A+B', 'ionization_energy_max'], Score = 0.4750\n",
      "Iteration 2: Added 'Pauling_EN_min', Selected = ['Z_eff_weighted_norm_A+B', 'ionization_energy_max', 'Pauling_EN_min'], Score = 0.7500\n",
      "Iteration 3: Added 'unpaired_electrons_A', Selected = ['Z_eff_weighted_norm_A+B', 'ionization_energy_max', 'Pauling_EN_min', 'unpaired_electrons_A'], Score = 0.8500\n",
      "Iteration 4: Added 'group_A-B', Selected = ['Z_eff_weighted_norm_A+B', 'ionization_energy_max', 'Pauling_EN_min', 'unpaired_electrons_A', 'group_A-B'], Score = 0.8750\n",
      "Iteration 5: Added 'Mendeleev_number_B', Selected = ['Z_eff_weighted_norm_A+B', 'ionization_energy_max', 'Pauling_EN_min', 'unpaired_electrons_A', 'group_A-B', 'Mendeleev_number_B'], Score = 0.9000\n",
      "Iteration 6: Added 'Gilman_A', Selected = ['Z_eff_weighted_norm_A+B', 'ionization_energy_max', 'Pauling_EN_min', 'unpaired_electrons_A', 'group_A-B', 'Mendeleev_number_B', 'Gilman_A'], Score = 0.9250\n",
      "Iteration 7: Added 'ratio_closest_min', Selected = ['Z_eff_weighted_norm_A+B', 'ionization_energy_max', 'Pauling_EN_min', 'unpaired_electrons_A', 'group_A-B', 'Mendeleev_number_B', 'Gilman_A', 'ratio_closest_min'], Score = 0.9500\n",
      "Iteration 8: Added 'atomic_weight_A/B', Selected = ['Z_eff_weighted_norm_A+B', 'ionization_energy_max', 'Pauling_EN_min', 'unpaired_electrons_A', 'group_A-B', 'Mendeleev_number_B', 'Gilman_A', 'ratio_closest_min', 'atomic_weight_A/B'], Score = 0.9750\n",
      "Iteration 9: Added 'index_A', Selected = ['Z_eff_weighted_norm_A+B', 'ionization_energy_max', 'Pauling_EN_min', 'unpaired_electrons_A', 'group_A-B', 'Mendeleev_number_B', 'Gilman_A', 'ratio_closest_min', 'atomic_weight_A/B', 'index_A'], Score = 0.9750\n",
      "\n",
      "Final selected features: ['Z_eff_weighted_norm_A+B', 'ionization_energy_max', 'Pauling_EN_min', 'unpaired_electrons_A', 'group_A-B', 'Mendeleev_number_B', 'Gilman_A', 'ratio_closest_min', 'atomic_weight_A/B', 'index_A']\n"
     ]
    },
    {
     "data": {
      "application/vnd.plotly.v1+json": {
       "config": {
        "plotlyServerURL": "https://plot.ly"
       },
       "data": [
        {
         "mode": "lines+markers",
         "name": "Performance",
         "type": "scatter",
         "x": [
          1,
          2,
          3,
          4,
          5,
          6,
          7,
          8,
          9
         ],
         "y": [
          0.475,
          0.75,
          0.85,
          0.875,
          0.9,
          0.925,
          0.95,
          0.975,
          0.975
         ]
        }
       ],
       "layout": {
        "template": {
         "data": {
          "bar": [
           {
            "error_x": {
             "color": "#2a3f5f"
            },
            "error_y": {
             "color": "#2a3f5f"
            },
            "marker": {
             "line": {
              "color": "white",
              "width": 0.5
             },
             "pattern": {
              "fillmode": "overlay",
              "size": 10,
              "solidity": 0.2
             }
            },
            "type": "bar"
           }
          ],
          "barpolar": [
           {
            "marker": {
             "line": {
              "color": "white",
              "width": 0.5
             },
             "pattern": {
              "fillmode": "overlay",
              "size": 10,
              "solidity": 0.2
             }
            },
            "type": "barpolar"
           }
          ],
          "carpet": [
           {
            "aaxis": {
             "endlinecolor": "#2a3f5f",
             "gridcolor": "#C8D4E3",
             "linecolor": "#C8D4E3",
             "minorgridcolor": "#C8D4E3",
             "startlinecolor": "#2a3f5f"
            },
            "baxis": {
             "endlinecolor": "#2a3f5f",
             "gridcolor": "#C8D4E3",
             "linecolor": "#C8D4E3",
             "minorgridcolor": "#C8D4E3",
             "startlinecolor": "#2a3f5f"
            },
            "type": "carpet"
           }
          ],
          "choropleth": [
           {
            "colorbar": {
             "outlinewidth": 0,
             "ticks": ""
            },
            "type": "choropleth"
           }
          ],
          "contour": [
           {
            "colorbar": {
             "outlinewidth": 0,
             "ticks": ""
            },
            "colorscale": [
             [
              0,
              "#0d0887"
             ],
             [
              0.1111111111111111,
              "#46039f"
             ],
             [
              0.2222222222222222,
              "#7201a8"
             ],
             [
              0.3333333333333333,
              "#9c179e"
             ],
             [
              0.4444444444444444,
              "#bd3786"
             ],
             [
              0.5555555555555556,
              "#d8576b"
             ],
             [
              0.6666666666666666,
              "#ed7953"
             ],
             [
              0.7777777777777778,
              "#fb9f3a"
             ],
             [
              0.8888888888888888,
              "#fdca26"
             ],
             [
              1,
              "#f0f921"
             ]
            ],
            "type": "contour"
           }
          ],
          "contourcarpet": [
           {
            "colorbar": {
             "outlinewidth": 0,
             "ticks": ""
            },
            "type": "contourcarpet"
           }
          ],
          "heatmap": [
           {
            "colorbar": {
             "outlinewidth": 0,
             "ticks": ""
            },
            "colorscale": [
             [
              0,
              "#0d0887"
             ],
             [
              0.1111111111111111,
              "#46039f"
             ],
             [
              0.2222222222222222,
              "#7201a8"
             ],
             [
              0.3333333333333333,
              "#9c179e"
             ],
             [
              0.4444444444444444,
              "#bd3786"
             ],
             [
              0.5555555555555556,
              "#d8576b"
             ],
             [
              0.6666666666666666,
              "#ed7953"
             ],
             [
              0.7777777777777778,
              "#fb9f3a"
             ],
             [
              0.8888888888888888,
              "#fdca26"
             ],
             [
              1,
              "#f0f921"
             ]
            ],
            "type": "heatmap"
           }
          ],
          "heatmapgl": [
           {
            "colorbar": {
             "outlinewidth": 0,
             "ticks": ""
            },
            "colorscale": [
             [
              0,
              "#0d0887"
             ],
             [
              0.1111111111111111,
              "#46039f"
             ],
             [
              0.2222222222222222,
              "#7201a8"
             ],
             [
              0.3333333333333333,
              "#9c179e"
             ],
             [
              0.4444444444444444,
              "#bd3786"
             ],
             [
              0.5555555555555556,
              "#d8576b"
             ],
             [
              0.6666666666666666,
              "#ed7953"
             ],
             [
              0.7777777777777778,
              "#fb9f3a"
             ],
             [
              0.8888888888888888,
              "#fdca26"
             ],
             [
              1,
              "#f0f921"
             ]
            ],
            "type": "heatmapgl"
           }
          ],
          "histogram": [
           {
            "marker": {
             "pattern": {
              "fillmode": "overlay",
              "size": 10,
              "solidity": 0.2
             }
            },
            "type": "histogram"
           }
          ],
          "histogram2d": [
           {
            "colorbar": {
             "outlinewidth": 0,
             "ticks": ""
            },
            "colorscale": [
             [
              0,
              "#0d0887"
             ],
             [
              0.1111111111111111,
              "#46039f"
             ],
             [
              0.2222222222222222,
              "#7201a8"
             ],
             [
              0.3333333333333333,
              "#9c179e"
             ],
             [
              0.4444444444444444,
              "#bd3786"
             ],
             [
              0.5555555555555556,
              "#d8576b"
             ],
             [
              0.6666666666666666,
              "#ed7953"
             ],
             [
              0.7777777777777778,
              "#fb9f3a"
             ],
             [
              0.8888888888888888,
              "#fdca26"
             ],
             [
              1,
              "#f0f921"
             ]
            ],
            "type": "histogram2d"
           }
          ],
          "histogram2dcontour": [
           {
            "colorbar": {
             "outlinewidth": 0,
             "ticks": ""
            },
            "colorscale": [
             [
              0,
              "#0d0887"
             ],
             [
              0.1111111111111111,
              "#46039f"
             ],
             [
              0.2222222222222222,
              "#7201a8"
             ],
             [
              0.3333333333333333,
              "#9c179e"
             ],
             [
              0.4444444444444444,
              "#bd3786"
             ],
             [
              0.5555555555555556,
              "#d8576b"
             ],
             [
              0.6666666666666666,
              "#ed7953"
             ],
             [
              0.7777777777777778,
              "#fb9f3a"
             ],
             [
              0.8888888888888888,
              "#fdca26"
             ],
             [
              1,
              "#f0f921"
             ]
            ],
            "type": "histogram2dcontour"
           }
          ],
          "mesh3d": [
           {
            "colorbar": {
             "outlinewidth": 0,
             "ticks": ""
            },
            "type": "mesh3d"
           }
          ],
          "parcoords": [
           {
            "line": {
             "colorbar": {
              "outlinewidth": 0,
              "ticks": ""
             }
            },
            "type": "parcoords"
           }
          ],
          "pie": [
           {
            "automargin": true,
            "type": "pie"
           }
          ],
          "scatter": [
           {
            "fillpattern": {
             "fillmode": "overlay",
             "size": 10,
             "solidity": 0.2
            },
            "type": "scatter"
           }
          ],
          "scatter3d": [
           {
            "line": {
             "colorbar": {
              "outlinewidth": 0,
              "ticks": ""
             }
            },
            "marker": {
             "colorbar": {
              "outlinewidth": 0,
              "ticks": ""
             }
            },
            "type": "scatter3d"
           }
          ],
          "scattercarpet": [
           {
            "marker": {
             "colorbar": {
              "outlinewidth": 0,
              "ticks": ""
             }
            },
            "type": "scattercarpet"
           }
          ],
          "scattergeo": [
           {
            "marker": {
             "colorbar": {
              "outlinewidth": 0,
              "ticks": ""
             }
            },
            "type": "scattergeo"
           }
          ],
          "scattergl": [
           {
            "marker": {
             "colorbar": {
              "outlinewidth": 0,
              "ticks": ""
             }
            },
            "type": "scattergl"
           }
          ],
          "scattermapbox": [
           {
            "marker": {
             "colorbar": {
              "outlinewidth": 0,
              "ticks": ""
             }
            },
            "type": "scattermapbox"
           }
          ],
          "scatterpolar": [
           {
            "marker": {
             "colorbar": {
              "outlinewidth": 0,
              "ticks": ""
             }
            },
            "type": "scatterpolar"
           }
          ],
          "scatterpolargl": [
           {
            "marker": {
             "colorbar": {
              "outlinewidth": 0,
              "ticks": ""
             }
            },
            "type": "scatterpolargl"
           }
          ],
          "scatterternary": [
           {
            "marker": {
             "colorbar": {
              "outlinewidth": 0,
              "ticks": ""
             }
            },
            "type": "scatterternary"
           }
          ],
          "surface": [
           {
            "colorbar": {
             "outlinewidth": 0,
             "ticks": ""
            },
            "colorscale": [
             [
              0,
              "#0d0887"
             ],
             [
              0.1111111111111111,
              "#46039f"
             ],
             [
              0.2222222222222222,
              "#7201a8"
             ],
             [
              0.3333333333333333,
              "#9c179e"
             ],
             [
              0.4444444444444444,
              "#bd3786"
             ],
             [
              0.5555555555555556,
              "#d8576b"
             ],
             [
              0.6666666666666666,
              "#ed7953"
             ],
             [
              0.7777777777777778,
              "#fb9f3a"
             ],
             [
              0.8888888888888888,
              "#fdca26"
             ],
             [
              1,
              "#f0f921"
             ]
            ],
            "type": "surface"
           }
          ],
          "table": [
           {
            "cells": {
             "fill": {
              "color": "#EBF0F8"
             },
             "line": {
              "color": "white"
             }
            },
            "header": {
             "fill": {
              "color": "#C8D4E3"
             },
             "line": {
              "color": "white"
             }
            },
            "type": "table"
           }
          ]
         },
         "layout": {
          "annotationdefaults": {
           "arrowcolor": "#2a3f5f",
           "arrowhead": 0,
           "arrowwidth": 1
          },
          "autotypenumbers": "strict",
          "coloraxis": {
           "colorbar": {
            "outlinewidth": 0,
            "ticks": ""
           }
          },
          "colorscale": {
           "diverging": [
            [
             0,
             "#8e0152"
            ],
            [
             0.1,
             "#c51b7d"
            ],
            [
             0.2,
             "#de77ae"
            ],
            [
             0.3,
             "#f1b6da"
            ],
            [
             0.4,
             "#fde0ef"
            ],
            [
             0.5,
             "#f7f7f7"
            ],
            [
             0.6,
             "#e6f5d0"
            ],
            [
             0.7,
             "#b8e186"
            ],
            [
             0.8,
             "#7fbc41"
            ],
            [
             0.9,
             "#4d9221"
            ],
            [
             1,
             "#276419"
            ]
           ],
           "sequential": [
            [
             0,
             "#0d0887"
            ],
            [
             0.1111111111111111,
             "#46039f"
            ],
            [
             0.2222222222222222,
             "#7201a8"
            ],
            [
             0.3333333333333333,
             "#9c179e"
            ],
            [
             0.4444444444444444,
             "#bd3786"
            ],
            [
             0.5555555555555556,
             "#d8576b"
            ],
            [
             0.6666666666666666,
             "#ed7953"
            ],
            [
             0.7777777777777778,
             "#fb9f3a"
            ],
            [
             0.8888888888888888,
             "#fdca26"
            ],
            [
             1,
             "#f0f921"
            ]
           ],
           "sequentialminus": [
            [
             0,
             "#0d0887"
            ],
            [
             0.1111111111111111,
             "#46039f"
            ],
            [
             0.2222222222222222,
             "#7201a8"
            ],
            [
             0.3333333333333333,
             "#9c179e"
            ],
            [
             0.4444444444444444,
             "#bd3786"
            ],
            [
             0.5555555555555556,
             "#d8576b"
            ],
            [
             0.6666666666666666,
             "#ed7953"
            ],
            [
             0.7777777777777778,
             "#fb9f3a"
            ],
            [
             0.8888888888888888,
             "#fdca26"
            ],
            [
             1,
             "#f0f921"
            ]
           ]
          },
          "colorway": [
           "#636efa",
           "#EF553B",
           "#00cc96",
           "#ab63fa",
           "#FFA15A",
           "#19d3f3",
           "#FF6692",
           "#B6E880",
           "#FF97FF",
           "#FECB52"
          ],
          "font": {
           "color": "#2a3f5f"
          },
          "geo": {
           "bgcolor": "white",
           "lakecolor": "white",
           "landcolor": "white",
           "showlakes": true,
           "showland": true,
           "subunitcolor": "#C8D4E3"
          },
          "hoverlabel": {
           "align": "left"
          },
          "hovermode": "closest",
          "mapbox": {
           "style": "light"
          },
          "paper_bgcolor": "white",
          "plot_bgcolor": "white",
          "polar": {
           "angularaxis": {
            "gridcolor": "#EBF0F8",
            "linecolor": "#EBF0F8",
            "ticks": ""
           },
           "bgcolor": "white",
           "radialaxis": {
            "gridcolor": "#EBF0F8",
            "linecolor": "#EBF0F8",
            "ticks": ""
           }
          },
          "scene": {
           "xaxis": {
            "backgroundcolor": "white",
            "gridcolor": "#DFE8F3",
            "gridwidth": 2,
            "linecolor": "#EBF0F8",
            "showbackground": true,
            "ticks": "",
            "zerolinecolor": "#EBF0F8"
           },
           "yaxis": {
            "backgroundcolor": "white",
            "gridcolor": "#DFE8F3",
            "gridwidth": 2,
            "linecolor": "#EBF0F8",
            "showbackground": true,
            "ticks": "",
            "zerolinecolor": "#EBF0F8"
           },
           "zaxis": {
            "backgroundcolor": "white",
            "gridcolor": "#DFE8F3",
            "gridwidth": 2,
            "linecolor": "#EBF0F8",
            "showbackground": true,
            "ticks": "",
            "zerolinecolor": "#EBF0F8"
           }
          },
          "shapedefaults": {
           "line": {
            "color": "#2a3f5f"
           }
          },
          "ternary": {
           "aaxis": {
            "gridcolor": "#DFE8F3",
            "linecolor": "#A2B1C6",
            "ticks": ""
           },
           "baxis": {
            "gridcolor": "#DFE8F3",
            "linecolor": "#A2B1C6",
            "ticks": ""
           },
           "bgcolor": "white",
           "caxis": {
            "gridcolor": "#DFE8F3",
            "linecolor": "#A2B1C6",
            "ticks": ""
           }
          },
          "title": {
           "x": 0.05
          },
          "xaxis": {
           "automargin": true,
           "gridcolor": "#EBF0F8",
           "linecolor": "#EBF0F8",
           "ticks": "",
           "title": {
            "standoff": 15
           },
           "zerolinecolor": "#EBF0F8",
           "zerolinewidth": 2
          },
          "yaxis": {
           "automargin": true,
           "gridcolor": "#EBF0F8",
           "linecolor": "#EBF0F8",
           "ticks": "",
           "title": {
            "standoff": 15
           },
           "zerolinecolor": "#EBF0F8",
           "zerolinewidth": 2
          }
         }
        },
        "title": {
         "text": "Forward Selection Performance"
        },
        "xaxis": {
         "title": {
          "text": "Feature Count"
         }
        },
        "yaxis": {
         "title": {
          "text": "CV Accuracy Score"
         }
        }
       }
      }
     },
     "metadata": {},
     "output_type": "display_data"
    },
    {
     "name": "stdout",
     "output_type": "stream",
     "text": [
      "Selected features via forward selection: ['Z_eff_weighted_norm_A+B', 'ionization_energy_max', 'Pauling_EN_min', 'unpaired_electrons_A', 'group_A-B', 'Mendeleev_number_B', 'Gilman_A', 'ratio_closest_min', 'atomic_weight_A/B', 'index_A']\n",
      "Iteration 0: All features, Score = 0.8000\n",
      "Iteration 1: Removed 'index_A', Remaining = ['index_B', 'normalized_index_A', 'normalized_index_B', 'largest_index', 'smallest_index', 'avg_index', 'atomic_weight_weighted_A+B', 'atomic_weight_A/B', 'atomic_weight_A-B', 'period_A', 'period_B', 'group_A', 'group_B', 'group_A-B', 'Mendeleev_number_A', 'Mendeleev_number_B', 'Mendeleev_number_A-B', 'valencee_total_A', 'valencee_total_B', 'valencee_total_A-B', 'valencee_total_A+B', 'valencee_total_weighted_A+B', 'valencee_total_weighted_norm_A+B', 'unpaired_electrons_A', 'unpaired_electrons_B', 'unpaired_electrons_A-B', 'unpaired_electrons_A+B', 'unpaired_electrons_weighted_A+B', 'unpaired_electrons_weighted_norm_A+B', 'Gilman_A', 'Gilman_B', 'Gilman_A-B', 'Gilman_A+B', 'Gilman_weighted_A+B', 'Gilman_weighted_norm_A+B', 'Z_eff_A', 'Z_eff_B', 'Z_eff_A-B', 'Z_eff_A/B', 'Z_eff_max', 'Z_eff_min', 'Z_eff_avg', 'Z_eff_weighted_norm_A+B', 'ionization_energy_A', 'ionization_energy_B', 'ionization_energy_A-B', 'ionization_energy_A/B', 'ionization_energy_max', 'ionization_energy_min', 'ionization_energy_avg', 'ionization_energy_weighted_norm_A+B', 'coordination_number_A', 'coordination_number_B', 'coordination_number_A-B', 'ratio_closest_A', 'ratio_closest_B', 'ratio_closest_max', 'ratio_closest_min', 'ratio_closest_avg', 'polyhedron_distortion_A', 'polyhedron_distortion_B', 'polyhedron_distortion_max', 'polyhedron_distortion_min', 'polyhedron_distortion_avg', 'CIF_radius_A', 'CIF_radius_B', 'CIF_radius_A/B', 'CIF_radius_A-B', 'CIF_radius_avg', 'CIF_radius_weighted_norm_A+B', 'Pauling_radius_CN12_A', 'Pauling_radius_CN12_B', 'Pauling_radius_CN12_A/B', 'Pauling_radius_CN12_A-B', 'Pauling_radius_CN12_avg', 'Pauling_radius_CN12_weighted_norm_A+B', 'Pauling_EN_A', 'Pauling_EN_B', 'Pauling_EN_A-B', 'Pauling_EN_A/B', 'Pauling_EN_max', 'Pauling_EN_min', 'Pauling_EN_avg', 'Pauling_EN_weighted_norm_A+B', 'Martynov_Batsanov_EN_A', 'Martynov_Batsanov_EN_B', 'Martynov_Batsanov_EN_A-B', 'Martynov_Batsanov_EN_A/B', 'Martynov_Batsanov_EN_max', 'Martynov_Batsanov_EN_min', 'Martynov_Batsanov_EN_avg', 'Martynov_Batsanov_EN_weighted_norm_A+B', 'melting_point_K_A', 'melting_point_K_B', 'melting_point_K_A-B', 'melting_point_K_A/B', 'melting_point_K_max', 'melting_point_K_min', 'melting_point_K_avg', 'melting_point_K_weighted_norm_A+B', 'density_A', 'density_B', 'density_A-B', 'density_A/B', 'density_max', 'density_min', 'density_avg', 'density_weighted_norm_A+B', 'specific_heat_A', 'specific_heat_B', 'specific_heat_A-B', 'specific_heat_A/B', 'specific_heat_max', 'specific_heat_min', 'specific_heat_avg', 'specific_heat_weighted_norm_A+B', 'cohesive_energy_A', 'cohesive_energy_B', 'cohesive_energy_A-B', 'cohesive_energy_A/B', 'cohesive_energy_max', 'cohesive_energy_min', 'cohesive_energy_avg', 'cohesive_energy_weighted_norm_A+B', 'bulk_modulus_A', 'bulk_modulus_B', 'bulk_modulus_A-B', 'bulk_modulus_A/B', 'bulk_modulus_max', 'bulk_modulus_min', 'bulk_modulus_avg', 'bulk_modulus_weighted_norm_A+B'], Score = 0.8000\n",
      "Iteration 2: Removed 'index_B', Remaining = ['normalized_index_A', 'normalized_index_B', 'largest_index', 'smallest_index', 'avg_index', 'atomic_weight_weighted_A+B', 'atomic_weight_A/B', 'atomic_weight_A-B', 'period_A', 'period_B', 'group_A', 'group_B', 'group_A-B', 'Mendeleev_number_A', 'Mendeleev_number_B', 'Mendeleev_number_A-B', 'valencee_total_A', 'valencee_total_B', 'valencee_total_A-B', 'valencee_total_A+B', 'valencee_total_weighted_A+B', 'valencee_total_weighted_norm_A+B', 'unpaired_electrons_A', 'unpaired_electrons_B', 'unpaired_electrons_A-B', 'unpaired_electrons_A+B', 'unpaired_electrons_weighted_A+B', 'unpaired_electrons_weighted_norm_A+B', 'Gilman_A', 'Gilman_B', 'Gilman_A-B', 'Gilman_A+B', 'Gilman_weighted_A+B', 'Gilman_weighted_norm_A+B', 'Z_eff_A', 'Z_eff_B', 'Z_eff_A-B', 'Z_eff_A/B', 'Z_eff_max', 'Z_eff_min', 'Z_eff_avg', 'Z_eff_weighted_norm_A+B', 'ionization_energy_A', 'ionization_energy_B', 'ionization_energy_A-B', 'ionization_energy_A/B', 'ionization_energy_max', 'ionization_energy_min', 'ionization_energy_avg', 'ionization_energy_weighted_norm_A+B', 'coordination_number_A', 'coordination_number_B', 'coordination_number_A-B', 'ratio_closest_A', 'ratio_closest_B', 'ratio_closest_max', 'ratio_closest_min', 'ratio_closest_avg', 'polyhedron_distortion_A', 'polyhedron_distortion_B', 'polyhedron_distortion_max', 'polyhedron_distortion_min', 'polyhedron_distortion_avg', 'CIF_radius_A', 'CIF_radius_B', 'CIF_radius_A/B', 'CIF_radius_A-B', 'CIF_radius_avg', 'CIF_radius_weighted_norm_A+B', 'Pauling_radius_CN12_A', 'Pauling_radius_CN12_B', 'Pauling_radius_CN12_A/B', 'Pauling_radius_CN12_A-B', 'Pauling_radius_CN12_avg', 'Pauling_radius_CN12_weighted_norm_A+B', 'Pauling_EN_A', 'Pauling_EN_B', 'Pauling_EN_A-B', 'Pauling_EN_A/B', 'Pauling_EN_max', 'Pauling_EN_min', 'Pauling_EN_avg', 'Pauling_EN_weighted_norm_A+B', 'Martynov_Batsanov_EN_A', 'Martynov_Batsanov_EN_B', 'Martynov_Batsanov_EN_A-B', 'Martynov_Batsanov_EN_A/B', 'Martynov_Batsanov_EN_max', 'Martynov_Batsanov_EN_min', 'Martynov_Batsanov_EN_avg', 'Martynov_Batsanov_EN_weighted_norm_A+B', 'melting_point_K_A', 'melting_point_K_B', 'melting_point_K_A-B', 'melting_point_K_A/B', 'melting_point_K_max', 'melting_point_K_min', 'melting_point_K_avg', 'melting_point_K_weighted_norm_A+B', 'density_A', 'density_B', 'density_A-B', 'density_A/B', 'density_max', 'density_min', 'density_avg', 'density_weighted_norm_A+B', 'specific_heat_A', 'specific_heat_B', 'specific_heat_A-B', 'specific_heat_A/B', 'specific_heat_max', 'specific_heat_min', 'specific_heat_avg', 'specific_heat_weighted_norm_A+B', 'cohesive_energy_A', 'cohesive_energy_B', 'cohesive_energy_A-B', 'cohesive_energy_A/B', 'cohesive_energy_max', 'cohesive_energy_min', 'cohesive_energy_avg', 'cohesive_energy_weighted_norm_A+B', 'bulk_modulus_A', 'bulk_modulus_B', 'bulk_modulus_A-B', 'bulk_modulus_A/B', 'bulk_modulus_max', 'bulk_modulus_min', 'bulk_modulus_avg', 'bulk_modulus_weighted_norm_A+B'], Score = 0.8000\n",
      "Iteration 3: Removed 'normalized_index_A', Remaining = ['normalized_index_B', 'largest_index', 'smallest_index', 'avg_index', 'atomic_weight_weighted_A+B', 'atomic_weight_A/B', 'atomic_weight_A-B', 'period_A', 'period_B', 'group_A', 'group_B', 'group_A-B', 'Mendeleev_number_A', 'Mendeleev_number_B', 'Mendeleev_number_A-B', 'valencee_total_A', 'valencee_total_B', 'valencee_total_A-B', 'valencee_total_A+B', 'valencee_total_weighted_A+B', 'valencee_total_weighted_norm_A+B', 'unpaired_electrons_A', 'unpaired_electrons_B', 'unpaired_electrons_A-B', 'unpaired_electrons_A+B', 'unpaired_electrons_weighted_A+B', 'unpaired_electrons_weighted_norm_A+B', 'Gilman_A', 'Gilman_B', 'Gilman_A-B', 'Gilman_A+B', 'Gilman_weighted_A+B', 'Gilman_weighted_norm_A+B', 'Z_eff_A', 'Z_eff_B', 'Z_eff_A-B', 'Z_eff_A/B', 'Z_eff_max', 'Z_eff_min', 'Z_eff_avg', 'Z_eff_weighted_norm_A+B', 'ionization_energy_A', 'ionization_energy_B', 'ionization_energy_A-B', 'ionization_energy_A/B', 'ionization_energy_max', 'ionization_energy_min', 'ionization_energy_avg', 'ionization_energy_weighted_norm_A+B', 'coordination_number_A', 'coordination_number_B', 'coordination_number_A-B', 'ratio_closest_A', 'ratio_closest_B', 'ratio_closest_max', 'ratio_closest_min', 'ratio_closest_avg', 'polyhedron_distortion_A', 'polyhedron_distortion_B', 'polyhedron_distortion_max', 'polyhedron_distortion_min', 'polyhedron_distortion_avg', 'CIF_radius_A', 'CIF_radius_B', 'CIF_radius_A/B', 'CIF_radius_A-B', 'CIF_radius_avg', 'CIF_radius_weighted_norm_A+B', 'Pauling_radius_CN12_A', 'Pauling_radius_CN12_B', 'Pauling_radius_CN12_A/B', 'Pauling_radius_CN12_A-B', 'Pauling_radius_CN12_avg', 'Pauling_radius_CN12_weighted_norm_A+B', 'Pauling_EN_A', 'Pauling_EN_B', 'Pauling_EN_A-B', 'Pauling_EN_A/B', 'Pauling_EN_max', 'Pauling_EN_min', 'Pauling_EN_avg', 'Pauling_EN_weighted_norm_A+B', 'Martynov_Batsanov_EN_A', 'Martynov_Batsanov_EN_B', 'Martynov_Batsanov_EN_A-B', 'Martynov_Batsanov_EN_A/B', 'Martynov_Batsanov_EN_max', 'Martynov_Batsanov_EN_min', 'Martynov_Batsanov_EN_avg', 'Martynov_Batsanov_EN_weighted_norm_A+B', 'melting_point_K_A', 'melting_point_K_B', 'melting_point_K_A-B', 'melting_point_K_A/B', 'melting_point_K_max', 'melting_point_K_min', 'melting_point_K_avg', 'melting_point_K_weighted_norm_A+B', 'density_A', 'density_B', 'density_A-B', 'density_A/B', 'density_max', 'density_min', 'density_avg', 'density_weighted_norm_A+B', 'specific_heat_A', 'specific_heat_B', 'specific_heat_A-B', 'specific_heat_A/B', 'specific_heat_max', 'specific_heat_min', 'specific_heat_avg', 'specific_heat_weighted_norm_A+B', 'cohesive_energy_A', 'cohesive_energy_B', 'cohesive_energy_A-B', 'cohesive_energy_A/B', 'cohesive_energy_max', 'cohesive_energy_min', 'cohesive_energy_avg', 'cohesive_energy_weighted_norm_A+B', 'bulk_modulus_A', 'bulk_modulus_B', 'bulk_modulus_A-B', 'bulk_modulus_A/B', 'bulk_modulus_max', 'bulk_modulus_min', 'bulk_modulus_avg', 'bulk_modulus_weighted_norm_A+B'], Score = 0.8000\n",
      "Iteration 4: Removed 'normalized_index_B', Remaining = ['largest_index', 'smallest_index', 'avg_index', 'atomic_weight_weighted_A+B', 'atomic_weight_A/B', 'atomic_weight_A-B', 'period_A', 'period_B', 'group_A', 'group_B', 'group_A-B', 'Mendeleev_number_A', 'Mendeleev_number_B', 'Mendeleev_number_A-B', 'valencee_total_A', 'valencee_total_B', 'valencee_total_A-B', 'valencee_total_A+B', 'valencee_total_weighted_A+B', 'valencee_total_weighted_norm_A+B', 'unpaired_electrons_A', 'unpaired_electrons_B', 'unpaired_electrons_A-B', 'unpaired_electrons_A+B', 'unpaired_electrons_weighted_A+B', 'unpaired_electrons_weighted_norm_A+B', 'Gilman_A', 'Gilman_B', 'Gilman_A-B', 'Gilman_A+B', 'Gilman_weighted_A+B', 'Gilman_weighted_norm_A+B', 'Z_eff_A', 'Z_eff_B', 'Z_eff_A-B', 'Z_eff_A/B', 'Z_eff_max', 'Z_eff_min', 'Z_eff_avg', 'Z_eff_weighted_norm_A+B', 'ionization_energy_A', 'ionization_energy_B', 'ionization_energy_A-B', 'ionization_energy_A/B', 'ionization_energy_max', 'ionization_energy_min', 'ionization_energy_avg', 'ionization_energy_weighted_norm_A+B', 'coordination_number_A', 'coordination_number_B', 'coordination_number_A-B', 'ratio_closest_A', 'ratio_closest_B', 'ratio_closest_max', 'ratio_closest_min', 'ratio_closest_avg', 'polyhedron_distortion_A', 'polyhedron_distortion_B', 'polyhedron_distortion_max', 'polyhedron_distortion_min', 'polyhedron_distortion_avg', 'CIF_radius_A', 'CIF_radius_B', 'CIF_radius_A/B', 'CIF_radius_A-B', 'CIF_radius_avg', 'CIF_radius_weighted_norm_A+B', 'Pauling_radius_CN12_A', 'Pauling_radius_CN12_B', 'Pauling_radius_CN12_A/B', 'Pauling_radius_CN12_A-B', 'Pauling_radius_CN12_avg', 'Pauling_radius_CN12_weighted_norm_A+B', 'Pauling_EN_A', 'Pauling_EN_B', 'Pauling_EN_A-B', 'Pauling_EN_A/B', 'Pauling_EN_max', 'Pauling_EN_min', 'Pauling_EN_avg', 'Pauling_EN_weighted_norm_A+B', 'Martynov_Batsanov_EN_A', 'Martynov_Batsanov_EN_B', 'Martynov_Batsanov_EN_A-B', 'Martynov_Batsanov_EN_A/B', 'Martynov_Batsanov_EN_max', 'Martynov_Batsanov_EN_min', 'Martynov_Batsanov_EN_avg', 'Martynov_Batsanov_EN_weighted_norm_A+B', 'melting_point_K_A', 'melting_point_K_B', 'melting_point_K_A-B', 'melting_point_K_A/B', 'melting_point_K_max', 'melting_point_K_min', 'melting_point_K_avg', 'melting_point_K_weighted_norm_A+B', 'density_A', 'density_B', 'density_A-B', 'density_A/B', 'density_max', 'density_min', 'density_avg', 'density_weighted_norm_A+B', 'specific_heat_A', 'specific_heat_B', 'specific_heat_A-B', 'specific_heat_A/B', 'specific_heat_max', 'specific_heat_min', 'specific_heat_avg', 'specific_heat_weighted_norm_A+B', 'cohesive_energy_A', 'cohesive_energy_B', 'cohesive_energy_A-B', 'cohesive_energy_A/B', 'cohesive_energy_max', 'cohesive_energy_min', 'cohesive_energy_avg', 'cohesive_energy_weighted_norm_A+B', 'bulk_modulus_A', 'bulk_modulus_B', 'bulk_modulus_A-B', 'bulk_modulus_A/B', 'bulk_modulus_max', 'bulk_modulus_min', 'bulk_modulus_avg', 'bulk_modulus_weighted_norm_A+B'], Score = 0.8000\n",
      "Iteration 5: Removed 'largest_index', Remaining = ['smallest_index', 'avg_index', 'atomic_weight_weighted_A+B', 'atomic_weight_A/B', 'atomic_weight_A-B', 'period_A', 'period_B', 'group_A', 'group_B', 'group_A-B', 'Mendeleev_number_A', 'Mendeleev_number_B', 'Mendeleev_number_A-B', 'valencee_total_A', 'valencee_total_B', 'valencee_total_A-B', 'valencee_total_A+B', 'valencee_total_weighted_A+B', 'valencee_total_weighted_norm_A+B', 'unpaired_electrons_A', 'unpaired_electrons_B', 'unpaired_electrons_A-B', 'unpaired_electrons_A+B', 'unpaired_electrons_weighted_A+B', 'unpaired_electrons_weighted_norm_A+B', 'Gilman_A', 'Gilman_B', 'Gilman_A-B', 'Gilman_A+B', 'Gilman_weighted_A+B', 'Gilman_weighted_norm_A+B', 'Z_eff_A', 'Z_eff_B', 'Z_eff_A-B', 'Z_eff_A/B', 'Z_eff_max', 'Z_eff_min', 'Z_eff_avg', 'Z_eff_weighted_norm_A+B', 'ionization_energy_A', 'ionization_energy_B', 'ionization_energy_A-B', 'ionization_energy_A/B', 'ionization_energy_max', 'ionization_energy_min', 'ionization_energy_avg', 'ionization_energy_weighted_norm_A+B', 'coordination_number_A', 'coordination_number_B', 'coordination_number_A-B', 'ratio_closest_A', 'ratio_closest_B', 'ratio_closest_max', 'ratio_closest_min', 'ratio_closest_avg', 'polyhedron_distortion_A', 'polyhedron_distortion_B', 'polyhedron_distortion_max', 'polyhedron_distortion_min', 'polyhedron_distortion_avg', 'CIF_radius_A', 'CIF_radius_B', 'CIF_radius_A/B', 'CIF_radius_A-B', 'CIF_radius_avg', 'CIF_radius_weighted_norm_A+B', 'Pauling_radius_CN12_A', 'Pauling_radius_CN12_B', 'Pauling_radius_CN12_A/B', 'Pauling_radius_CN12_A-B', 'Pauling_radius_CN12_avg', 'Pauling_radius_CN12_weighted_norm_A+B', 'Pauling_EN_A', 'Pauling_EN_B', 'Pauling_EN_A-B', 'Pauling_EN_A/B', 'Pauling_EN_max', 'Pauling_EN_min', 'Pauling_EN_avg', 'Pauling_EN_weighted_norm_A+B', 'Martynov_Batsanov_EN_A', 'Martynov_Batsanov_EN_B', 'Martynov_Batsanov_EN_A-B', 'Martynov_Batsanov_EN_A/B', 'Martynov_Batsanov_EN_max', 'Martynov_Batsanov_EN_min', 'Martynov_Batsanov_EN_avg', 'Martynov_Batsanov_EN_weighted_norm_A+B', 'melting_point_K_A', 'melting_point_K_B', 'melting_point_K_A-B', 'melting_point_K_A/B', 'melting_point_K_max', 'melting_point_K_min', 'melting_point_K_avg', 'melting_point_K_weighted_norm_A+B', 'density_A', 'density_B', 'density_A-B', 'density_A/B', 'density_max', 'density_min', 'density_avg', 'density_weighted_norm_A+B', 'specific_heat_A', 'specific_heat_B', 'specific_heat_A-B', 'specific_heat_A/B', 'specific_heat_max', 'specific_heat_min', 'specific_heat_avg', 'specific_heat_weighted_norm_A+B', 'cohesive_energy_A', 'cohesive_energy_B', 'cohesive_energy_A-B', 'cohesive_energy_A/B', 'cohesive_energy_max', 'cohesive_energy_min', 'cohesive_energy_avg', 'cohesive_energy_weighted_norm_A+B', 'bulk_modulus_A', 'bulk_modulus_B', 'bulk_modulus_A-B', 'bulk_modulus_A/B', 'bulk_modulus_max', 'bulk_modulus_min', 'bulk_modulus_avg', 'bulk_modulus_weighted_norm_A+B'], Score = 0.8000\n",
      "Iteration 6: Removed 'smallest_index', Remaining = ['avg_index', 'atomic_weight_weighted_A+B', 'atomic_weight_A/B', 'atomic_weight_A-B', 'period_A', 'period_B', 'group_A', 'group_B', 'group_A-B', 'Mendeleev_number_A', 'Mendeleev_number_B', 'Mendeleev_number_A-B', 'valencee_total_A', 'valencee_total_B', 'valencee_total_A-B', 'valencee_total_A+B', 'valencee_total_weighted_A+B', 'valencee_total_weighted_norm_A+B', 'unpaired_electrons_A', 'unpaired_electrons_B', 'unpaired_electrons_A-B', 'unpaired_electrons_A+B', 'unpaired_electrons_weighted_A+B', 'unpaired_electrons_weighted_norm_A+B', 'Gilman_A', 'Gilman_B', 'Gilman_A-B', 'Gilman_A+B', 'Gilman_weighted_A+B', 'Gilman_weighted_norm_A+B', 'Z_eff_A', 'Z_eff_B', 'Z_eff_A-B', 'Z_eff_A/B', 'Z_eff_max', 'Z_eff_min', 'Z_eff_avg', 'Z_eff_weighted_norm_A+B', 'ionization_energy_A', 'ionization_energy_B', 'ionization_energy_A-B', 'ionization_energy_A/B', 'ionization_energy_max', 'ionization_energy_min', 'ionization_energy_avg', 'ionization_energy_weighted_norm_A+B', 'coordination_number_A', 'coordination_number_B', 'coordination_number_A-B', 'ratio_closest_A', 'ratio_closest_B', 'ratio_closest_max', 'ratio_closest_min', 'ratio_closest_avg', 'polyhedron_distortion_A', 'polyhedron_distortion_B', 'polyhedron_distortion_max', 'polyhedron_distortion_min', 'polyhedron_distortion_avg', 'CIF_radius_A', 'CIF_radius_B', 'CIF_radius_A/B', 'CIF_radius_A-B', 'CIF_radius_avg', 'CIF_radius_weighted_norm_A+B', 'Pauling_radius_CN12_A', 'Pauling_radius_CN12_B', 'Pauling_radius_CN12_A/B', 'Pauling_radius_CN12_A-B', 'Pauling_radius_CN12_avg', 'Pauling_radius_CN12_weighted_norm_A+B', 'Pauling_EN_A', 'Pauling_EN_B', 'Pauling_EN_A-B', 'Pauling_EN_A/B', 'Pauling_EN_max', 'Pauling_EN_min', 'Pauling_EN_avg', 'Pauling_EN_weighted_norm_A+B', 'Martynov_Batsanov_EN_A', 'Martynov_Batsanov_EN_B', 'Martynov_Batsanov_EN_A-B', 'Martynov_Batsanov_EN_A/B', 'Martynov_Batsanov_EN_max', 'Martynov_Batsanov_EN_min', 'Martynov_Batsanov_EN_avg', 'Martynov_Batsanov_EN_weighted_norm_A+B', 'melting_point_K_A', 'melting_point_K_B', 'melting_point_K_A-B', 'melting_point_K_A/B', 'melting_point_K_max', 'melting_point_K_min', 'melting_point_K_avg', 'melting_point_K_weighted_norm_A+B', 'density_A', 'density_B', 'density_A-B', 'density_A/B', 'density_max', 'density_min', 'density_avg', 'density_weighted_norm_A+B', 'specific_heat_A', 'specific_heat_B', 'specific_heat_A-B', 'specific_heat_A/B', 'specific_heat_max', 'specific_heat_min', 'specific_heat_avg', 'specific_heat_weighted_norm_A+B', 'cohesive_energy_A', 'cohesive_energy_B', 'cohesive_energy_A-B', 'cohesive_energy_A/B', 'cohesive_energy_max', 'cohesive_energy_min', 'cohesive_energy_avg', 'cohesive_energy_weighted_norm_A+B', 'bulk_modulus_A', 'bulk_modulus_B', 'bulk_modulus_A-B', 'bulk_modulus_A/B', 'bulk_modulus_max', 'bulk_modulus_min', 'bulk_modulus_avg', 'bulk_modulus_weighted_norm_A+B'], Score = 0.8000\n",
      "Iteration 7: Removed 'avg_index', Remaining = ['atomic_weight_weighted_A+B', 'atomic_weight_A/B', 'atomic_weight_A-B', 'period_A', 'period_B', 'group_A', 'group_B', 'group_A-B', 'Mendeleev_number_A', 'Mendeleev_number_B', 'Mendeleev_number_A-B', 'valencee_total_A', 'valencee_total_B', 'valencee_total_A-B', 'valencee_total_A+B', 'valencee_total_weighted_A+B', 'valencee_total_weighted_norm_A+B', 'unpaired_electrons_A', 'unpaired_electrons_B', 'unpaired_electrons_A-B', 'unpaired_electrons_A+B', 'unpaired_electrons_weighted_A+B', 'unpaired_electrons_weighted_norm_A+B', 'Gilman_A', 'Gilman_B', 'Gilman_A-B', 'Gilman_A+B', 'Gilman_weighted_A+B', 'Gilman_weighted_norm_A+B', 'Z_eff_A', 'Z_eff_B', 'Z_eff_A-B', 'Z_eff_A/B', 'Z_eff_max', 'Z_eff_min', 'Z_eff_avg', 'Z_eff_weighted_norm_A+B', 'ionization_energy_A', 'ionization_energy_B', 'ionization_energy_A-B', 'ionization_energy_A/B', 'ionization_energy_max', 'ionization_energy_min', 'ionization_energy_avg', 'ionization_energy_weighted_norm_A+B', 'coordination_number_A', 'coordination_number_B', 'coordination_number_A-B', 'ratio_closest_A', 'ratio_closest_B', 'ratio_closest_max', 'ratio_closest_min', 'ratio_closest_avg', 'polyhedron_distortion_A', 'polyhedron_distortion_B', 'polyhedron_distortion_max', 'polyhedron_distortion_min', 'polyhedron_distortion_avg', 'CIF_radius_A', 'CIF_radius_B', 'CIF_radius_A/B', 'CIF_radius_A-B', 'CIF_radius_avg', 'CIF_radius_weighted_norm_A+B', 'Pauling_radius_CN12_A', 'Pauling_radius_CN12_B', 'Pauling_radius_CN12_A/B', 'Pauling_radius_CN12_A-B', 'Pauling_radius_CN12_avg', 'Pauling_radius_CN12_weighted_norm_A+B', 'Pauling_EN_A', 'Pauling_EN_B', 'Pauling_EN_A-B', 'Pauling_EN_A/B', 'Pauling_EN_max', 'Pauling_EN_min', 'Pauling_EN_avg', 'Pauling_EN_weighted_norm_A+B', 'Martynov_Batsanov_EN_A', 'Martynov_Batsanov_EN_B', 'Martynov_Batsanov_EN_A-B', 'Martynov_Batsanov_EN_A/B', 'Martynov_Batsanov_EN_max', 'Martynov_Batsanov_EN_min', 'Martynov_Batsanov_EN_avg', 'Martynov_Batsanov_EN_weighted_norm_A+B', 'melting_point_K_A', 'melting_point_K_B', 'melting_point_K_A-B', 'melting_point_K_A/B', 'melting_point_K_max', 'melting_point_K_min', 'melting_point_K_avg', 'melting_point_K_weighted_norm_A+B', 'density_A', 'density_B', 'density_A-B', 'density_A/B', 'density_max', 'density_min', 'density_avg', 'density_weighted_norm_A+B', 'specific_heat_A', 'specific_heat_B', 'specific_heat_A-B', 'specific_heat_A/B', 'specific_heat_max', 'specific_heat_min', 'specific_heat_avg', 'specific_heat_weighted_norm_A+B', 'cohesive_energy_A', 'cohesive_energy_B', 'cohesive_energy_A-B', 'cohesive_energy_A/B', 'cohesive_energy_max', 'cohesive_energy_min', 'cohesive_energy_avg', 'cohesive_energy_weighted_norm_A+B', 'bulk_modulus_A', 'bulk_modulus_B', 'bulk_modulus_A-B', 'bulk_modulus_A/B', 'bulk_modulus_max', 'bulk_modulus_min', 'bulk_modulus_avg', 'bulk_modulus_weighted_norm_A+B'], Score = 0.8000\n",
      "Iteration 8: Removed 'atomic_weight_weighted_A+B', Remaining = ['atomic_weight_A/B', 'atomic_weight_A-B', 'period_A', 'period_B', 'group_A', 'group_B', 'group_A-B', 'Mendeleev_number_A', 'Mendeleev_number_B', 'Mendeleev_number_A-B', 'valencee_total_A', 'valencee_total_B', 'valencee_total_A-B', 'valencee_total_A+B', 'valencee_total_weighted_A+B', 'valencee_total_weighted_norm_A+B', 'unpaired_electrons_A', 'unpaired_electrons_B', 'unpaired_electrons_A-B', 'unpaired_electrons_A+B', 'unpaired_electrons_weighted_A+B', 'unpaired_electrons_weighted_norm_A+B', 'Gilman_A', 'Gilman_B', 'Gilman_A-B', 'Gilman_A+B', 'Gilman_weighted_A+B', 'Gilman_weighted_norm_A+B', 'Z_eff_A', 'Z_eff_B', 'Z_eff_A-B', 'Z_eff_A/B', 'Z_eff_max', 'Z_eff_min', 'Z_eff_avg', 'Z_eff_weighted_norm_A+B', 'ionization_energy_A', 'ionization_energy_B', 'ionization_energy_A-B', 'ionization_energy_A/B', 'ionization_energy_max', 'ionization_energy_min', 'ionization_energy_avg', 'ionization_energy_weighted_norm_A+B', 'coordination_number_A', 'coordination_number_B', 'coordination_number_A-B', 'ratio_closest_A', 'ratio_closest_B', 'ratio_closest_max', 'ratio_closest_min', 'ratio_closest_avg', 'polyhedron_distortion_A', 'polyhedron_distortion_B', 'polyhedron_distortion_max', 'polyhedron_distortion_min', 'polyhedron_distortion_avg', 'CIF_radius_A', 'CIF_radius_B', 'CIF_radius_A/B', 'CIF_radius_A-B', 'CIF_radius_avg', 'CIF_radius_weighted_norm_A+B', 'Pauling_radius_CN12_A', 'Pauling_radius_CN12_B', 'Pauling_radius_CN12_A/B', 'Pauling_radius_CN12_A-B', 'Pauling_radius_CN12_avg', 'Pauling_radius_CN12_weighted_norm_A+B', 'Pauling_EN_A', 'Pauling_EN_B', 'Pauling_EN_A-B', 'Pauling_EN_A/B', 'Pauling_EN_max', 'Pauling_EN_min', 'Pauling_EN_avg', 'Pauling_EN_weighted_norm_A+B', 'Martynov_Batsanov_EN_A', 'Martynov_Batsanov_EN_B', 'Martynov_Batsanov_EN_A-B', 'Martynov_Batsanov_EN_A/B', 'Martynov_Batsanov_EN_max', 'Martynov_Batsanov_EN_min', 'Martynov_Batsanov_EN_avg', 'Martynov_Batsanov_EN_weighted_norm_A+B', 'melting_point_K_A', 'melting_point_K_B', 'melting_point_K_A-B', 'melting_point_K_A/B', 'melting_point_K_max', 'melting_point_K_min', 'melting_point_K_avg', 'melting_point_K_weighted_norm_A+B', 'density_A', 'density_B', 'density_A-B', 'density_A/B', 'density_max', 'density_min', 'density_avg', 'density_weighted_norm_A+B', 'specific_heat_A', 'specific_heat_B', 'specific_heat_A-B', 'specific_heat_A/B', 'specific_heat_max', 'specific_heat_min', 'specific_heat_avg', 'specific_heat_weighted_norm_A+B', 'cohesive_energy_A', 'cohesive_energy_B', 'cohesive_energy_A-B', 'cohesive_energy_A/B', 'cohesive_energy_max', 'cohesive_energy_min', 'cohesive_energy_avg', 'cohesive_energy_weighted_norm_A+B', 'bulk_modulus_A', 'bulk_modulus_B', 'bulk_modulus_A-B', 'bulk_modulus_A/B', 'bulk_modulus_max', 'bulk_modulus_min', 'bulk_modulus_avg', 'bulk_modulus_weighted_norm_A+B'], Score = 0.8000\n",
      "Iteration 9: Removed 'atomic_weight_A/B', Remaining = ['atomic_weight_A-B', 'period_A', 'period_B', 'group_A', 'group_B', 'group_A-B', 'Mendeleev_number_A', 'Mendeleev_number_B', 'Mendeleev_number_A-B', 'valencee_total_A', 'valencee_total_B', 'valencee_total_A-B', 'valencee_total_A+B', 'valencee_total_weighted_A+B', 'valencee_total_weighted_norm_A+B', 'unpaired_electrons_A', 'unpaired_electrons_B', 'unpaired_electrons_A-B', 'unpaired_electrons_A+B', 'unpaired_electrons_weighted_A+B', 'unpaired_electrons_weighted_norm_A+B', 'Gilman_A', 'Gilman_B', 'Gilman_A-B', 'Gilman_A+B', 'Gilman_weighted_A+B', 'Gilman_weighted_norm_A+B', 'Z_eff_A', 'Z_eff_B', 'Z_eff_A-B', 'Z_eff_A/B', 'Z_eff_max', 'Z_eff_min', 'Z_eff_avg', 'Z_eff_weighted_norm_A+B', 'ionization_energy_A', 'ionization_energy_B', 'ionization_energy_A-B', 'ionization_energy_A/B', 'ionization_energy_max', 'ionization_energy_min', 'ionization_energy_avg', 'ionization_energy_weighted_norm_A+B', 'coordination_number_A', 'coordination_number_B', 'coordination_number_A-B', 'ratio_closest_A', 'ratio_closest_B', 'ratio_closest_max', 'ratio_closest_min', 'ratio_closest_avg', 'polyhedron_distortion_A', 'polyhedron_distortion_B', 'polyhedron_distortion_max', 'polyhedron_distortion_min', 'polyhedron_distortion_avg', 'CIF_radius_A', 'CIF_radius_B', 'CIF_radius_A/B', 'CIF_radius_A-B', 'CIF_radius_avg', 'CIF_radius_weighted_norm_A+B', 'Pauling_radius_CN12_A', 'Pauling_radius_CN12_B', 'Pauling_radius_CN12_A/B', 'Pauling_radius_CN12_A-B', 'Pauling_radius_CN12_avg', 'Pauling_radius_CN12_weighted_norm_A+B', 'Pauling_EN_A', 'Pauling_EN_B', 'Pauling_EN_A-B', 'Pauling_EN_A/B', 'Pauling_EN_max', 'Pauling_EN_min', 'Pauling_EN_avg', 'Pauling_EN_weighted_norm_A+B', 'Martynov_Batsanov_EN_A', 'Martynov_Batsanov_EN_B', 'Martynov_Batsanov_EN_A-B', 'Martynov_Batsanov_EN_A/B', 'Martynov_Batsanov_EN_max', 'Martynov_Batsanov_EN_min', 'Martynov_Batsanov_EN_avg', 'Martynov_Batsanov_EN_weighted_norm_A+B', 'melting_point_K_A', 'melting_point_K_B', 'melting_point_K_A-B', 'melting_point_K_A/B', 'melting_point_K_max', 'melting_point_K_min', 'melting_point_K_avg', 'melting_point_K_weighted_norm_A+B', 'density_A', 'density_B', 'density_A-B', 'density_A/B', 'density_max', 'density_min', 'density_avg', 'density_weighted_norm_A+B', 'specific_heat_A', 'specific_heat_B', 'specific_heat_A-B', 'specific_heat_A/B', 'specific_heat_max', 'specific_heat_min', 'specific_heat_avg', 'specific_heat_weighted_norm_A+B', 'cohesive_energy_A', 'cohesive_energy_B', 'cohesive_energy_A-B', 'cohesive_energy_A/B', 'cohesive_energy_max', 'cohesive_energy_min', 'cohesive_energy_avg', 'cohesive_energy_weighted_norm_A+B', 'bulk_modulus_A', 'bulk_modulus_B', 'bulk_modulus_A-B', 'bulk_modulus_A/B', 'bulk_modulus_max', 'bulk_modulus_min', 'bulk_modulus_avg', 'bulk_modulus_weighted_norm_A+B'], Score = 0.8000\n",
      "Iteration 10: Removed 'atomic_weight_A-B', Remaining = ['period_A', 'period_B', 'group_A', 'group_B', 'group_A-B', 'Mendeleev_number_A', 'Mendeleev_number_B', 'Mendeleev_number_A-B', 'valencee_total_A', 'valencee_total_B', 'valencee_total_A-B', 'valencee_total_A+B', 'valencee_total_weighted_A+B', 'valencee_total_weighted_norm_A+B', 'unpaired_electrons_A', 'unpaired_electrons_B', 'unpaired_electrons_A-B', 'unpaired_electrons_A+B', 'unpaired_electrons_weighted_A+B', 'unpaired_electrons_weighted_norm_A+B', 'Gilman_A', 'Gilman_B', 'Gilman_A-B', 'Gilman_A+B', 'Gilman_weighted_A+B', 'Gilman_weighted_norm_A+B', 'Z_eff_A', 'Z_eff_B', 'Z_eff_A-B', 'Z_eff_A/B', 'Z_eff_max', 'Z_eff_min', 'Z_eff_avg', 'Z_eff_weighted_norm_A+B', 'ionization_energy_A', 'ionization_energy_B', 'ionization_energy_A-B', 'ionization_energy_A/B', 'ionization_energy_max', 'ionization_energy_min', 'ionization_energy_avg', 'ionization_energy_weighted_norm_A+B', 'coordination_number_A', 'coordination_number_B', 'coordination_number_A-B', 'ratio_closest_A', 'ratio_closest_B', 'ratio_closest_max', 'ratio_closest_min', 'ratio_closest_avg', 'polyhedron_distortion_A', 'polyhedron_distortion_B', 'polyhedron_distortion_max', 'polyhedron_distortion_min', 'polyhedron_distortion_avg', 'CIF_radius_A', 'CIF_radius_B', 'CIF_radius_A/B', 'CIF_radius_A-B', 'CIF_radius_avg', 'CIF_radius_weighted_norm_A+B', 'Pauling_radius_CN12_A', 'Pauling_radius_CN12_B', 'Pauling_radius_CN12_A/B', 'Pauling_radius_CN12_A-B', 'Pauling_radius_CN12_avg', 'Pauling_radius_CN12_weighted_norm_A+B', 'Pauling_EN_A', 'Pauling_EN_B', 'Pauling_EN_A-B', 'Pauling_EN_A/B', 'Pauling_EN_max', 'Pauling_EN_min', 'Pauling_EN_avg', 'Pauling_EN_weighted_norm_A+B', 'Martynov_Batsanov_EN_A', 'Martynov_Batsanov_EN_B', 'Martynov_Batsanov_EN_A-B', 'Martynov_Batsanov_EN_A/B', 'Martynov_Batsanov_EN_max', 'Martynov_Batsanov_EN_min', 'Martynov_Batsanov_EN_avg', 'Martynov_Batsanov_EN_weighted_norm_A+B', 'melting_point_K_A', 'melting_point_K_B', 'melting_point_K_A-B', 'melting_point_K_A/B', 'melting_point_K_max', 'melting_point_K_min', 'melting_point_K_avg', 'melting_point_K_weighted_norm_A+B', 'density_A', 'density_B', 'density_A-B', 'density_A/B', 'density_max', 'density_min', 'density_avg', 'density_weighted_norm_A+B', 'specific_heat_A', 'specific_heat_B', 'specific_heat_A-B', 'specific_heat_A/B', 'specific_heat_max', 'specific_heat_min', 'specific_heat_avg', 'specific_heat_weighted_norm_A+B', 'cohesive_energy_A', 'cohesive_energy_B', 'cohesive_energy_A-B', 'cohesive_energy_A/B', 'cohesive_energy_max', 'cohesive_energy_min', 'cohesive_energy_avg', 'cohesive_energy_weighted_norm_A+B', 'bulk_modulus_A', 'bulk_modulus_B', 'bulk_modulus_A-B', 'bulk_modulus_A/B', 'bulk_modulus_max', 'bulk_modulus_min', 'bulk_modulus_avg', 'bulk_modulus_weighted_norm_A+B'], Score = 0.8000\n",
      "Iteration 11: Removed 'period_A', Remaining = ['period_B', 'group_A', 'group_B', 'group_A-B', 'Mendeleev_number_A', 'Mendeleev_number_B', 'Mendeleev_number_A-B', 'valencee_total_A', 'valencee_total_B', 'valencee_total_A-B', 'valencee_total_A+B', 'valencee_total_weighted_A+B', 'valencee_total_weighted_norm_A+B', 'unpaired_electrons_A', 'unpaired_electrons_B', 'unpaired_electrons_A-B', 'unpaired_electrons_A+B', 'unpaired_electrons_weighted_A+B', 'unpaired_electrons_weighted_norm_A+B', 'Gilman_A', 'Gilman_B', 'Gilman_A-B', 'Gilman_A+B', 'Gilman_weighted_A+B', 'Gilman_weighted_norm_A+B', 'Z_eff_A', 'Z_eff_B', 'Z_eff_A-B', 'Z_eff_A/B', 'Z_eff_max', 'Z_eff_min', 'Z_eff_avg', 'Z_eff_weighted_norm_A+B', 'ionization_energy_A', 'ionization_energy_B', 'ionization_energy_A-B', 'ionization_energy_A/B', 'ionization_energy_max', 'ionization_energy_min', 'ionization_energy_avg', 'ionization_energy_weighted_norm_A+B', 'coordination_number_A', 'coordination_number_B', 'coordination_number_A-B', 'ratio_closest_A', 'ratio_closest_B', 'ratio_closest_max', 'ratio_closest_min', 'ratio_closest_avg', 'polyhedron_distortion_A', 'polyhedron_distortion_B', 'polyhedron_distortion_max', 'polyhedron_distortion_min', 'polyhedron_distortion_avg', 'CIF_radius_A', 'CIF_radius_B', 'CIF_radius_A/B', 'CIF_radius_A-B', 'CIF_radius_avg', 'CIF_radius_weighted_norm_A+B', 'Pauling_radius_CN12_A', 'Pauling_radius_CN12_B', 'Pauling_radius_CN12_A/B', 'Pauling_radius_CN12_A-B', 'Pauling_radius_CN12_avg', 'Pauling_radius_CN12_weighted_norm_A+B', 'Pauling_EN_A', 'Pauling_EN_B', 'Pauling_EN_A-B', 'Pauling_EN_A/B', 'Pauling_EN_max', 'Pauling_EN_min', 'Pauling_EN_avg', 'Pauling_EN_weighted_norm_A+B', 'Martynov_Batsanov_EN_A', 'Martynov_Batsanov_EN_B', 'Martynov_Batsanov_EN_A-B', 'Martynov_Batsanov_EN_A/B', 'Martynov_Batsanov_EN_max', 'Martynov_Batsanov_EN_min', 'Martynov_Batsanov_EN_avg', 'Martynov_Batsanov_EN_weighted_norm_A+B', 'melting_point_K_A', 'melting_point_K_B', 'melting_point_K_A-B', 'melting_point_K_A/B', 'melting_point_K_max', 'melting_point_K_min', 'melting_point_K_avg', 'melting_point_K_weighted_norm_A+B', 'density_A', 'density_B', 'density_A-B', 'density_A/B', 'density_max', 'density_min', 'density_avg', 'density_weighted_norm_A+B', 'specific_heat_A', 'specific_heat_B', 'specific_heat_A-B', 'specific_heat_A/B', 'specific_heat_max', 'specific_heat_min', 'specific_heat_avg', 'specific_heat_weighted_norm_A+B', 'cohesive_energy_A', 'cohesive_energy_B', 'cohesive_energy_A-B', 'cohesive_energy_A/B', 'cohesive_energy_max', 'cohesive_energy_min', 'cohesive_energy_avg', 'cohesive_energy_weighted_norm_A+B', 'bulk_modulus_A', 'bulk_modulus_B', 'bulk_modulus_A-B', 'bulk_modulus_A/B', 'bulk_modulus_max', 'bulk_modulus_min', 'bulk_modulus_avg', 'bulk_modulus_weighted_norm_A+B'], Score = 0.8000\n",
      "Iteration 12: Removed 'period_B', Remaining = ['group_A', 'group_B', 'group_A-B', 'Mendeleev_number_A', 'Mendeleev_number_B', 'Mendeleev_number_A-B', 'valencee_total_A', 'valencee_total_B', 'valencee_total_A-B', 'valencee_total_A+B', 'valencee_total_weighted_A+B', 'valencee_total_weighted_norm_A+B', 'unpaired_electrons_A', 'unpaired_electrons_B', 'unpaired_electrons_A-B', 'unpaired_electrons_A+B', 'unpaired_electrons_weighted_A+B', 'unpaired_electrons_weighted_norm_A+B', 'Gilman_A', 'Gilman_B', 'Gilman_A-B', 'Gilman_A+B', 'Gilman_weighted_A+B', 'Gilman_weighted_norm_A+B', 'Z_eff_A', 'Z_eff_B', 'Z_eff_A-B', 'Z_eff_A/B', 'Z_eff_max', 'Z_eff_min', 'Z_eff_avg', 'Z_eff_weighted_norm_A+B', 'ionization_energy_A', 'ionization_energy_B', 'ionization_energy_A-B', 'ionization_energy_A/B', 'ionization_energy_max', 'ionization_energy_min', 'ionization_energy_avg', 'ionization_energy_weighted_norm_A+B', 'coordination_number_A', 'coordination_number_B', 'coordination_number_A-B', 'ratio_closest_A', 'ratio_closest_B', 'ratio_closest_max', 'ratio_closest_min', 'ratio_closest_avg', 'polyhedron_distortion_A', 'polyhedron_distortion_B', 'polyhedron_distortion_max', 'polyhedron_distortion_min', 'polyhedron_distortion_avg', 'CIF_radius_A', 'CIF_radius_B', 'CIF_radius_A/B', 'CIF_radius_A-B', 'CIF_radius_avg', 'CIF_radius_weighted_norm_A+B', 'Pauling_radius_CN12_A', 'Pauling_radius_CN12_B', 'Pauling_radius_CN12_A/B', 'Pauling_radius_CN12_A-B', 'Pauling_radius_CN12_avg', 'Pauling_radius_CN12_weighted_norm_A+B', 'Pauling_EN_A', 'Pauling_EN_B', 'Pauling_EN_A-B', 'Pauling_EN_A/B', 'Pauling_EN_max', 'Pauling_EN_min', 'Pauling_EN_avg', 'Pauling_EN_weighted_norm_A+B', 'Martynov_Batsanov_EN_A', 'Martynov_Batsanov_EN_B', 'Martynov_Batsanov_EN_A-B', 'Martynov_Batsanov_EN_A/B', 'Martynov_Batsanov_EN_max', 'Martynov_Batsanov_EN_min', 'Martynov_Batsanov_EN_avg', 'Martynov_Batsanov_EN_weighted_norm_A+B', 'melting_point_K_A', 'melting_point_K_B', 'melting_point_K_A-B', 'melting_point_K_A/B', 'melting_point_K_max', 'melting_point_K_min', 'melting_point_K_avg', 'melting_point_K_weighted_norm_A+B', 'density_A', 'density_B', 'density_A-B', 'density_A/B', 'density_max', 'density_min', 'density_avg', 'density_weighted_norm_A+B', 'specific_heat_A', 'specific_heat_B', 'specific_heat_A-B', 'specific_heat_A/B', 'specific_heat_max', 'specific_heat_min', 'specific_heat_avg', 'specific_heat_weighted_norm_A+B', 'cohesive_energy_A', 'cohesive_energy_B', 'cohesive_energy_A-B', 'cohesive_energy_A/B', 'cohesive_energy_max', 'cohesive_energy_min', 'cohesive_energy_avg', 'cohesive_energy_weighted_norm_A+B', 'bulk_modulus_A', 'bulk_modulus_B', 'bulk_modulus_A-B', 'bulk_modulus_A/B', 'bulk_modulus_max', 'bulk_modulus_min', 'bulk_modulus_avg', 'bulk_modulus_weighted_norm_A+B'], Score = 0.8000\n",
      "Iteration 13: Removed 'group_A', Remaining = ['group_B', 'group_A-B', 'Mendeleev_number_A', 'Mendeleev_number_B', 'Mendeleev_number_A-B', 'valencee_total_A', 'valencee_total_B', 'valencee_total_A-B', 'valencee_total_A+B', 'valencee_total_weighted_A+B', 'valencee_total_weighted_norm_A+B', 'unpaired_electrons_A', 'unpaired_electrons_B', 'unpaired_electrons_A-B', 'unpaired_electrons_A+B', 'unpaired_electrons_weighted_A+B', 'unpaired_electrons_weighted_norm_A+B', 'Gilman_A', 'Gilman_B', 'Gilman_A-B', 'Gilman_A+B', 'Gilman_weighted_A+B', 'Gilman_weighted_norm_A+B', 'Z_eff_A', 'Z_eff_B', 'Z_eff_A-B', 'Z_eff_A/B', 'Z_eff_max', 'Z_eff_min', 'Z_eff_avg', 'Z_eff_weighted_norm_A+B', 'ionization_energy_A', 'ionization_energy_B', 'ionization_energy_A-B', 'ionization_energy_A/B', 'ionization_energy_max', 'ionization_energy_min', 'ionization_energy_avg', 'ionization_energy_weighted_norm_A+B', 'coordination_number_A', 'coordination_number_B', 'coordination_number_A-B', 'ratio_closest_A', 'ratio_closest_B', 'ratio_closest_max', 'ratio_closest_min', 'ratio_closest_avg', 'polyhedron_distortion_A', 'polyhedron_distortion_B', 'polyhedron_distortion_max', 'polyhedron_distortion_min', 'polyhedron_distortion_avg', 'CIF_radius_A', 'CIF_radius_B', 'CIF_radius_A/B', 'CIF_radius_A-B', 'CIF_radius_avg', 'CIF_radius_weighted_norm_A+B', 'Pauling_radius_CN12_A', 'Pauling_radius_CN12_B', 'Pauling_radius_CN12_A/B', 'Pauling_radius_CN12_A-B', 'Pauling_radius_CN12_avg', 'Pauling_radius_CN12_weighted_norm_A+B', 'Pauling_EN_A', 'Pauling_EN_B', 'Pauling_EN_A-B', 'Pauling_EN_A/B', 'Pauling_EN_max', 'Pauling_EN_min', 'Pauling_EN_avg', 'Pauling_EN_weighted_norm_A+B', 'Martynov_Batsanov_EN_A', 'Martynov_Batsanov_EN_B', 'Martynov_Batsanov_EN_A-B', 'Martynov_Batsanov_EN_A/B', 'Martynov_Batsanov_EN_max', 'Martynov_Batsanov_EN_min', 'Martynov_Batsanov_EN_avg', 'Martynov_Batsanov_EN_weighted_norm_A+B', 'melting_point_K_A', 'melting_point_K_B', 'melting_point_K_A-B', 'melting_point_K_A/B', 'melting_point_K_max', 'melting_point_K_min', 'melting_point_K_avg', 'melting_point_K_weighted_norm_A+B', 'density_A', 'density_B', 'density_A-B', 'density_A/B', 'density_max', 'density_min', 'density_avg', 'density_weighted_norm_A+B', 'specific_heat_A', 'specific_heat_B', 'specific_heat_A-B', 'specific_heat_A/B', 'specific_heat_max', 'specific_heat_min', 'specific_heat_avg', 'specific_heat_weighted_norm_A+B', 'cohesive_energy_A', 'cohesive_energy_B', 'cohesive_energy_A-B', 'cohesive_energy_A/B', 'cohesive_energy_max', 'cohesive_energy_min', 'cohesive_energy_avg', 'cohesive_energy_weighted_norm_A+B', 'bulk_modulus_A', 'bulk_modulus_B', 'bulk_modulus_A-B', 'bulk_modulus_A/B', 'bulk_modulus_max', 'bulk_modulus_min', 'bulk_modulus_avg', 'bulk_modulus_weighted_norm_A+B'], Score = 0.8000\n",
      "Iteration 14: Removed 'group_B', Remaining = ['group_A-B', 'Mendeleev_number_A', 'Mendeleev_number_B', 'Mendeleev_number_A-B', 'valencee_total_A', 'valencee_total_B', 'valencee_total_A-B', 'valencee_total_A+B', 'valencee_total_weighted_A+B', 'valencee_total_weighted_norm_A+B', 'unpaired_electrons_A', 'unpaired_electrons_B', 'unpaired_electrons_A-B', 'unpaired_electrons_A+B', 'unpaired_electrons_weighted_A+B', 'unpaired_electrons_weighted_norm_A+B', 'Gilman_A', 'Gilman_B', 'Gilman_A-B', 'Gilman_A+B', 'Gilman_weighted_A+B', 'Gilman_weighted_norm_A+B', 'Z_eff_A', 'Z_eff_B', 'Z_eff_A-B', 'Z_eff_A/B', 'Z_eff_max', 'Z_eff_min', 'Z_eff_avg', 'Z_eff_weighted_norm_A+B', 'ionization_energy_A', 'ionization_energy_B', 'ionization_energy_A-B', 'ionization_energy_A/B', 'ionization_energy_max', 'ionization_energy_min', 'ionization_energy_avg', 'ionization_energy_weighted_norm_A+B', 'coordination_number_A', 'coordination_number_B', 'coordination_number_A-B', 'ratio_closest_A', 'ratio_closest_B', 'ratio_closest_max', 'ratio_closest_min', 'ratio_closest_avg', 'polyhedron_distortion_A', 'polyhedron_distortion_B', 'polyhedron_distortion_max', 'polyhedron_distortion_min', 'polyhedron_distortion_avg', 'CIF_radius_A', 'CIF_radius_B', 'CIF_radius_A/B', 'CIF_radius_A-B', 'CIF_radius_avg', 'CIF_radius_weighted_norm_A+B', 'Pauling_radius_CN12_A', 'Pauling_radius_CN12_B', 'Pauling_radius_CN12_A/B', 'Pauling_radius_CN12_A-B', 'Pauling_radius_CN12_avg', 'Pauling_radius_CN12_weighted_norm_A+B', 'Pauling_EN_A', 'Pauling_EN_B', 'Pauling_EN_A-B', 'Pauling_EN_A/B', 'Pauling_EN_max', 'Pauling_EN_min', 'Pauling_EN_avg', 'Pauling_EN_weighted_norm_A+B', 'Martynov_Batsanov_EN_A', 'Martynov_Batsanov_EN_B', 'Martynov_Batsanov_EN_A-B', 'Martynov_Batsanov_EN_A/B', 'Martynov_Batsanov_EN_max', 'Martynov_Batsanov_EN_min', 'Martynov_Batsanov_EN_avg', 'Martynov_Batsanov_EN_weighted_norm_A+B', 'melting_point_K_A', 'melting_point_K_B', 'melting_point_K_A-B', 'melting_point_K_A/B', 'melting_point_K_max', 'melting_point_K_min', 'melting_point_K_avg', 'melting_point_K_weighted_norm_A+B', 'density_A', 'density_B', 'density_A-B', 'density_A/B', 'density_max', 'density_min', 'density_avg', 'density_weighted_norm_A+B', 'specific_heat_A', 'specific_heat_B', 'specific_heat_A-B', 'specific_heat_A/B', 'specific_heat_max', 'specific_heat_min', 'specific_heat_avg', 'specific_heat_weighted_norm_A+B', 'cohesive_energy_A', 'cohesive_energy_B', 'cohesive_energy_A-B', 'cohesive_energy_A/B', 'cohesive_energy_max', 'cohesive_energy_min', 'cohesive_energy_avg', 'cohesive_energy_weighted_norm_A+B', 'bulk_modulus_A', 'bulk_modulus_B', 'bulk_modulus_A-B', 'bulk_modulus_A/B', 'bulk_modulus_max', 'bulk_modulus_min', 'bulk_modulus_avg', 'bulk_modulus_weighted_norm_A+B'], Score = 0.8000\n",
      "Iteration 15: Removed 'group_A-B', Remaining = ['Mendeleev_number_A', 'Mendeleev_number_B', 'Mendeleev_number_A-B', 'valencee_total_A', 'valencee_total_B', 'valencee_total_A-B', 'valencee_total_A+B', 'valencee_total_weighted_A+B', 'valencee_total_weighted_norm_A+B', 'unpaired_electrons_A', 'unpaired_electrons_B', 'unpaired_electrons_A-B', 'unpaired_electrons_A+B', 'unpaired_electrons_weighted_A+B', 'unpaired_electrons_weighted_norm_A+B', 'Gilman_A', 'Gilman_B', 'Gilman_A-B', 'Gilman_A+B', 'Gilman_weighted_A+B', 'Gilman_weighted_norm_A+B', 'Z_eff_A', 'Z_eff_B', 'Z_eff_A-B', 'Z_eff_A/B', 'Z_eff_max', 'Z_eff_min', 'Z_eff_avg', 'Z_eff_weighted_norm_A+B', 'ionization_energy_A', 'ionization_energy_B', 'ionization_energy_A-B', 'ionization_energy_A/B', 'ionization_energy_max', 'ionization_energy_min', 'ionization_energy_avg', 'ionization_energy_weighted_norm_A+B', 'coordination_number_A', 'coordination_number_B', 'coordination_number_A-B', 'ratio_closest_A', 'ratio_closest_B', 'ratio_closest_max', 'ratio_closest_min', 'ratio_closest_avg', 'polyhedron_distortion_A', 'polyhedron_distortion_B', 'polyhedron_distortion_max', 'polyhedron_distortion_min', 'polyhedron_distortion_avg', 'CIF_radius_A', 'CIF_radius_B', 'CIF_radius_A/B', 'CIF_radius_A-B', 'CIF_radius_avg', 'CIF_radius_weighted_norm_A+B', 'Pauling_radius_CN12_A', 'Pauling_radius_CN12_B', 'Pauling_radius_CN12_A/B', 'Pauling_radius_CN12_A-B', 'Pauling_radius_CN12_avg', 'Pauling_radius_CN12_weighted_norm_A+B', 'Pauling_EN_A', 'Pauling_EN_B', 'Pauling_EN_A-B', 'Pauling_EN_A/B', 'Pauling_EN_max', 'Pauling_EN_min', 'Pauling_EN_avg', 'Pauling_EN_weighted_norm_A+B', 'Martynov_Batsanov_EN_A', 'Martynov_Batsanov_EN_B', 'Martynov_Batsanov_EN_A-B', 'Martynov_Batsanov_EN_A/B', 'Martynov_Batsanov_EN_max', 'Martynov_Batsanov_EN_min', 'Martynov_Batsanov_EN_avg', 'Martynov_Batsanov_EN_weighted_norm_A+B', 'melting_point_K_A', 'melting_point_K_B', 'melting_point_K_A-B', 'melting_point_K_A/B', 'melting_point_K_max', 'melting_point_K_min', 'melting_point_K_avg', 'melting_point_K_weighted_norm_A+B', 'density_A', 'density_B', 'density_A-B', 'density_A/B', 'density_max', 'density_min', 'density_avg', 'density_weighted_norm_A+B', 'specific_heat_A', 'specific_heat_B', 'specific_heat_A-B', 'specific_heat_A/B', 'specific_heat_max', 'specific_heat_min', 'specific_heat_avg', 'specific_heat_weighted_norm_A+B', 'cohesive_energy_A', 'cohesive_energy_B', 'cohesive_energy_A-B', 'cohesive_energy_A/B', 'cohesive_energy_max', 'cohesive_energy_min', 'cohesive_energy_avg', 'cohesive_energy_weighted_norm_A+B', 'bulk_modulus_A', 'bulk_modulus_B', 'bulk_modulus_A-B', 'bulk_modulus_A/B', 'bulk_modulus_max', 'bulk_modulus_min', 'bulk_modulus_avg', 'bulk_modulus_weighted_norm_A+B'], Score = 0.8000\n",
      "Iteration 16: Removed 'Mendeleev_number_A', Remaining = ['Mendeleev_number_B', 'Mendeleev_number_A-B', 'valencee_total_A', 'valencee_total_B', 'valencee_total_A-B', 'valencee_total_A+B', 'valencee_total_weighted_A+B', 'valencee_total_weighted_norm_A+B', 'unpaired_electrons_A', 'unpaired_electrons_B', 'unpaired_electrons_A-B', 'unpaired_electrons_A+B', 'unpaired_electrons_weighted_A+B', 'unpaired_electrons_weighted_norm_A+B', 'Gilman_A', 'Gilman_B', 'Gilman_A-B', 'Gilman_A+B', 'Gilman_weighted_A+B', 'Gilman_weighted_norm_A+B', 'Z_eff_A', 'Z_eff_B', 'Z_eff_A-B', 'Z_eff_A/B', 'Z_eff_max', 'Z_eff_min', 'Z_eff_avg', 'Z_eff_weighted_norm_A+B', 'ionization_energy_A', 'ionization_energy_B', 'ionization_energy_A-B', 'ionization_energy_A/B', 'ionization_energy_max', 'ionization_energy_min', 'ionization_energy_avg', 'ionization_energy_weighted_norm_A+B', 'coordination_number_A', 'coordination_number_B', 'coordination_number_A-B', 'ratio_closest_A', 'ratio_closest_B', 'ratio_closest_max', 'ratio_closest_min', 'ratio_closest_avg', 'polyhedron_distortion_A', 'polyhedron_distortion_B', 'polyhedron_distortion_max', 'polyhedron_distortion_min', 'polyhedron_distortion_avg', 'CIF_radius_A', 'CIF_radius_B', 'CIF_radius_A/B', 'CIF_radius_A-B', 'CIF_radius_avg', 'CIF_radius_weighted_norm_A+B', 'Pauling_radius_CN12_A', 'Pauling_radius_CN12_B', 'Pauling_radius_CN12_A/B', 'Pauling_radius_CN12_A-B', 'Pauling_radius_CN12_avg', 'Pauling_radius_CN12_weighted_norm_A+B', 'Pauling_EN_A', 'Pauling_EN_B', 'Pauling_EN_A-B', 'Pauling_EN_A/B', 'Pauling_EN_max', 'Pauling_EN_min', 'Pauling_EN_avg', 'Pauling_EN_weighted_norm_A+B', 'Martynov_Batsanov_EN_A', 'Martynov_Batsanov_EN_B', 'Martynov_Batsanov_EN_A-B', 'Martynov_Batsanov_EN_A/B', 'Martynov_Batsanov_EN_max', 'Martynov_Batsanov_EN_min', 'Martynov_Batsanov_EN_avg', 'Martynov_Batsanov_EN_weighted_norm_A+B', 'melting_point_K_A', 'melting_point_K_B', 'melting_point_K_A-B', 'melting_point_K_A/B', 'melting_point_K_max', 'melting_point_K_min', 'melting_point_K_avg', 'melting_point_K_weighted_norm_A+B', 'density_A', 'density_B', 'density_A-B', 'density_A/B', 'density_max', 'density_min', 'density_avg', 'density_weighted_norm_A+B', 'specific_heat_A', 'specific_heat_B', 'specific_heat_A-B', 'specific_heat_A/B', 'specific_heat_max', 'specific_heat_min', 'specific_heat_avg', 'specific_heat_weighted_norm_A+B', 'cohesive_energy_A', 'cohesive_energy_B', 'cohesive_energy_A-B', 'cohesive_energy_A/B', 'cohesive_energy_max', 'cohesive_energy_min', 'cohesive_energy_avg', 'cohesive_energy_weighted_norm_A+B', 'bulk_modulus_A', 'bulk_modulus_B', 'bulk_modulus_A-B', 'bulk_modulus_A/B', 'bulk_modulus_max', 'bulk_modulus_min', 'bulk_modulus_avg', 'bulk_modulus_weighted_norm_A+B'], Score = 0.8000\n",
      "Iteration 17: Removed 'Mendeleev_number_B', Remaining = ['Mendeleev_number_A-B', 'valencee_total_A', 'valencee_total_B', 'valencee_total_A-B', 'valencee_total_A+B', 'valencee_total_weighted_A+B', 'valencee_total_weighted_norm_A+B', 'unpaired_electrons_A', 'unpaired_electrons_B', 'unpaired_electrons_A-B', 'unpaired_electrons_A+B', 'unpaired_electrons_weighted_A+B', 'unpaired_electrons_weighted_norm_A+B', 'Gilman_A', 'Gilman_B', 'Gilman_A-B', 'Gilman_A+B', 'Gilman_weighted_A+B', 'Gilman_weighted_norm_A+B', 'Z_eff_A', 'Z_eff_B', 'Z_eff_A-B', 'Z_eff_A/B', 'Z_eff_max', 'Z_eff_min', 'Z_eff_avg', 'Z_eff_weighted_norm_A+B', 'ionization_energy_A', 'ionization_energy_B', 'ionization_energy_A-B', 'ionization_energy_A/B', 'ionization_energy_max', 'ionization_energy_min', 'ionization_energy_avg', 'ionization_energy_weighted_norm_A+B', 'coordination_number_A', 'coordination_number_B', 'coordination_number_A-B', 'ratio_closest_A', 'ratio_closest_B', 'ratio_closest_max', 'ratio_closest_min', 'ratio_closest_avg', 'polyhedron_distortion_A', 'polyhedron_distortion_B', 'polyhedron_distortion_max', 'polyhedron_distortion_min', 'polyhedron_distortion_avg', 'CIF_radius_A', 'CIF_radius_B', 'CIF_radius_A/B', 'CIF_radius_A-B', 'CIF_radius_avg', 'CIF_radius_weighted_norm_A+B', 'Pauling_radius_CN12_A', 'Pauling_radius_CN12_B', 'Pauling_radius_CN12_A/B', 'Pauling_radius_CN12_A-B', 'Pauling_radius_CN12_avg', 'Pauling_radius_CN12_weighted_norm_A+B', 'Pauling_EN_A', 'Pauling_EN_B', 'Pauling_EN_A-B', 'Pauling_EN_A/B', 'Pauling_EN_max', 'Pauling_EN_min', 'Pauling_EN_avg', 'Pauling_EN_weighted_norm_A+B', 'Martynov_Batsanov_EN_A', 'Martynov_Batsanov_EN_B', 'Martynov_Batsanov_EN_A-B', 'Martynov_Batsanov_EN_A/B', 'Martynov_Batsanov_EN_max', 'Martynov_Batsanov_EN_min', 'Martynov_Batsanov_EN_avg', 'Martynov_Batsanov_EN_weighted_norm_A+B', 'melting_point_K_A', 'melting_point_K_B', 'melting_point_K_A-B', 'melting_point_K_A/B', 'melting_point_K_max', 'melting_point_K_min', 'melting_point_K_avg', 'melting_point_K_weighted_norm_A+B', 'density_A', 'density_B', 'density_A-B', 'density_A/B', 'density_max', 'density_min', 'density_avg', 'density_weighted_norm_A+B', 'specific_heat_A', 'specific_heat_B', 'specific_heat_A-B', 'specific_heat_A/B', 'specific_heat_max', 'specific_heat_min', 'specific_heat_avg', 'specific_heat_weighted_norm_A+B', 'cohesive_energy_A', 'cohesive_energy_B', 'cohesive_energy_A-B', 'cohesive_energy_A/B', 'cohesive_energy_max', 'cohesive_energy_min', 'cohesive_energy_avg', 'cohesive_energy_weighted_norm_A+B', 'bulk_modulus_A', 'bulk_modulus_B', 'bulk_modulus_A-B', 'bulk_modulus_A/B', 'bulk_modulus_max', 'bulk_modulus_min', 'bulk_modulus_avg', 'bulk_modulus_weighted_norm_A+B'], Score = 0.8000\n",
      "Iteration 18: Removed 'Mendeleev_number_A-B', Remaining = ['valencee_total_A', 'valencee_total_B', 'valencee_total_A-B', 'valencee_total_A+B', 'valencee_total_weighted_A+B', 'valencee_total_weighted_norm_A+B', 'unpaired_electrons_A', 'unpaired_electrons_B', 'unpaired_electrons_A-B', 'unpaired_electrons_A+B', 'unpaired_electrons_weighted_A+B', 'unpaired_electrons_weighted_norm_A+B', 'Gilman_A', 'Gilman_B', 'Gilman_A-B', 'Gilman_A+B', 'Gilman_weighted_A+B', 'Gilman_weighted_norm_A+B', 'Z_eff_A', 'Z_eff_B', 'Z_eff_A-B', 'Z_eff_A/B', 'Z_eff_max', 'Z_eff_min', 'Z_eff_avg', 'Z_eff_weighted_norm_A+B', 'ionization_energy_A', 'ionization_energy_B', 'ionization_energy_A-B', 'ionization_energy_A/B', 'ionization_energy_max', 'ionization_energy_min', 'ionization_energy_avg', 'ionization_energy_weighted_norm_A+B', 'coordination_number_A', 'coordination_number_B', 'coordination_number_A-B', 'ratio_closest_A', 'ratio_closest_B', 'ratio_closest_max', 'ratio_closest_min', 'ratio_closest_avg', 'polyhedron_distortion_A', 'polyhedron_distortion_B', 'polyhedron_distortion_max', 'polyhedron_distortion_min', 'polyhedron_distortion_avg', 'CIF_radius_A', 'CIF_radius_B', 'CIF_radius_A/B', 'CIF_radius_A-B', 'CIF_radius_avg', 'CIF_radius_weighted_norm_A+B', 'Pauling_radius_CN12_A', 'Pauling_radius_CN12_B', 'Pauling_radius_CN12_A/B', 'Pauling_radius_CN12_A-B', 'Pauling_radius_CN12_avg', 'Pauling_radius_CN12_weighted_norm_A+B', 'Pauling_EN_A', 'Pauling_EN_B', 'Pauling_EN_A-B', 'Pauling_EN_A/B', 'Pauling_EN_max', 'Pauling_EN_min', 'Pauling_EN_avg', 'Pauling_EN_weighted_norm_A+B', 'Martynov_Batsanov_EN_A', 'Martynov_Batsanov_EN_B', 'Martynov_Batsanov_EN_A-B', 'Martynov_Batsanov_EN_A/B', 'Martynov_Batsanov_EN_max', 'Martynov_Batsanov_EN_min', 'Martynov_Batsanov_EN_avg', 'Martynov_Batsanov_EN_weighted_norm_A+B', 'melting_point_K_A', 'melting_point_K_B', 'melting_point_K_A-B', 'melting_point_K_A/B', 'melting_point_K_max', 'melting_point_K_min', 'melting_point_K_avg', 'melting_point_K_weighted_norm_A+B', 'density_A', 'density_B', 'density_A-B', 'density_A/B', 'density_max', 'density_min', 'density_avg', 'density_weighted_norm_A+B', 'specific_heat_A', 'specific_heat_B', 'specific_heat_A-B', 'specific_heat_A/B', 'specific_heat_max', 'specific_heat_min', 'specific_heat_avg', 'specific_heat_weighted_norm_A+B', 'cohesive_energy_A', 'cohesive_energy_B', 'cohesive_energy_A-B', 'cohesive_energy_A/B', 'cohesive_energy_max', 'cohesive_energy_min', 'cohesive_energy_avg', 'cohesive_energy_weighted_norm_A+B', 'bulk_modulus_A', 'bulk_modulus_B', 'bulk_modulus_A-B', 'bulk_modulus_A/B', 'bulk_modulus_max', 'bulk_modulus_min', 'bulk_modulus_avg', 'bulk_modulus_weighted_norm_A+B'], Score = 0.8000\n",
      "Iteration 19: Removed 'valencee_total_A', Remaining = ['valencee_total_B', 'valencee_total_A-B', 'valencee_total_A+B', 'valencee_total_weighted_A+B', 'valencee_total_weighted_norm_A+B', 'unpaired_electrons_A', 'unpaired_electrons_B', 'unpaired_electrons_A-B', 'unpaired_electrons_A+B', 'unpaired_electrons_weighted_A+B', 'unpaired_electrons_weighted_norm_A+B', 'Gilman_A', 'Gilman_B', 'Gilman_A-B', 'Gilman_A+B', 'Gilman_weighted_A+B', 'Gilman_weighted_norm_A+B', 'Z_eff_A', 'Z_eff_B', 'Z_eff_A-B', 'Z_eff_A/B', 'Z_eff_max', 'Z_eff_min', 'Z_eff_avg', 'Z_eff_weighted_norm_A+B', 'ionization_energy_A', 'ionization_energy_B', 'ionization_energy_A-B', 'ionization_energy_A/B', 'ionization_energy_max', 'ionization_energy_min', 'ionization_energy_avg', 'ionization_energy_weighted_norm_A+B', 'coordination_number_A', 'coordination_number_B', 'coordination_number_A-B', 'ratio_closest_A', 'ratio_closest_B', 'ratio_closest_max', 'ratio_closest_min', 'ratio_closest_avg', 'polyhedron_distortion_A', 'polyhedron_distortion_B', 'polyhedron_distortion_max', 'polyhedron_distortion_min', 'polyhedron_distortion_avg', 'CIF_radius_A', 'CIF_radius_B', 'CIF_radius_A/B', 'CIF_radius_A-B', 'CIF_radius_avg', 'CIF_radius_weighted_norm_A+B', 'Pauling_radius_CN12_A', 'Pauling_radius_CN12_B', 'Pauling_radius_CN12_A/B', 'Pauling_radius_CN12_A-B', 'Pauling_radius_CN12_avg', 'Pauling_radius_CN12_weighted_norm_A+B', 'Pauling_EN_A', 'Pauling_EN_B', 'Pauling_EN_A-B', 'Pauling_EN_A/B', 'Pauling_EN_max', 'Pauling_EN_min', 'Pauling_EN_avg', 'Pauling_EN_weighted_norm_A+B', 'Martynov_Batsanov_EN_A', 'Martynov_Batsanov_EN_B', 'Martynov_Batsanov_EN_A-B', 'Martynov_Batsanov_EN_A/B', 'Martynov_Batsanov_EN_max', 'Martynov_Batsanov_EN_min', 'Martynov_Batsanov_EN_avg', 'Martynov_Batsanov_EN_weighted_norm_A+B', 'melting_point_K_A', 'melting_point_K_B', 'melting_point_K_A-B', 'melting_point_K_A/B', 'melting_point_K_max', 'melting_point_K_min', 'melting_point_K_avg', 'melting_point_K_weighted_norm_A+B', 'density_A', 'density_B', 'density_A-B', 'density_A/B', 'density_max', 'density_min', 'density_avg', 'density_weighted_norm_A+B', 'specific_heat_A', 'specific_heat_B', 'specific_heat_A-B', 'specific_heat_A/B', 'specific_heat_max', 'specific_heat_min', 'specific_heat_avg', 'specific_heat_weighted_norm_A+B', 'cohesive_energy_A', 'cohesive_energy_B', 'cohesive_energy_A-B', 'cohesive_energy_A/B', 'cohesive_energy_max', 'cohesive_energy_min', 'cohesive_energy_avg', 'cohesive_energy_weighted_norm_A+B', 'bulk_modulus_A', 'bulk_modulus_B', 'bulk_modulus_A-B', 'bulk_modulus_A/B', 'bulk_modulus_max', 'bulk_modulus_min', 'bulk_modulus_avg', 'bulk_modulus_weighted_norm_A+B'], Score = 0.8000\n",
      "Iteration 20: Removed 'valencee_total_B', Remaining = ['valencee_total_A-B', 'valencee_total_A+B', 'valencee_total_weighted_A+B', 'valencee_total_weighted_norm_A+B', 'unpaired_electrons_A', 'unpaired_electrons_B', 'unpaired_electrons_A-B', 'unpaired_electrons_A+B', 'unpaired_electrons_weighted_A+B', 'unpaired_electrons_weighted_norm_A+B', 'Gilman_A', 'Gilman_B', 'Gilman_A-B', 'Gilman_A+B', 'Gilman_weighted_A+B', 'Gilman_weighted_norm_A+B', 'Z_eff_A', 'Z_eff_B', 'Z_eff_A-B', 'Z_eff_A/B', 'Z_eff_max', 'Z_eff_min', 'Z_eff_avg', 'Z_eff_weighted_norm_A+B', 'ionization_energy_A', 'ionization_energy_B', 'ionization_energy_A-B', 'ionization_energy_A/B', 'ionization_energy_max', 'ionization_energy_min', 'ionization_energy_avg', 'ionization_energy_weighted_norm_A+B', 'coordination_number_A', 'coordination_number_B', 'coordination_number_A-B', 'ratio_closest_A', 'ratio_closest_B', 'ratio_closest_max', 'ratio_closest_min', 'ratio_closest_avg', 'polyhedron_distortion_A', 'polyhedron_distortion_B', 'polyhedron_distortion_max', 'polyhedron_distortion_min', 'polyhedron_distortion_avg', 'CIF_radius_A', 'CIF_radius_B', 'CIF_radius_A/B', 'CIF_radius_A-B', 'CIF_radius_avg', 'CIF_radius_weighted_norm_A+B', 'Pauling_radius_CN12_A', 'Pauling_radius_CN12_B', 'Pauling_radius_CN12_A/B', 'Pauling_radius_CN12_A-B', 'Pauling_radius_CN12_avg', 'Pauling_radius_CN12_weighted_norm_A+B', 'Pauling_EN_A', 'Pauling_EN_B', 'Pauling_EN_A-B', 'Pauling_EN_A/B', 'Pauling_EN_max', 'Pauling_EN_min', 'Pauling_EN_avg', 'Pauling_EN_weighted_norm_A+B', 'Martynov_Batsanov_EN_A', 'Martynov_Batsanov_EN_B', 'Martynov_Batsanov_EN_A-B', 'Martynov_Batsanov_EN_A/B', 'Martynov_Batsanov_EN_max', 'Martynov_Batsanov_EN_min', 'Martynov_Batsanov_EN_avg', 'Martynov_Batsanov_EN_weighted_norm_A+B', 'melting_point_K_A', 'melting_point_K_B', 'melting_point_K_A-B', 'melting_point_K_A/B', 'melting_point_K_max', 'melting_point_K_min', 'melting_point_K_avg', 'melting_point_K_weighted_norm_A+B', 'density_A', 'density_B', 'density_A-B', 'density_A/B', 'density_max', 'density_min', 'density_avg', 'density_weighted_norm_A+B', 'specific_heat_A', 'specific_heat_B', 'specific_heat_A-B', 'specific_heat_A/B', 'specific_heat_max', 'specific_heat_min', 'specific_heat_avg', 'specific_heat_weighted_norm_A+B', 'cohesive_energy_A', 'cohesive_energy_B', 'cohesive_energy_A-B', 'cohesive_energy_A/B', 'cohesive_energy_max', 'cohesive_energy_min', 'cohesive_energy_avg', 'cohesive_energy_weighted_norm_A+B', 'bulk_modulus_A', 'bulk_modulus_B', 'bulk_modulus_A-B', 'bulk_modulus_A/B', 'bulk_modulus_max', 'bulk_modulus_min', 'bulk_modulus_avg', 'bulk_modulus_weighted_norm_A+B'], Score = 0.8000\n",
      "Iteration 21: Removed 'valencee_total_A-B', Remaining = ['valencee_total_A+B', 'valencee_total_weighted_A+B', 'valencee_total_weighted_norm_A+B', 'unpaired_electrons_A', 'unpaired_electrons_B', 'unpaired_electrons_A-B', 'unpaired_electrons_A+B', 'unpaired_electrons_weighted_A+B', 'unpaired_electrons_weighted_norm_A+B', 'Gilman_A', 'Gilman_B', 'Gilman_A-B', 'Gilman_A+B', 'Gilman_weighted_A+B', 'Gilman_weighted_norm_A+B', 'Z_eff_A', 'Z_eff_B', 'Z_eff_A-B', 'Z_eff_A/B', 'Z_eff_max', 'Z_eff_min', 'Z_eff_avg', 'Z_eff_weighted_norm_A+B', 'ionization_energy_A', 'ionization_energy_B', 'ionization_energy_A-B', 'ionization_energy_A/B', 'ionization_energy_max', 'ionization_energy_min', 'ionization_energy_avg', 'ionization_energy_weighted_norm_A+B', 'coordination_number_A', 'coordination_number_B', 'coordination_number_A-B', 'ratio_closest_A', 'ratio_closest_B', 'ratio_closest_max', 'ratio_closest_min', 'ratio_closest_avg', 'polyhedron_distortion_A', 'polyhedron_distortion_B', 'polyhedron_distortion_max', 'polyhedron_distortion_min', 'polyhedron_distortion_avg', 'CIF_radius_A', 'CIF_radius_B', 'CIF_radius_A/B', 'CIF_radius_A-B', 'CIF_radius_avg', 'CIF_radius_weighted_norm_A+B', 'Pauling_radius_CN12_A', 'Pauling_radius_CN12_B', 'Pauling_radius_CN12_A/B', 'Pauling_radius_CN12_A-B', 'Pauling_radius_CN12_avg', 'Pauling_radius_CN12_weighted_norm_A+B', 'Pauling_EN_A', 'Pauling_EN_B', 'Pauling_EN_A-B', 'Pauling_EN_A/B', 'Pauling_EN_max', 'Pauling_EN_min', 'Pauling_EN_avg', 'Pauling_EN_weighted_norm_A+B', 'Martynov_Batsanov_EN_A', 'Martynov_Batsanov_EN_B', 'Martynov_Batsanov_EN_A-B', 'Martynov_Batsanov_EN_A/B', 'Martynov_Batsanov_EN_max', 'Martynov_Batsanov_EN_min', 'Martynov_Batsanov_EN_avg', 'Martynov_Batsanov_EN_weighted_norm_A+B', 'melting_point_K_A', 'melting_point_K_B', 'melting_point_K_A-B', 'melting_point_K_A/B', 'melting_point_K_max', 'melting_point_K_min', 'melting_point_K_avg', 'melting_point_K_weighted_norm_A+B', 'density_A', 'density_B', 'density_A-B', 'density_A/B', 'density_max', 'density_min', 'density_avg', 'density_weighted_norm_A+B', 'specific_heat_A', 'specific_heat_B', 'specific_heat_A-B', 'specific_heat_A/B', 'specific_heat_max', 'specific_heat_min', 'specific_heat_avg', 'specific_heat_weighted_norm_A+B', 'cohesive_energy_A', 'cohesive_energy_B', 'cohesive_energy_A-B', 'cohesive_energy_A/B', 'cohesive_energy_max', 'cohesive_energy_min', 'cohesive_energy_avg', 'cohesive_energy_weighted_norm_A+B', 'bulk_modulus_A', 'bulk_modulus_B', 'bulk_modulus_A-B', 'bulk_modulus_A/B', 'bulk_modulus_max', 'bulk_modulus_min', 'bulk_modulus_avg', 'bulk_modulus_weighted_norm_A+B'], Score = 0.8000\n",
      "Iteration 22: Removed 'unpaired_electrons_B', Remaining = ['valencee_total_A+B', 'valencee_total_weighted_A+B', 'valencee_total_weighted_norm_A+B', 'unpaired_electrons_A', 'unpaired_electrons_A-B', 'unpaired_electrons_A+B', 'unpaired_electrons_weighted_A+B', 'unpaired_electrons_weighted_norm_A+B', 'Gilman_A', 'Gilman_B', 'Gilman_A-B', 'Gilman_A+B', 'Gilman_weighted_A+B', 'Gilman_weighted_norm_A+B', 'Z_eff_A', 'Z_eff_B', 'Z_eff_A-B', 'Z_eff_A/B', 'Z_eff_max', 'Z_eff_min', 'Z_eff_avg', 'Z_eff_weighted_norm_A+B', 'ionization_energy_A', 'ionization_energy_B', 'ionization_energy_A-B', 'ionization_energy_A/B', 'ionization_energy_max', 'ionization_energy_min', 'ionization_energy_avg', 'ionization_energy_weighted_norm_A+B', 'coordination_number_A', 'coordination_number_B', 'coordination_number_A-B', 'ratio_closest_A', 'ratio_closest_B', 'ratio_closest_max', 'ratio_closest_min', 'ratio_closest_avg', 'polyhedron_distortion_A', 'polyhedron_distortion_B', 'polyhedron_distortion_max', 'polyhedron_distortion_min', 'polyhedron_distortion_avg', 'CIF_radius_A', 'CIF_radius_B', 'CIF_radius_A/B', 'CIF_radius_A-B', 'CIF_radius_avg', 'CIF_radius_weighted_norm_A+B', 'Pauling_radius_CN12_A', 'Pauling_radius_CN12_B', 'Pauling_radius_CN12_A/B', 'Pauling_radius_CN12_A-B', 'Pauling_radius_CN12_avg', 'Pauling_radius_CN12_weighted_norm_A+B', 'Pauling_EN_A', 'Pauling_EN_B', 'Pauling_EN_A-B', 'Pauling_EN_A/B', 'Pauling_EN_max', 'Pauling_EN_min', 'Pauling_EN_avg', 'Pauling_EN_weighted_norm_A+B', 'Martynov_Batsanov_EN_A', 'Martynov_Batsanov_EN_B', 'Martynov_Batsanov_EN_A-B', 'Martynov_Batsanov_EN_A/B', 'Martynov_Batsanov_EN_max', 'Martynov_Batsanov_EN_min', 'Martynov_Batsanov_EN_avg', 'Martynov_Batsanov_EN_weighted_norm_A+B', 'melting_point_K_A', 'melting_point_K_B', 'melting_point_K_A-B', 'melting_point_K_A/B', 'melting_point_K_max', 'melting_point_K_min', 'melting_point_K_avg', 'melting_point_K_weighted_norm_A+B', 'density_A', 'density_B', 'density_A-B', 'density_A/B', 'density_max', 'density_min', 'density_avg', 'density_weighted_norm_A+B', 'specific_heat_A', 'specific_heat_B', 'specific_heat_A-B', 'specific_heat_A/B', 'specific_heat_max', 'specific_heat_min', 'specific_heat_avg', 'specific_heat_weighted_norm_A+B', 'cohesive_energy_A', 'cohesive_energy_B', 'cohesive_energy_A-B', 'cohesive_energy_A/B', 'cohesive_energy_max', 'cohesive_energy_min', 'cohesive_energy_avg', 'cohesive_energy_weighted_norm_A+B', 'bulk_modulus_A', 'bulk_modulus_B', 'bulk_modulus_A-B', 'bulk_modulus_A/B', 'bulk_modulus_max', 'bulk_modulus_min', 'bulk_modulus_avg', 'bulk_modulus_weighted_norm_A+B'], Score = 0.8250\n",
      "Iteration 23: Removed 'valencee_total_A+B', Remaining = ['valencee_total_weighted_A+B', 'valencee_total_weighted_norm_A+B', 'unpaired_electrons_A', 'unpaired_electrons_A-B', 'unpaired_electrons_A+B', 'unpaired_electrons_weighted_A+B', 'unpaired_electrons_weighted_norm_A+B', 'Gilman_A', 'Gilman_B', 'Gilman_A-B', 'Gilman_A+B', 'Gilman_weighted_A+B', 'Gilman_weighted_norm_A+B', 'Z_eff_A', 'Z_eff_B', 'Z_eff_A-B', 'Z_eff_A/B', 'Z_eff_max', 'Z_eff_min', 'Z_eff_avg', 'Z_eff_weighted_norm_A+B', 'ionization_energy_A', 'ionization_energy_B', 'ionization_energy_A-B', 'ionization_energy_A/B', 'ionization_energy_max', 'ionization_energy_min', 'ionization_energy_avg', 'ionization_energy_weighted_norm_A+B', 'coordination_number_A', 'coordination_number_B', 'coordination_number_A-B', 'ratio_closest_A', 'ratio_closest_B', 'ratio_closest_max', 'ratio_closest_min', 'ratio_closest_avg', 'polyhedron_distortion_A', 'polyhedron_distortion_B', 'polyhedron_distortion_max', 'polyhedron_distortion_min', 'polyhedron_distortion_avg', 'CIF_radius_A', 'CIF_radius_B', 'CIF_radius_A/B', 'CIF_radius_A-B', 'CIF_radius_avg', 'CIF_radius_weighted_norm_A+B', 'Pauling_radius_CN12_A', 'Pauling_radius_CN12_B', 'Pauling_radius_CN12_A/B', 'Pauling_radius_CN12_A-B', 'Pauling_radius_CN12_avg', 'Pauling_radius_CN12_weighted_norm_A+B', 'Pauling_EN_A', 'Pauling_EN_B', 'Pauling_EN_A-B', 'Pauling_EN_A/B', 'Pauling_EN_max', 'Pauling_EN_min', 'Pauling_EN_avg', 'Pauling_EN_weighted_norm_A+B', 'Martynov_Batsanov_EN_A', 'Martynov_Batsanov_EN_B', 'Martynov_Batsanov_EN_A-B', 'Martynov_Batsanov_EN_A/B', 'Martynov_Batsanov_EN_max', 'Martynov_Batsanov_EN_min', 'Martynov_Batsanov_EN_avg', 'Martynov_Batsanov_EN_weighted_norm_A+B', 'melting_point_K_A', 'melting_point_K_B', 'melting_point_K_A-B', 'melting_point_K_A/B', 'melting_point_K_max', 'melting_point_K_min', 'melting_point_K_avg', 'melting_point_K_weighted_norm_A+B', 'density_A', 'density_B', 'density_A-B', 'density_A/B', 'density_max', 'density_min', 'density_avg', 'density_weighted_norm_A+B', 'specific_heat_A', 'specific_heat_B', 'specific_heat_A-B', 'specific_heat_A/B', 'specific_heat_max', 'specific_heat_min', 'specific_heat_avg', 'specific_heat_weighted_norm_A+B', 'cohesive_energy_A', 'cohesive_energy_B', 'cohesive_energy_A-B', 'cohesive_energy_A/B', 'cohesive_energy_max', 'cohesive_energy_min', 'cohesive_energy_avg', 'cohesive_energy_weighted_norm_A+B', 'bulk_modulus_A', 'bulk_modulus_B', 'bulk_modulus_A-B', 'bulk_modulus_A/B', 'bulk_modulus_max', 'bulk_modulus_min', 'bulk_modulus_avg', 'bulk_modulus_weighted_norm_A+B'], Score = 0.8250\n",
      "Iteration 24: Removed 'unpaired_electrons_A', Remaining = ['valencee_total_weighted_A+B', 'valencee_total_weighted_norm_A+B', 'unpaired_electrons_A-B', 'unpaired_electrons_A+B', 'unpaired_electrons_weighted_A+B', 'unpaired_electrons_weighted_norm_A+B', 'Gilman_A', 'Gilman_B', 'Gilman_A-B', 'Gilman_A+B', 'Gilman_weighted_A+B', 'Gilman_weighted_norm_A+B', 'Z_eff_A', 'Z_eff_B', 'Z_eff_A-B', 'Z_eff_A/B', 'Z_eff_max', 'Z_eff_min', 'Z_eff_avg', 'Z_eff_weighted_norm_A+B', 'ionization_energy_A', 'ionization_energy_B', 'ionization_energy_A-B', 'ionization_energy_A/B', 'ionization_energy_max', 'ionization_energy_min', 'ionization_energy_avg', 'ionization_energy_weighted_norm_A+B', 'coordination_number_A', 'coordination_number_B', 'coordination_number_A-B', 'ratio_closest_A', 'ratio_closest_B', 'ratio_closest_max', 'ratio_closest_min', 'ratio_closest_avg', 'polyhedron_distortion_A', 'polyhedron_distortion_B', 'polyhedron_distortion_max', 'polyhedron_distortion_min', 'polyhedron_distortion_avg', 'CIF_radius_A', 'CIF_radius_B', 'CIF_radius_A/B', 'CIF_radius_A-B', 'CIF_radius_avg', 'CIF_radius_weighted_norm_A+B', 'Pauling_radius_CN12_A', 'Pauling_radius_CN12_B', 'Pauling_radius_CN12_A/B', 'Pauling_radius_CN12_A-B', 'Pauling_radius_CN12_avg', 'Pauling_radius_CN12_weighted_norm_A+B', 'Pauling_EN_A', 'Pauling_EN_B', 'Pauling_EN_A-B', 'Pauling_EN_A/B', 'Pauling_EN_max', 'Pauling_EN_min', 'Pauling_EN_avg', 'Pauling_EN_weighted_norm_A+B', 'Martynov_Batsanov_EN_A', 'Martynov_Batsanov_EN_B', 'Martynov_Batsanov_EN_A-B', 'Martynov_Batsanov_EN_A/B', 'Martynov_Batsanov_EN_max', 'Martynov_Batsanov_EN_min', 'Martynov_Batsanov_EN_avg', 'Martynov_Batsanov_EN_weighted_norm_A+B', 'melting_point_K_A', 'melting_point_K_B', 'melting_point_K_A-B', 'melting_point_K_A/B', 'melting_point_K_max', 'melting_point_K_min', 'melting_point_K_avg', 'melting_point_K_weighted_norm_A+B', 'density_A', 'density_B', 'density_A-B', 'density_A/B', 'density_max', 'density_min', 'density_avg', 'density_weighted_norm_A+B', 'specific_heat_A', 'specific_heat_B', 'specific_heat_A-B', 'specific_heat_A/B', 'specific_heat_max', 'specific_heat_min', 'specific_heat_avg', 'specific_heat_weighted_norm_A+B', 'cohesive_energy_A', 'cohesive_energy_B', 'cohesive_energy_A-B', 'cohesive_energy_A/B', 'cohesive_energy_max', 'cohesive_energy_min', 'cohesive_energy_avg', 'cohesive_energy_weighted_norm_A+B', 'bulk_modulus_A', 'bulk_modulus_B', 'bulk_modulus_A-B', 'bulk_modulus_A/B', 'bulk_modulus_max', 'bulk_modulus_min', 'bulk_modulus_avg', 'bulk_modulus_weighted_norm_A+B'], Score = 0.8250\n",
      "Iteration 25: Removed 'unpaired_electrons_A-B', Remaining = ['valencee_total_weighted_A+B', 'valencee_total_weighted_norm_A+B', 'unpaired_electrons_A+B', 'unpaired_electrons_weighted_A+B', 'unpaired_electrons_weighted_norm_A+B', 'Gilman_A', 'Gilman_B', 'Gilman_A-B', 'Gilman_A+B', 'Gilman_weighted_A+B', 'Gilman_weighted_norm_A+B', 'Z_eff_A', 'Z_eff_B', 'Z_eff_A-B', 'Z_eff_A/B', 'Z_eff_max', 'Z_eff_min', 'Z_eff_avg', 'Z_eff_weighted_norm_A+B', 'ionization_energy_A', 'ionization_energy_B', 'ionization_energy_A-B', 'ionization_energy_A/B', 'ionization_energy_max', 'ionization_energy_min', 'ionization_energy_avg', 'ionization_energy_weighted_norm_A+B', 'coordination_number_A', 'coordination_number_B', 'coordination_number_A-B', 'ratio_closest_A', 'ratio_closest_B', 'ratio_closest_max', 'ratio_closest_min', 'ratio_closest_avg', 'polyhedron_distortion_A', 'polyhedron_distortion_B', 'polyhedron_distortion_max', 'polyhedron_distortion_min', 'polyhedron_distortion_avg', 'CIF_radius_A', 'CIF_radius_B', 'CIF_radius_A/B', 'CIF_radius_A-B', 'CIF_radius_avg', 'CIF_radius_weighted_norm_A+B', 'Pauling_radius_CN12_A', 'Pauling_radius_CN12_B', 'Pauling_radius_CN12_A/B', 'Pauling_radius_CN12_A-B', 'Pauling_radius_CN12_avg', 'Pauling_radius_CN12_weighted_norm_A+B', 'Pauling_EN_A', 'Pauling_EN_B', 'Pauling_EN_A-B', 'Pauling_EN_A/B', 'Pauling_EN_max', 'Pauling_EN_min', 'Pauling_EN_avg', 'Pauling_EN_weighted_norm_A+B', 'Martynov_Batsanov_EN_A', 'Martynov_Batsanov_EN_B', 'Martynov_Batsanov_EN_A-B', 'Martynov_Batsanov_EN_A/B', 'Martynov_Batsanov_EN_max', 'Martynov_Batsanov_EN_min', 'Martynov_Batsanov_EN_avg', 'Martynov_Batsanov_EN_weighted_norm_A+B', 'melting_point_K_A', 'melting_point_K_B', 'melting_point_K_A-B', 'melting_point_K_A/B', 'melting_point_K_max', 'melting_point_K_min', 'melting_point_K_avg', 'melting_point_K_weighted_norm_A+B', 'density_A', 'density_B', 'density_A-B', 'density_A/B', 'density_max', 'density_min', 'density_avg', 'density_weighted_norm_A+B', 'specific_heat_A', 'specific_heat_B', 'specific_heat_A-B', 'specific_heat_A/B', 'specific_heat_max', 'specific_heat_min', 'specific_heat_avg', 'specific_heat_weighted_norm_A+B', 'cohesive_energy_A', 'cohesive_energy_B', 'cohesive_energy_A-B', 'cohesive_energy_A/B', 'cohesive_energy_max', 'cohesive_energy_min', 'cohesive_energy_avg', 'cohesive_energy_weighted_norm_A+B', 'bulk_modulus_A', 'bulk_modulus_B', 'bulk_modulus_A-B', 'bulk_modulus_A/B', 'bulk_modulus_max', 'bulk_modulus_min', 'bulk_modulus_avg', 'bulk_modulus_weighted_norm_A+B'], Score = 0.8250\n",
      "Iteration 26: Removed 'ratio_closest_max', Remaining = ['valencee_total_weighted_A+B', 'valencee_total_weighted_norm_A+B', 'unpaired_electrons_A+B', 'unpaired_electrons_weighted_A+B', 'unpaired_electrons_weighted_norm_A+B', 'Gilman_A', 'Gilman_B', 'Gilman_A-B', 'Gilman_A+B', 'Gilman_weighted_A+B', 'Gilman_weighted_norm_A+B', 'Z_eff_A', 'Z_eff_B', 'Z_eff_A-B', 'Z_eff_A/B', 'Z_eff_max', 'Z_eff_min', 'Z_eff_avg', 'Z_eff_weighted_norm_A+B', 'ionization_energy_A', 'ionization_energy_B', 'ionization_energy_A-B', 'ionization_energy_A/B', 'ionization_energy_max', 'ionization_energy_min', 'ionization_energy_avg', 'ionization_energy_weighted_norm_A+B', 'coordination_number_A', 'coordination_number_B', 'coordination_number_A-B', 'ratio_closest_A', 'ratio_closest_B', 'ratio_closest_min', 'ratio_closest_avg', 'polyhedron_distortion_A', 'polyhedron_distortion_B', 'polyhedron_distortion_max', 'polyhedron_distortion_min', 'polyhedron_distortion_avg', 'CIF_radius_A', 'CIF_radius_B', 'CIF_radius_A/B', 'CIF_radius_A-B', 'CIF_radius_avg', 'CIF_radius_weighted_norm_A+B', 'Pauling_radius_CN12_A', 'Pauling_radius_CN12_B', 'Pauling_radius_CN12_A/B', 'Pauling_radius_CN12_A-B', 'Pauling_radius_CN12_avg', 'Pauling_radius_CN12_weighted_norm_A+B', 'Pauling_EN_A', 'Pauling_EN_B', 'Pauling_EN_A-B', 'Pauling_EN_A/B', 'Pauling_EN_max', 'Pauling_EN_min', 'Pauling_EN_avg', 'Pauling_EN_weighted_norm_A+B', 'Martynov_Batsanov_EN_A', 'Martynov_Batsanov_EN_B', 'Martynov_Batsanov_EN_A-B', 'Martynov_Batsanov_EN_A/B', 'Martynov_Batsanov_EN_max', 'Martynov_Batsanov_EN_min', 'Martynov_Batsanov_EN_avg', 'Martynov_Batsanov_EN_weighted_norm_A+B', 'melting_point_K_A', 'melting_point_K_B', 'melting_point_K_A-B', 'melting_point_K_A/B', 'melting_point_K_max', 'melting_point_K_min', 'melting_point_K_avg', 'melting_point_K_weighted_norm_A+B', 'density_A', 'density_B', 'density_A-B', 'density_A/B', 'density_max', 'density_min', 'density_avg', 'density_weighted_norm_A+B', 'specific_heat_A', 'specific_heat_B', 'specific_heat_A-B', 'specific_heat_A/B', 'specific_heat_max', 'specific_heat_min', 'specific_heat_avg', 'specific_heat_weighted_norm_A+B', 'cohesive_energy_A', 'cohesive_energy_B', 'cohesive_energy_A-B', 'cohesive_energy_A/B', 'cohesive_energy_max', 'cohesive_energy_min', 'cohesive_energy_avg', 'cohesive_energy_weighted_norm_A+B', 'bulk_modulus_A', 'bulk_modulus_B', 'bulk_modulus_A-B', 'bulk_modulus_A/B', 'bulk_modulus_max', 'bulk_modulus_min', 'bulk_modulus_avg', 'bulk_modulus_weighted_norm_A+B'], Score = 0.8500\n",
      "Iteration 27: Removed 'unpaired_electrons_A+B', Remaining = ['valencee_total_weighted_A+B', 'valencee_total_weighted_norm_A+B', 'unpaired_electrons_weighted_A+B', 'unpaired_electrons_weighted_norm_A+B', 'Gilman_A', 'Gilman_B', 'Gilman_A-B', 'Gilman_A+B', 'Gilman_weighted_A+B', 'Gilman_weighted_norm_A+B', 'Z_eff_A', 'Z_eff_B', 'Z_eff_A-B', 'Z_eff_A/B', 'Z_eff_max', 'Z_eff_min', 'Z_eff_avg', 'Z_eff_weighted_norm_A+B', 'ionization_energy_A', 'ionization_energy_B', 'ionization_energy_A-B', 'ionization_energy_A/B', 'ionization_energy_max', 'ionization_energy_min', 'ionization_energy_avg', 'ionization_energy_weighted_norm_A+B', 'coordination_number_A', 'coordination_number_B', 'coordination_number_A-B', 'ratio_closest_A', 'ratio_closest_B', 'ratio_closest_min', 'ratio_closest_avg', 'polyhedron_distortion_A', 'polyhedron_distortion_B', 'polyhedron_distortion_max', 'polyhedron_distortion_min', 'polyhedron_distortion_avg', 'CIF_radius_A', 'CIF_radius_B', 'CIF_radius_A/B', 'CIF_radius_A-B', 'CIF_radius_avg', 'CIF_radius_weighted_norm_A+B', 'Pauling_radius_CN12_A', 'Pauling_radius_CN12_B', 'Pauling_radius_CN12_A/B', 'Pauling_radius_CN12_A-B', 'Pauling_radius_CN12_avg', 'Pauling_radius_CN12_weighted_norm_A+B', 'Pauling_EN_A', 'Pauling_EN_B', 'Pauling_EN_A-B', 'Pauling_EN_A/B', 'Pauling_EN_max', 'Pauling_EN_min', 'Pauling_EN_avg', 'Pauling_EN_weighted_norm_A+B', 'Martynov_Batsanov_EN_A', 'Martynov_Batsanov_EN_B', 'Martynov_Batsanov_EN_A-B', 'Martynov_Batsanov_EN_A/B', 'Martynov_Batsanov_EN_max', 'Martynov_Batsanov_EN_min', 'Martynov_Batsanov_EN_avg', 'Martynov_Batsanov_EN_weighted_norm_A+B', 'melting_point_K_A', 'melting_point_K_B', 'melting_point_K_A-B', 'melting_point_K_A/B', 'melting_point_K_max', 'melting_point_K_min', 'melting_point_K_avg', 'melting_point_K_weighted_norm_A+B', 'density_A', 'density_B', 'density_A-B', 'density_A/B', 'density_max', 'density_min', 'density_avg', 'density_weighted_norm_A+B', 'specific_heat_A', 'specific_heat_B', 'specific_heat_A-B', 'specific_heat_A/B', 'specific_heat_max', 'specific_heat_min', 'specific_heat_avg', 'specific_heat_weighted_norm_A+B', 'cohesive_energy_A', 'cohesive_energy_B', 'cohesive_energy_A-B', 'cohesive_energy_A/B', 'cohesive_energy_max', 'cohesive_energy_min', 'cohesive_energy_avg', 'cohesive_energy_weighted_norm_A+B', 'bulk_modulus_A', 'bulk_modulus_B', 'bulk_modulus_A-B', 'bulk_modulus_A/B', 'bulk_modulus_max', 'bulk_modulus_min', 'bulk_modulus_avg', 'bulk_modulus_weighted_norm_A+B'], Score = 0.8500\n",
      "Iteration 28: Removed 'unpaired_electrons_weighted_A+B', Remaining = ['valencee_total_weighted_A+B', 'valencee_total_weighted_norm_A+B', 'unpaired_electrons_weighted_norm_A+B', 'Gilman_A', 'Gilman_B', 'Gilman_A-B', 'Gilman_A+B', 'Gilman_weighted_A+B', 'Gilman_weighted_norm_A+B', 'Z_eff_A', 'Z_eff_B', 'Z_eff_A-B', 'Z_eff_A/B', 'Z_eff_max', 'Z_eff_min', 'Z_eff_avg', 'Z_eff_weighted_norm_A+B', 'ionization_energy_A', 'ionization_energy_B', 'ionization_energy_A-B', 'ionization_energy_A/B', 'ionization_energy_max', 'ionization_energy_min', 'ionization_energy_avg', 'ionization_energy_weighted_norm_A+B', 'coordination_number_A', 'coordination_number_B', 'coordination_number_A-B', 'ratio_closest_A', 'ratio_closest_B', 'ratio_closest_min', 'ratio_closest_avg', 'polyhedron_distortion_A', 'polyhedron_distortion_B', 'polyhedron_distortion_max', 'polyhedron_distortion_min', 'polyhedron_distortion_avg', 'CIF_radius_A', 'CIF_radius_B', 'CIF_radius_A/B', 'CIF_radius_A-B', 'CIF_radius_avg', 'CIF_radius_weighted_norm_A+B', 'Pauling_radius_CN12_A', 'Pauling_radius_CN12_B', 'Pauling_radius_CN12_A/B', 'Pauling_radius_CN12_A-B', 'Pauling_radius_CN12_avg', 'Pauling_radius_CN12_weighted_norm_A+B', 'Pauling_EN_A', 'Pauling_EN_B', 'Pauling_EN_A-B', 'Pauling_EN_A/B', 'Pauling_EN_max', 'Pauling_EN_min', 'Pauling_EN_avg', 'Pauling_EN_weighted_norm_A+B', 'Martynov_Batsanov_EN_A', 'Martynov_Batsanov_EN_B', 'Martynov_Batsanov_EN_A-B', 'Martynov_Batsanov_EN_A/B', 'Martynov_Batsanov_EN_max', 'Martynov_Batsanov_EN_min', 'Martynov_Batsanov_EN_avg', 'Martynov_Batsanov_EN_weighted_norm_A+B', 'melting_point_K_A', 'melting_point_K_B', 'melting_point_K_A-B', 'melting_point_K_A/B', 'melting_point_K_max', 'melting_point_K_min', 'melting_point_K_avg', 'melting_point_K_weighted_norm_A+B', 'density_A', 'density_B', 'density_A-B', 'density_A/B', 'density_max', 'density_min', 'density_avg', 'density_weighted_norm_A+B', 'specific_heat_A', 'specific_heat_B', 'specific_heat_A-B', 'specific_heat_A/B', 'specific_heat_max', 'specific_heat_min', 'specific_heat_avg', 'specific_heat_weighted_norm_A+B', 'cohesive_energy_A', 'cohesive_energy_B', 'cohesive_energy_A-B', 'cohesive_energy_A/B', 'cohesive_energy_max', 'cohesive_energy_min', 'cohesive_energy_avg', 'cohesive_energy_weighted_norm_A+B', 'bulk_modulus_A', 'bulk_modulus_B', 'bulk_modulus_A-B', 'bulk_modulus_A/B', 'bulk_modulus_max', 'bulk_modulus_min', 'bulk_modulus_avg', 'bulk_modulus_weighted_norm_A+B'], Score = 0.8500\n",
      "Iteration 29: Removed 'Gilman_B', Remaining = ['valencee_total_weighted_A+B', 'valencee_total_weighted_norm_A+B', 'unpaired_electrons_weighted_norm_A+B', 'Gilman_A', 'Gilman_A-B', 'Gilman_A+B', 'Gilman_weighted_A+B', 'Gilman_weighted_norm_A+B', 'Z_eff_A', 'Z_eff_B', 'Z_eff_A-B', 'Z_eff_A/B', 'Z_eff_max', 'Z_eff_min', 'Z_eff_avg', 'Z_eff_weighted_norm_A+B', 'ionization_energy_A', 'ionization_energy_B', 'ionization_energy_A-B', 'ionization_energy_A/B', 'ionization_energy_max', 'ionization_energy_min', 'ionization_energy_avg', 'ionization_energy_weighted_norm_A+B', 'coordination_number_A', 'coordination_number_B', 'coordination_number_A-B', 'ratio_closest_A', 'ratio_closest_B', 'ratio_closest_min', 'ratio_closest_avg', 'polyhedron_distortion_A', 'polyhedron_distortion_B', 'polyhedron_distortion_max', 'polyhedron_distortion_min', 'polyhedron_distortion_avg', 'CIF_radius_A', 'CIF_radius_B', 'CIF_radius_A/B', 'CIF_radius_A-B', 'CIF_radius_avg', 'CIF_radius_weighted_norm_A+B', 'Pauling_radius_CN12_A', 'Pauling_radius_CN12_B', 'Pauling_radius_CN12_A/B', 'Pauling_radius_CN12_A-B', 'Pauling_radius_CN12_avg', 'Pauling_radius_CN12_weighted_norm_A+B', 'Pauling_EN_A', 'Pauling_EN_B', 'Pauling_EN_A-B', 'Pauling_EN_A/B', 'Pauling_EN_max', 'Pauling_EN_min', 'Pauling_EN_avg', 'Pauling_EN_weighted_norm_A+B', 'Martynov_Batsanov_EN_A', 'Martynov_Batsanov_EN_B', 'Martynov_Batsanov_EN_A-B', 'Martynov_Batsanov_EN_A/B', 'Martynov_Batsanov_EN_max', 'Martynov_Batsanov_EN_min', 'Martynov_Batsanov_EN_avg', 'Martynov_Batsanov_EN_weighted_norm_A+B', 'melting_point_K_A', 'melting_point_K_B', 'melting_point_K_A-B', 'melting_point_K_A/B', 'melting_point_K_max', 'melting_point_K_min', 'melting_point_K_avg', 'melting_point_K_weighted_norm_A+B', 'density_A', 'density_B', 'density_A-B', 'density_A/B', 'density_max', 'density_min', 'density_avg', 'density_weighted_norm_A+B', 'specific_heat_A', 'specific_heat_B', 'specific_heat_A-B', 'specific_heat_A/B', 'specific_heat_max', 'specific_heat_min', 'specific_heat_avg', 'specific_heat_weighted_norm_A+B', 'cohesive_energy_A', 'cohesive_energy_B', 'cohesive_energy_A-B', 'cohesive_energy_A/B', 'cohesive_energy_max', 'cohesive_energy_min', 'cohesive_energy_avg', 'cohesive_energy_weighted_norm_A+B', 'bulk_modulus_A', 'bulk_modulus_B', 'bulk_modulus_A-B', 'bulk_modulus_A/B', 'bulk_modulus_max', 'bulk_modulus_min', 'bulk_modulus_avg', 'bulk_modulus_weighted_norm_A+B'], Score = 0.8500\n",
      "Iteration 30: Removed 'valencee_total_weighted_A+B', Remaining = ['valencee_total_weighted_norm_A+B', 'unpaired_electrons_weighted_norm_A+B', 'Gilman_A', 'Gilman_A-B', 'Gilman_A+B', 'Gilman_weighted_A+B', 'Gilman_weighted_norm_A+B', 'Z_eff_A', 'Z_eff_B', 'Z_eff_A-B', 'Z_eff_A/B', 'Z_eff_max', 'Z_eff_min', 'Z_eff_avg', 'Z_eff_weighted_norm_A+B', 'ionization_energy_A', 'ionization_energy_B', 'ionization_energy_A-B', 'ionization_energy_A/B', 'ionization_energy_max', 'ionization_energy_min', 'ionization_energy_avg', 'ionization_energy_weighted_norm_A+B', 'coordination_number_A', 'coordination_number_B', 'coordination_number_A-B', 'ratio_closest_A', 'ratio_closest_B', 'ratio_closest_min', 'ratio_closest_avg', 'polyhedron_distortion_A', 'polyhedron_distortion_B', 'polyhedron_distortion_max', 'polyhedron_distortion_min', 'polyhedron_distortion_avg', 'CIF_radius_A', 'CIF_radius_B', 'CIF_radius_A/B', 'CIF_radius_A-B', 'CIF_radius_avg', 'CIF_radius_weighted_norm_A+B', 'Pauling_radius_CN12_A', 'Pauling_radius_CN12_B', 'Pauling_radius_CN12_A/B', 'Pauling_radius_CN12_A-B', 'Pauling_radius_CN12_avg', 'Pauling_radius_CN12_weighted_norm_A+B', 'Pauling_EN_A', 'Pauling_EN_B', 'Pauling_EN_A-B', 'Pauling_EN_A/B', 'Pauling_EN_max', 'Pauling_EN_min', 'Pauling_EN_avg', 'Pauling_EN_weighted_norm_A+B', 'Martynov_Batsanov_EN_A', 'Martynov_Batsanov_EN_B', 'Martynov_Batsanov_EN_A-B', 'Martynov_Batsanov_EN_A/B', 'Martynov_Batsanov_EN_max', 'Martynov_Batsanov_EN_min', 'Martynov_Batsanov_EN_avg', 'Martynov_Batsanov_EN_weighted_norm_A+B', 'melting_point_K_A', 'melting_point_K_B', 'melting_point_K_A-B', 'melting_point_K_A/B', 'melting_point_K_max', 'melting_point_K_min', 'melting_point_K_avg', 'melting_point_K_weighted_norm_A+B', 'density_A', 'density_B', 'density_A-B', 'density_A/B', 'density_max', 'density_min', 'density_avg', 'density_weighted_norm_A+B', 'specific_heat_A', 'specific_heat_B', 'specific_heat_A-B', 'specific_heat_A/B', 'specific_heat_max', 'specific_heat_min', 'specific_heat_avg', 'specific_heat_weighted_norm_A+B', 'cohesive_energy_A', 'cohesive_energy_B', 'cohesive_energy_A-B', 'cohesive_energy_A/B', 'cohesive_energy_max', 'cohesive_energy_min', 'cohesive_energy_avg', 'cohesive_energy_weighted_norm_A+B', 'bulk_modulus_A', 'bulk_modulus_B', 'bulk_modulus_A-B', 'bulk_modulus_A/B', 'bulk_modulus_max', 'bulk_modulus_min', 'bulk_modulus_avg', 'bulk_modulus_weighted_norm_A+B'], Score = 0.8500\n",
      "Iteration 31: Removed 'Gilman_A+B', Remaining = ['valencee_total_weighted_norm_A+B', 'unpaired_electrons_weighted_norm_A+B', 'Gilman_A', 'Gilman_A-B', 'Gilman_weighted_A+B', 'Gilman_weighted_norm_A+B', 'Z_eff_A', 'Z_eff_B', 'Z_eff_A-B', 'Z_eff_A/B', 'Z_eff_max', 'Z_eff_min', 'Z_eff_avg', 'Z_eff_weighted_norm_A+B', 'ionization_energy_A', 'ionization_energy_B', 'ionization_energy_A-B', 'ionization_energy_A/B', 'ionization_energy_max', 'ionization_energy_min', 'ionization_energy_avg', 'ionization_energy_weighted_norm_A+B', 'coordination_number_A', 'coordination_number_B', 'coordination_number_A-B', 'ratio_closest_A', 'ratio_closest_B', 'ratio_closest_min', 'ratio_closest_avg', 'polyhedron_distortion_A', 'polyhedron_distortion_B', 'polyhedron_distortion_max', 'polyhedron_distortion_min', 'polyhedron_distortion_avg', 'CIF_radius_A', 'CIF_radius_B', 'CIF_radius_A/B', 'CIF_radius_A-B', 'CIF_radius_avg', 'CIF_radius_weighted_norm_A+B', 'Pauling_radius_CN12_A', 'Pauling_radius_CN12_B', 'Pauling_radius_CN12_A/B', 'Pauling_radius_CN12_A-B', 'Pauling_radius_CN12_avg', 'Pauling_radius_CN12_weighted_norm_A+B', 'Pauling_EN_A', 'Pauling_EN_B', 'Pauling_EN_A-B', 'Pauling_EN_A/B', 'Pauling_EN_max', 'Pauling_EN_min', 'Pauling_EN_avg', 'Pauling_EN_weighted_norm_A+B', 'Martynov_Batsanov_EN_A', 'Martynov_Batsanov_EN_B', 'Martynov_Batsanov_EN_A-B', 'Martynov_Batsanov_EN_A/B', 'Martynov_Batsanov_EN_max', 'Martynov_Batsanov_EN_min', 'Martynov_Batsanov_EN_avg', 'Martynov_Batsanov_EN_weighted_norm_A+B', 'melting_point_K_A', 'melting_point_K_B', 'melting_point_K_A-B', 'melting_point_K_A/B', 'melting_point_K_max', 'melting_point_K_min', 'melting_point_K_avg', 'melting_point_K_weighted_norm_A+B', 'density_A', 'density_B', 'density_A-B', 'density_A/B', 'density_max', 'density_min', 'density_avg', 'density_weighted_norm_A+B', 'specific_heat_A', 'specific_heat_B', 'specific_heat_A-B', 'specific_heat_A/B', 'specific_heat_max', 'specific_heat_min', 'specific_heat_avg', 'specific_heat_weighted_norm_A+B', 'cohesive_energy_A', 'cohesive_energy_B', 'cohesive_energy_A-B', 'cohesive_energy_A/B', 'cohesive_energy_max', 'cohesive_energy_min', 'cohesive_energy_avg', 'cohesive_energy_weighted_norm_A+B', 'bulk_modulus_A', 'bulk_modulus_B', 'bulk_modulus_A-B', 'bulk_modulus_A/B', 'bulk_modulus_max', 'bulk_modulus_min', 'bulk_modulus_avg', 'bulk_modulus_weighted_norm_A+B'], Score = 0.8500\n",
      "Iteration 32: Removed 'Z_eff_A', Remaining = ['valencee_total_weighted_norm_A+B', 'unpaired_electrons_weighted_norm_A+B', 'Gilman_A', 'Gilman_A-B', 'Gilman_weighted_A+B', 'Gilman_weighted_norm_A+B', 'Z_eff_B', 'Z_eff_A-B', 'Z_eff_A/B', 'Z_eff_max', 'Z_eff_min', 'Z_eff_avg', 'Z_eff_weighted_norm_A+B', 'ionization_energy_A', 'ionization_energy_B', 'ionization_energy_A-B', 'ionization_energy_A/B', 'ionization_energy_max', 'ionization_energy_min', 'ionization_energy_avg', 'ionization_energy_weighted_norm_A+B', 'coordination_number_A', 'coordination_number_B', 'coordination_number_A-B', 'ratio_closest_A', 'ratio_closest_B', 'ratio_closest_min', 'ratio_closest_avg', 'polyhedron_distortion_A', 'polyhedron_distortion_B', 'polyhedron_distortion_max', 'polyhedron_distortion_min', 'polyhedron_distortion_avg', 'CIF_radius_A', 'CIF_radius_B', 'CIF_radius_A/B', 'CIF_radius_A-B', 'CIF_radius_avg', 'CIF_radius_weighted_norm_A+B', 'Pauling_radius_CN12_A', 'Pauling_radius_CN12_B', 'Pauling_radius_CN12_A/B', 'Pauling_radius_CN12_A-B', 'Pauling_radius_CN12_avg', 'Pauling_radius_CN12_weighted_norm_A+B', 'Pauling_EN_A', 'Pauling_EN_B', 'Pauling_EN_A-B', 'Pauling_EN_A/B', 'Pauling_EN_max', 'Pauling_EN_min', 'Pauling_EN_avg', 'Pauling_EN_weighted_norm_A+B', 'Martynov_Batsanov_EN_A', 'Martynov_Batsanov_EN_B', 'Martynov_Batsanov_EN_A-B', 'Martynov_Batsanov_EN_A/B', 'Martynov_Batsanov_EN_max', 'Martynov_Batsanov_EN_min', 'Martynov_Batsanov_EN_avg', 'Martynov_Batsanov_EN_weighted_norm_A+B', 'melting_point_K_A', 'melting_point_K_B', 'melting_point_K_A-B', 'melting_point_K_A/B', 'melting_point_K_max', 'melting_point_K_min', 'melting_point_K_avg', 'melting_point_K_weighted_norm_A+B', 'density_A', 'density_B', 'density_A-B', 'density_A/B', 'density_max', 'density_min', 'density_avg', 'density_weighted_norm_A+B', 'specific_heat_A', 'specific_heat_B', 'specific_heat_A-B', 'specific_heat_A/B', 'specific_heat_max', 'specific_heat_min', 'specific_heat_avg', 'specific_heat_weighted_norm_A+B', 'cohesive_energy_A', 'cohesive_energy_B', 'cohesive_energy_A-B', 'cohesive_energy_A/B', 'cohesive_energy_max', 'cohesive_energy_min', 'cohesive_energy_avg', 'cohesive_energy_weighted_norm_A+B', 'bulk_modulus_A', 'bulk_modulus_B', 'bulk_modulus_A-B', 'bulk_modulus_A/B', 'bulk_modulus_max', 'bulk_modulus_min', 'bulk_modulus_avg', 'bulk_modulus_weighted_norm_A+B'], Score = 0.8500\n",
      "Iteration 33: Removed 'Z_eff_B', Remaining = ['valencee_total_weighted_norm_A+B', 'unpaired_electrons_weighted_norm_A+B', 'Gilman_A', 'Gilman_A-B', 'Gilman_weighted_A+B', 'Gilman_weighted_norm_A+B', 'Z_eff_A-B', 'Z_eff_A/B', 'Z_eff_max', 'Z_eff_min', 'Z_eff_avg', 'Z_eff_weighted_norm_A+B', 'ionization_energy_A', 'ionization_energy_B', 'ionization_energy_A-B', 'ionization_energy_A/B', 'ionization_energy_max', 'ionization_energy_min', 'ionization_energy_avg', 'ionization_energy_weighted_norm_A+B', 'coordination_number_A', 'coordination_number_B', 'coordination_number_A-B', 'ratio_closest_A', 'ratio_closest_B', 'ratio_closest_min', 'ratio_closest_avg', 'polyhedron_distortion_A', 'polyhedron_distortion_B', 'polyhedron_distortion_max', 'polyhedron_distortion_min', 'polyhedron_distortion_avg', 'CIF_radius_A', 'CIF_radius_B', 'CIF_radius_A/B', 'CIF_radius_A-B', 'CIF_radius_avg', 'CIF_radius_weighted_norm_A+B', 'Pauling_radius_CN12_A', 'Pauling_radius_CN12_B', 'Pauling_radius_CN12_A/B', 'Pauling_radius_CN12_A-B', 'Pauling_radius_CN12_avg', 'Pauling_radius_CN12_weighted_norm_A+B', 'Pauling_EN_A', 'Pauling_EN_B', 'Pauling_EN_A-B', 'Pauling_EN_A/B', 'Pauling_EN_max', 'Pauling_EN_min', 'Pauling_EN_avg', 'Pauling_EN_weighted_norm_A+B', 'Martynov_Batsanov_EN_A', 'Martynov_Batsanov_EN_B', 'Martynov_Batsanov_EN_A-B', 'Martynov_Batsanov_EN_A/B', 'Martynov_Batsanov_EN_max', 'Martynov_Batsanov_EN_min', 'Martynov_Batsanov_EN_avg', 'Martynov_Batsanov_EN_weighted_norm_A+B', 'melting_point_K_A', 'melting_point_K_B', 'melting_point_K_A-B', 'melting_point_K_A/B', 'melting_point_K_max', 'melting_point_K_min', 'melting_point_K_avg', 'melting_point_K_weighted_norm_A+B', 'density_A', 'density_B', 'density_A-B', 'density_A/B', 'density_max', 'density_min', 'density_avg', 'density_weighted_norm_A+B', 'specific_heat_A', 'specific_heat_B', 'specific_heat_A-B', 'specific_heat_A/B', 'specific_heat_max', 'specific_heat_min', 'specific_heat_avg', 'specific_heat_weighted_norm_A+B', 'cohesive_energy_A', 'cohesive_energy_B', 'cohesive_energy_A-B', 'cohesive_energy_A/B', 'cohesive_energy_max', 'cohesive_energy_min', 'cohesive_energy_avg', 'cohesive_energy_weighted_norm_A+B', 'bulk_modulus_A', 'bulk_modulus_B', 'bulk_modulus_A-B', 'bulk_modulus_A/B', 'bulk_modulus_max', 'bulk_modulus_min', 'bulk_modulus_avg', 'bulk_modulus_weighted_norm_A+B'], Score = 0.8500\n",
      "Iteration 34: Removed 'Z_eff_max', Remaining = ['valencee_total_weighted_norm_A+B', 'unpaired_electrons_weighted_norm_A+B', 'Gilman_A', 'Gilman_A-B', 'Gilman_weighted_A+B', 'Gilman_weighted_norm_A+B', 'Z_eff_A-B', 'Z_eff_A/B', 'Z_eff_min', 'Z_eff_avg', 'Z_eff_weighted_norm_A+B', 'ionization_energy_A', 'ionization_energy_B', 'ionization_energy_A-B', 'ionization_energy_A/B', 'ionization_energy_max', 'ionization_energy_min', 'ionization_energy_avg', 'ionization_energy_weighted_norm_A+B', 'coordination_number_A', 'coordination_number_B', 'coordination_number_A-B', 'ratio_closest_A', 'ratio_closest_B', 'ratio_closest_min', 'ratio_closest_avg', 'polyhedron_distortion_A', 'polyhedron_distortion_B', 'polyhedron_distortion_max', 'polyhedron_distortion_min', 'polyhedron_distortion_avg', 'CIF_radius_A', 'CIF_radius_B', 'CIF_radius_A/B', 'CIF_radius_A-B', 'CIF_radius_avg', 'CIF_radius_weighted_norm_A+B', 'Pauling_radius_CN12_A', 'Pauling_radius_CN12_B', 'Pauling_radius_CN12_A/B', 'Pauling_radius_CN12_A-B', 'Pauling_radius_CN12_avg', 'Pauling_radius_CN12_weighted_norm_A+B', 'Pauling_EN_A', 'Pauling_EN_B', 'Pauling_EN_A-B', 'Pauling_EN_A/B', 'Pauling_EN_max', 'Pauling_EN_min', 'Pauling_EN_avg', 'Pauling_EN_weighted_norm_A+B', 'Martynov_Batsanov_EN_A', 'Martynov_Batsanov_EN_B', 'Martynov_Batsanov_EN_A-B', 'Martynov_Batsanov_EN_A/B', 'Martynov_Batsanov_EN_max', 'Martynov_Batsanov_EN_min', 'Martynov_Batsanov_EN_avg', 'Martynov_Batsanov_EN_weighted_norm_A+B', 'melting_point_K_A', 'melting_point_K_B', 'melting_point_K_A-B', 'melting_point_K_A/B', 'melting_point_K_max', 'melting_point_K_min', 'melting_point_K_avg', 'melting_point_K_weighted_norm_A+B', 'density_A', 'density_B', 'density_A-B', 'density_A/B', 'density_max', 'density_min', 'density_avg', 'density_weighted_norm_A+B', 'specific_heat_A', 'specific_heat_B', 'specific_heat_A-B', 'specific_heat_A/B', 'specific_heat_max', 'specific_heat_min', 'specific_heat_avg', 'specific_heat_weighted_norm_A+B', 'cohesive_energy_A', 'cohesive_energy_B', 'cohesive_energy_A-B', 'cohesive_energy_A/B', 'cohesive_energy_max', 'cohesive_energy_min', 'cohesive_energy_avg', 'cohesive_energy_weighted_norm_A+B', 'bulk_modulus_A', 'bulk_modulus_B', 'bulk_modulus_A-B', 'bulk_modulus_A/B', 'bulk_modulus_max', 'bulk_modulus_min', 'bulk_modulus_avg', 'bulk_modulus_weighted_norm_A+B'], Score = 0.8500\n",
      "Iteration 35: Removed 'Z_eff_weighted_norm_A+B', Remaining = ['valencee_total_weighted_norm_A+B', 'unpaired_electrons_weighted_norm_A+B', 'Gilman_A', 'Gilman_A-B', 'Gilman_weighted_A+B', 'Gilman_weighted_norm_A+B', 'Z_eff_A-B', 'Z_eff_A/B', 'Z_eff_min', 'Z_eff_avg', 'ionization_energy_A', 'ionization_energy_B', 'ionization_energy_A-B', 'ionization_energy_A/B', 'ionization_energy_max', 'ionization_energy_min', 'ionization_energy_avg', 'ionization_energy_weighted_norm_A+B', 'coordination_number_A', 'coordination_number_B', 'coordination_number_A-B', 'ratio_closest_A', 'ratio_closest_B', 'ratio_closest_min', 'ratio_closest_avg', 'polyhedron_distortion_A', 'polyhedron_distortion_B', 'polyhedron_distortion_max', 'polyhedron_distortion_min', 'polyhedron_distortion_avg', 'CIF_radius_A', 'CIF_radius_B', 'CIF_radius_A/B', 'CIF_radius_A-B', 'CIF_radius_avg', 'CIF_radius_weighted_norm_A+B', 'Pauling_radius_CN12_A', 'Pauling_radius_CN12_B', 'Pauling_radius_CN12_A/B', 'Pauling_radius_CN12_A-B', 'Pauling_radius_CN12_avg', 'Pauling_radius_CN12_weighted_norm_A+B', 'Pauling_EN_A', 'Pauling_EN_B', 'Pauling_EN_A-B', 'Pauling_EN_A/B', 'Pauling_EN_max', 'Pauling_EN_min', 'Pauling_EN_avg', 'Pauling_EN_weighted_norm_A+B', 'Martynov_Batsanov_EN_A', 'Martynov_Batsanov_EN_B', 'Martynov_Batsanov_EN_A-B', 'Martynov_Batsanov_EN_A/B', 'Martynov_Batsanov_EN_max', 'Martynov_Batsanov_EN_min', 'Martynov_Batsanov_EN_avg', 'Martynov_Batsanov_EN_weighted_norm_A+B', 'melting_point_K_A', 'melting_point_K_B', 'melting_point_K_A-B', 'melting_point_K_A/B', 'melting_point_K_max', 'melting_point_K_min', 'melting_point_K_avg', 'melting_point_K_weighted_norm_A+B', 'density_A', 'density_B', 'density_A-B', 'density_A/B', 'density_max', 'density_min', 'density_avg', 'density_weighted_norm_A+B', 'specific_heat_A', 'specific_heat_B', 'specific_heat_A-B', 'specific_heat_A/B', 'specific_heat_max', 'specific_heat_min', 'specific_heat_avg', 'specific_heat_weighted_norm_A+B', 'cohesive_energy_A', 'cohesive_energy_B', 'cohesive_energy_A-B', 'cohesive_energy_A/B', 'cohesive_energy_max', 'cohesive_energy_min', 'cohesive_energy_avg', 'cohesive_energy_weighted_norm_A+B', 'bulk_modulus_A', 'bulk_modulus_B', 'bulk_modulus_A-B', 'bulk_modulus_A/B', 'bulk_modulus_max', 'bulk_modulus_min', 'bulk_modulus_avg', 'bulk_modulus_weighted_norm_A+B'], Score = 0.8500\n",
      "Iteration 36: Removed 'ionization_energy_A', Remaining = ['valencee_total_weighted_norm_A+B', 'unpaired_electrons_weighted_norm_A+B', 'Gilman_A', 'Gilman_A-B', 'Gilman_weighted_A+B', 'Gilman_weighted_norm_A+B', 'Z_eff_A-B', 'Z_eff_A/B', 'Z_eff_min', 'Z_eff_avg', 'ionization_energy_B', 'ionization_energy_A-B', 'ionization_energy_A/B', 'ionization_energy_max', 'ionization_energy_min', 'ionization_energy_avg', 'ionization_energy_weighted_norm_A+B', 'coordination_number_A', 'coordination_number_B', 'coordination_number_A-B', 'ratio_closest_A', 'ratio_closest_B', 'ratio_closest_min', 'ratio_closest_avg', 'polyhedron_distortion_A', 'polyhedron_distortion_B', 'polyhedron_distortion_max', 'polyhedron_distortion_min', 'polyhedron_distortion_avg', 'CIF_radius_A', 'CIF_radius_B', 'CIF_radius_A/B', 'CIF_radius_A-B', 'CIF_radius_avg', 'CIF_radius_weighted_norm_A+B', 'Pauling_radius_CN12_A', 'Pauling_radius_CN12_B', 'Pauling_radius_CN12_A/B', 'Pauling_radius_CN12_A-B', 'Pauling_radius_CN12_avg', 'Pauling_radius_CN12_weighted_norm_A+B', 'Pauling_EN_A', 'Pauling_EN_B', 'Pauling_EN_A-B', 'Pauling_EN_A/B', 'Pauling_EN_max', 'Pauling_EN_min', 'Pauling_EN_avg', 'Pauling_EN_weighted_norm_A+B', 'Martynov_Batsanov_EN_A', 'Martynov_Batsanov_EN_B', 'Martynov_Batsanov_EN_A-B', 'Martynov_Batsanov_EN_A/B', 'Martynov_Batsanov_EN_max', 'Martynov_Batsanov_EN_min', 'Martynov_Batsanov_EN_avg', 'Martynov_Batsanov_EN_weighted_norm_A+B', 'melting_point_K_A', 'melting_point_K_B', 'melting_point_K_A-B', 'melting_point_K_A/B', 'melting_point_K_max', 'melting_point_K_min', 'melting_point_K_avg', 'melting_point_K_weighted_norm_A+B', 'density_A', 'density_B', 'density_A-B', 'density_A/B', 'density_max', 'density_min', 'density_avg', 'density_weighted_norm_A+B', 'specific_heat_A', 'specific_heat_B', 'specific_heat_A-B', 'specific_heat_A/B', 'specific_heat_max', 'specific_heat_min', 'specific_heat_avg', 'specific_heat_weighted_norm_A+B', 'cohesive_energy_A', 'cohesive_energy_B', 'cohesive_energy_A-B', 'cohesive_energy_A/B', 'cohesive_energy_max', 'cohesive_energy_min', 'cohesive_energy_avg', 'cohesive_energy_weighted_norm_A+B', 'bulk_modulus_A', 'bulk_modulus_B', 'bulk_modulus_A-B', 'bulk_modulus_A/B', 'bulk_modulus_max', 'bulk_modulus_min', 'bulk_modulus_avg', 'bulk_modulus_weighted_norm_A+B'], Score = 0.8500\n",
      "Iteration 37: Removed 'Z_eff_A-B', Remaining = ['valencee_total_weighted_norm_A+B', 'unpaired_electrons_weighted_norm_A+B', 'Gilman_A', 'Gilman_A-B', 'Gilman_weighted_A+B', 'Gilman_weighted_norm_A+B', 'Z_eff_A/B', 'Z_eff_min', 'Z_eff_avg', 'ionization_energy_B', 'ionization_energy_A-B', 'ionization_energy_A/B', 'ionization_energy_max', 'ionization_energy_min', 'ionization_energy_avg', 'ionization_energy_weighted_norm_A+B', 'coordination_number_A', 'coordination_number_B', 'coordination_number_A-B', 'ratio_closest_A', 'ratio_closest_B', 'ratio_closest_min', 'ratio_closest_avg', 'polyhedron_distortion_A', 'polyhedron_distortion_B', 'polyhedron_distortion_max', 'polyhedron_distortion_min', 'polyhedron_distortion_avg', 'CIF_radius_A', 'CIF_radius_B', 'CIF_radius_A/B', 'CIF_radius_A-B', 'CIF_radius_avg', 'CIF_radius_weighted_norm_A+B', 'Pauling_radius_CN12_A', 'Pauling_radius_CN12_B', 'Pauling_radius_CN12_A/B', 'Pauling_radius_CN12_A-B', 'Pauling_radius_CN12_avg', 'Pauling_radius_CN12_weighted_norm_A+B', 'Pauling_EN_A', 'Pauling_EN_B', 'Pauling_EN_A-B', 'Pauling_EN_A/B', 'Pauling_EN_max', 'Pauling_EN_min', 'Pauling_EN_avg', 'Pauling_EN_weighted_norm_A+B', 'Martynov_Batsanov_EN_A', 'Martynov_Batsanov_EN_B', 'Martynov_Batsanov_EN_A-B', 'Martynov_Batsanov_EN_A/B', 'Martynov_Batsanov_EN_max', 'Martynov_Batsanov_EN_min', 'Martynov_Batsanov_EN_avg', 'Martynov_Batsanov_EN_weighted_norm_A+B', 'melting_point_K_A', 'melting_point_K_B', 'melting_point_K_A-B', 'melting_point_K_A/B', 'melting_point_K_max', 'melting_point_K_min', 'melting_point_K_avg', 'melting_point_K_weighted_norm_A+B', 'density_A', 'density_B', 'density_A-B', 'density_A/B', 'density_max', 'density_min', 'density_avg', 'density_weighted_norm_A+B', 'specific_heat_A', 'specific_heat_B', 'specific_heat_A-B', 'specific_heat_A/B', 'specific_heat_max', 'specific_heat_min', 'specific_heat_avg', 'specific_heat_weighted_norm_A+B', 'cohesive_energy_A', 'cohesive_energy_B', 'cohesive_energy_A-B', 'cohesive_energy_A/B', 'cohesive_energy_max', 'cohesive_energy_min', 'cohesive_energy_avg', 'cohesive_energy_weighted_norm_A+B', 'bulk_modulus_A', 'bulk_modulus_B', 'bulk_modulus_A-B', 'bulk_modulus_A/B', 'bulk_modulus_max', 'bulk_modulus_min', 'bulk_modulus_avg', 'bulk_modulus_weighted_norm_A+B'], Score = 0.8500\n",
      "Iteration 38: Removed 'Z_eff_A/B', Remaining = ['valencee_total_weighted_norm_A+B', 'unpaired_electrons_weighted_norm_A+B', 'Gilman_A', 'Gilman_A-B', 'Gilman_weighted_A+B', 'Gilman_weighted_norm_A+B', 'Z_eff_min', 'Z_eff_avg', 'ionization_energy_B', 'ionization_energy_A-B', 'ionization_energy_A/B', 'ionization_energy_max', 'ionization_energy_min', 'ionization_energy_avg', 'ionization_energy_weighted_norm_A+B', 'coordination_number_A', 'coordination_number_B', 'coordination_number_A-B', 'ratio_closest_A', 'ratio_closest_B', 'ratio_closest_min', 'ratio_closest_avg', 'polyhedron_distortion_A', 'polyhedron_distortion_B', 'polyhedron_distortion_max', 'polyhedron_distortion_min', 'polyhedron_distortion_avg', 'CIF_radius_A', 'CIF_radius_B', 'CIF_radius_A/B', 'CIF_radius_A-B', 'CIF_radius_avg', 'CIF_radius_weighted_norm_A+B', 'Pauling_radius_CN12_A', 'Pauling_radius_CN12_B', 'Pauling_radius_CN12_A/B', 'Pauling_radius_CN12_A-B', 'Pauling_radius_CN12_avg', 'Pauling_radius_CN12_weighted_norm_A+B', 'Pauling_EN_A', 'Pauling_EN_B', 'Pauling_EN_A-B', 'Pauling_EN_A/B', 'Pauling_EN_max', 'Pauling_EN_min', 'Pauling_EN_avg', 'Pauling_EN_weighted_norm_A+B', 'Martynov_Batsanov_EN_A', 'Martynov_Batsanov_EN_B', 'Martynov_Batsanov_EN_A-B', 'Martynov_Batsanov_EN_A/B', 'Martynov_Batsanov_EN_max', 'Martynov_Batsanov_EN_min', 'Martynov_Batsanov_EN_avg', 'Martynov_Batsanov_EN_weighted_norm_A+B', 'melting_point_K_A', 'melting_point_K_B', 'melting_point_K_A-B', 'melting_point_K_A/B', 'melting_point_K_max', 'melting_point_K_min', 'melting_point_K_avg', 'melting_point_K_weighted_norm_A+B', 'density_A', 'density_B', 'density_A-B', 'density_A/B', 'density_max', 'density_min', 'density_avg', 'density_weighted_norm_A+B', 'specific_heat_A', 'specific_heat_B', 'specific_heat_A-B', 'specific_heat_A/B', 'specific_heat_max', 'specific_heat_min', 'specific_heat_avg', 'specific_heat_weighted_norm_A+B', 'cohesive_energy_A', 'cohesive_energy_B', 'cohesive_energy_A-B', 'cohesive_energy_A/B', 'cohesive_energy_max', 'cohesive_energy_min', 'cohesive_energy_avg', 'cohesive_energy_weighted_norm_A+B', 'bulk_modulus_A', 'bulk_modulus_B', 'bulk_modulus_A-B', 'bulk_modulus_A/B', 'bulk_modulus_max', 'bulk_modulus_min', 'bulk_modulus_avg', 'bulk_modulus_weighted_norm_A+B'], Score = 0.8500\n",
      "Iteration 39: Removed 'Gilman_A-B', Remaining = ['valencee_total_weighted_norm_A+B', 'unpaired_electrons_weighted_norm_A+B', 'Gilman_A', 'Gilman_weighted_A+B', 'Gilman_weighted_norm_A+B', 'Z_eff_min', 'Z_eff_avg', 'ionization_energy_B', 'ionization_energy_A-B', 'ionization_energy_A/B', 'ionization_energy_max', 'ionization_energy_min', 'ionization_energy_avg', 'ionization_energy_weighted_norm_A+B', 'coordination_number_A', 'coordination_number_B', 'coordination_number_A-B', 'ratio_closest_A', 'ratio_closest_B', 'ratio_closest_min', 'ratio_closest_avg', 'polyhedron_distortion_A', 'polyhedron_distortion_B', 'polyhedron_distortion_max', 'polyhedron_distortion_min', 'polyhedron_distortion_avg', 'CIF_radius_A', 'CIF_radius_B', 'CIF_radius_A/B', 'CIF_radius_A-B', 'CIF_radius_avg', 'CIF_radius_weighted_norm_A+B', 'Pauling_radius_CN12_A', 'Pauling_radius_CN12_B', 'Pauling_radius_CN12_A/B', 'Pauling_radius_CN12_A-B', 'Pauling_radius_CN12_avg', 'Pauling_radius_CN12_weighted_norm_A+B', 'Pauling_EN_A', 'Pauling_EN_B', 'Pauling_EN_A-B', 'Pauling_EN_A/B', 'Pauling_EN_max', 'Pauling_EN_min', 'Pauling_EN_avg', 'Pauling_EN_weighted_norm_A+B', 'Martynov_Batsanov_EN_A', 'Martynov_Batsanov_EN_B', 'Martynov_Batsanov_EN_A-B', 'Martynov_Batsanov_EN_A/B', 'Martynov_Batsanov_EN_max', 'Martynov_Batsanov_EN_min', 'Martynov_Batsanov_EN_avg', 'Martynov_Batsanov_EN_weighted_norm_A+B', 'melting_point_K_A', 'melting_point_K_B', 'melting_point_K_A-B', 'melting_point_K_A/B', 'melting_point_K_max', 'melting_point_K_min', 'melting_point_K_avg', 'melting_point_K_weighted_norm_A+B', 'density_A', 'density_B', 'density_A-B', 'density_A/B', 'density_max', 'density_min', 'density_avg', 'density_weighted_norm_A+B', 'specific_heat_A', 'specific_heat_B', 'specific_heat_A-B', 'specific_heat_A/B', 'specific_heat_max', 'specific_heat_min', 'specific_heat_avg', 'specific_heat_weighted_norm_A+B', 'cohesive_energy_A', 'cohesive_energy_B', 'cohesive_energy_A-B', 'cohesive_energy_A/B', 'cohesive_energy_max', 'cohesive_energy_min', 'cohesive_energy_avg', 'cohesive_energy_weighted_norm_A+B', 'bulk_modulus_A', 'bulk_modulus_B', 'bulk_modulus_A-B', 'bulk_modulus_A/B', 'bulk_modulus_max', 'bulk_modulus_min', 'bulk_modulus_avg', 'bulk_modulus_weighted_norm_A+B'], Score = 0.8500\n",
      "Iteration 40: Removed 'Z_eff_min', Remaining = ['valencee_total_weighted_norm_A+B', 'unpaired_electrons_weighted_norm_A+B', 'Gilman_A', 'Gilman_weighted_A+B', 'Gilman_weighted_norm_A+B', 'Z_eff_avg', 'ionization_energy_B', 'ionization_energy_A-B', 'ionization_energy_A/B', 'ionization_energy_max', 'ionization_energy_min', 'ionization_energy_avg', 'ionization_energy_weighted_norm_A+B', 'coordination_number_A', 'coordination_number_B', 'coordination_number_A-B', 'ratio_closest_A', 'ratio_closest_B', 'ratio_closest_min', 'ratio_closest_avg', 'polyhedron_distortion_A', 'polyhedron_distortion_B', 'polyhedron_distortion_max', 'polyhedron_distortion_min', 'polyhedron_distortion_avg', 'CIF_radius_A', 'CIF_radius_B', 'CIF_radius_A/B', 'CIF_radius_A-B', 'CIF_radius_avg', 'CIF_radius_weighted_norm_A+B', 'Pauling_radius_CN12_A', 'Pauling_radius_CN12_B', 'Pauling_radius_CN12_A/B', 'Pauling_radius_CN12_A-B', 'Pauling_radius_CN12_avg', 'Pauling_radius_CN12_weighted_norm_A+B', 'Pauling_EN_A', 'Pauling_EN_B', 'Pauling_EN_A-B', 'Pauling_EN_A/B', 'Pauling_EN_max', 'Pauling_EN_min', 'Pauling_EN_avg', 'Pauling_EN_weighted_norm_A+B', 'Martynov_Batsanov_EN_A', 'Martynov_Batsanov_EN_B', 'Martynov_Batsanov_EN_A-B', 'Martynov_Batsanov_EN_A/B', 'Martynov_Batsanov_EN_max', 'Martynov_Batsanov_EN_min', 'Martynov_Batsanov_EN_avg', 'Martynov_Batsanov_EN_weighted_norm_A+B', 'melting_point_K_A', 'melting_point_K_B', 'melting_point_K_A-B', 'melting_point_K_A/B', 'melting_point_K_max', 'melting_point_K_min', 'melting_point_K_avg', 'melting_point_K_weighted_norm_A+B', 'density_A', 'density_B', 'density_A-B', 'density_A/B', 'density_max', 'density_min', 'density_avg', 'density_weighted_norm_A+B', 'specific_heat_A', 'specific_heat_B', 'specific_heat_A-B', 'specific_heat_A/B', 'specific_heat_max', 'specific_heat_min', 'specific_heat_avg', 'specific_heat_weighted_norm_A+B', 'cohesive_energy_A', 'cohesive_energy_B', 'cohesive_energy_A-B', 'cohesive_energy_A/B', 'cohesive_energy_max', 'cohesive_energy_min', 'cohesive_energy_avg', 'cohesive_energy_weighted_norm_A+B', 'bulk_modulus_A', 'bulk_modulus_B', 'bulk_modulus_A-B', 'bulk_modulus_A/B', 'bulk_modulus_max', 'bulk_modulus_min', 'bulk_modulus_avg', 'bulk_modulus_weighted_norm_A+B'], Score = 0.8500\n",
      "Iteration 41: Removed 'ionization_energy_min', Remaining = ['valencee_total_weighted_norm_A+B', 'unpaired_electrons_weighted_norm_A+B', 'Gilman_A', 'Gilman_weighted_A+B', 'Gilman_weighted_norm_A+B', 'Z_eff_avg', 'ionization_energy_B', 'ionization_energy_A-B', 'ionization_energy_A/B', 'ionization_energy_max', 'ionization_energy_avg', 'ionization_energy_weighted_norm_A+B', 'coordination_number_A', 'coordination_number_B', 'coordination_number_A-B', 'ratio_closest_A', 'ratio_closest_B', 'ratio_closest_min', 'ratio_closest_avg', 'polyhedron_distortion_A', 'polyhedron_distortion_B', 'polyhedron_distortion_max', 'polyhedron_distortion_min', 'polyhedron_distortion_avg', 'CIF_radius_A', 'CIF_radius_B', 'CIF_radius_A/B', 'CIF_radius_A-B', 'CIF_radius_avg', 'CIF_radius_weighted_norm_A+B', 'Pauling_radius_CN12_A', 'Pauling_radius_CN12_B', 'Pauling_radius_CN12_A/B', 'Pauling_radius_CN12_A-B', 'Pauling_radius_CN12_avg', 'Pauling_radius_CN12_weighted_norm_A+B', 'Pauling_EN_A', 'Pauling_EN_B', 'Pauling_EN_A-B', 'Pauling_EN_A/B', 'Pauling_EN_max', 'Pauling_EN_min', 'Pauling_EN_avg', 'Pauling_EN_weighted_norm_A+B', 'Martynov_Batsanov_EN_A', 'Martynov_Batsanov_EN_B', 'Martynov_Batsanov_EN_A-B', 'Martynov_Batsanov_EN_A/B', 'Martynov_Batsanov_EN_max', 'Martynov_Batsanov_EN_min', 'Martynov_Batsanov_EN_avg', 'Martynov_Batsanov_EN_weighted_norm_A+B', 'melting_point_K_A', 'melting_point_K_B', 'melting_point_K_A-B', 'melting_point_K_A/B', 'melting_point_K_max', 'melting_point_K_min', 'melting_point_K_avg', 'melting_point_K_weighted_norm_A+B', 'density_A', 'density_B', 'density_A-B', 'density_A/B', 'density_max', 'density_min', 'density_avg', 'density_weighted_norm_A+B', 'specific_heat_A', 'specific_heat_B', 'specific_heat_A-B', 'specific_heat_A/B', 'specific_heat_max', 'specific_heat_min', 'specific_heat_avg', 'specific_heat_weighted_norm_A+B', 'cohesive_energy_A', 'cohesive_energy_B', 'cohesive_energy_A-B', 'cohesive_energy_A/B', 'cohesive_energy_max', 'cohesive_energy_min', 'cohesive_energy_avg', 'cohesive_energy_weighted_norm_A+B', 'bulk_modulus_A', 'bulk_modulus_B', 'bulk_modulus_A-B', 'bulk_modulus_A/B', 'bulk_modulus_max', 'bulk_modulus_min', 'bulk_modulus_avg', 'bulk_modulus_weighted_norm_A+B'], Score = 0.8500\n",
      "Iteration 42: Removed 'ratio_closest_A', Remaining = ['valencee_total_weighted_norm_A+B', 'unpaired_electrons_weighted_norm_A+B', 'Gilman_A', 'Gilman_weighted_A+B', 'Gilman_weighted_norm_A+B', 'Z_eff_avg', 'ionization_energy_B', 'ionization_energy_A-B', 'ionization_energy_A/B', 'ionization_energy_max', 'ionization_energy_avg', 'ionization_energy_weighted_norm_A+B', 'coordination_number_A', 'coordination_number_B', 'coordination_number_A-B', 'ratio_closest_B', 'ratio_closest_min', 'ratio_closest_avg', 'polyhedron_distortion_A', 'polyhedron_distortion_B', 'polyhedron_distortion_max', 'polyhedron_distortion_min', 'polyhedron_distortion_avg', 'CIF_radius_A', 'CIF_radius_B', 'CIF_radius_A/B', 'CIF_radius_A-B', 'CIF_radius_avg', 'CIF_radius_weighted_norm_A+B', 'Pauling_radius_CN12_A', 'Pauling_radius_CN12_B', 'Pauling_radius_CN12_A/B', 'Pauling_radius_CN12_A-B', 'Pauling_radius_CN12_avg', 'Pauling_radius_CN12_weighted_norm_A+B', 'Pauling_EN_A', 'Pauling_EN_B', 'Pauling_EN_A-B', 'Pauling_EN_A/B', 'Pauling_EN_max', 'Pauling_EN_min', 'Pauling_EN_avg', 'Pauling_EN_weighted_norm_A+B', 'Martynov_Batsanov_EN_A', 'Martynov_Batsanov_EN_B', 'Martynov_Batsanov_EN_A-B', 'Martynov_Batsanov_EN_A/B', 'Martynov_Batsanov_EN_max', 'Martynov_Batsanov_EN_min', 'Martynov_Batsanov_EN_avg', 'Martynov_Batsanov_EN_weighted_norm_A+B', 'melting_point_K_A', 'melting_point_K_B', 'melting_point_K_A-B', 'melting_point_K_A/B', 'melting_point_K_max', 'melting_point_K_min', 'melting_point_K_avg', 'melting_point_K_weighted_norm_A+B', 'density_A', 'density_B', 'density_A-B', 'density_A/B', 'density_max', 'density_min', 'density_avg', 'density_weighted_norm_A+B', 'specific_heat_A', 'specific_heat_B', 'specific_heat_A-B', 'specific_heat_A/B', 'specific_heat_max', 'specific_heat_min', 'specific_heat_avg', 'specific_heat_weighted_norm_A+B', 'cohesive_energy_A', 'cohesive_energy_B', 'cohesive_energy_A-B', 'cohesive_energy_A/B', 'cohesive_energy_max', 'cohesive_energy_min', 'cohesive_energy_avg', 'cohesive_energy_weighted_norm_A+B', 'bulk_modulus_A', 'bulk_modulus_B', 'bulk_modulus_A-B', 'bulk_modulus_A/B', 'bulk_modulus_max', 'bulk_modulus_min', 'bulk_modulus_avg', 'bulk_modulus_weighted_norm_A+B'], Score = 0.8500\n",
      "Iteration 43: Removed 'Z_eff_avg', Remaining = ['valencee_total_weighted_norm_A+B', 'unpaired_electrons_weighted_norm_A+B', 'Gilman_A', 'Gilman_weighted_A+B', 'Gilman_weighted_norm_A+B', 'ionization_energy_B', 'ionization_energy_A-B', 'ionization_energy_A/B', 'ionization_energy_max', 'ionization_energy_avg', 'ionization_energy_weighted_norm_A+B', 'coordination_number_A', 'coordination_number_B', 'coordination_number_A-B', 'ratio_closest_B', 'ratio_closest_min', 'ratio_closest_avg', 'polyhedron_distortion_A', 'polyhedron_distortion_B', 'polyhedron_distortion_max', 'polyhedron_distortion_min', 'polyhedron_distortion_avg', 'CIF_radius_A', 'CIF_radius_B', 'CIF_radius_A/B', 'CIF_radius_A-B', 'CIF_radius_avg', 'CIF_radius_weighted_norm_A+B', 'Pauling_radius_CN12_A', 'Pauling_radius_CN12_B', 'Pauling_radius_CN12_A/B', 'Pauling_radius_CN12_A-B', 'Pauling_radius_CN12_avg', 'Pauling_radius_CN12_weighted_norm_A+B', 'Pauling_EN_A', 'Pauling_EN_B', 'Pauling_EN_A-B', 'Pauling_EN_A/B', 'Pauling_EN_max', 'Pauling_EN_min', 'Pauling_EN_avg', 'Pauling_EN_weighted_norm_A+B', 'Martynov_Batsanov_EN_A', 'Martynov_Batsanov_EN_B', 'Martynov_Batsanov_EN_A-B', 'Martynov_Batsanov_EN_A/B', 'Martynov_Batsanov_EN_max', 'Martynov_Batsanov_EN_min', 'Martynov_Batsanov_EN_avg', 'Martynov_Batsanov_EN_weighted_norm_A+B', 'melting_point_K_A', 'melting_point_K_B', 'melting_point_K_A-B', 'melting_point_K_A/B', 'melting_point_K_max', 'melting_point_K_min', 'melting_point_K_avg', 'melting_point_K_weighted_norm_A+B', 'density_A', 'density_B', 'density_A-B', 'density_A/B', 'density_max', 'density_min', 'density_avg', 'density_weighted_norm_A+B', 'specific_heat_A', 'specific_heat_B', 'specific_heat_A-B', 'specific_heat_A/B', 'specific_heat_max', 'specific_heat_min', 'specific_heat_avg', 'specific_heat_weighted_norm_A+B', 'cohesive_energy_A', 'cohesive_energy_B', 'cohesive_energy_A-B', 'cohesive_energy_A/B', 'cohesive_energy_max', 'cohesive_energy_min', 'cohesive_energy_avg', 'cohesive_energy_weighted_norm_A+B', 'bulk_modulus_A', 'bulk_modulus_B', 'bulk_modulus_A-B', 'bulk_modulus_A/B', 'bulk_modulus_max', 'bulk_modulus_min', 'bulk_modulus_avg', 'bulk_modulus_weighted_norm_A+B'], Score = 0.8500\n",
      "Iteration 44: Removed 'ionization_energy_A-B', Remaining = ['valencee_total_weighted_norm_A+B', 'unpaired_electrons_weighted_norm_A+B', 'Gilman_A', 'Gilman_weighted_A+B', 'Gilman_weighted_norm_A+B', 'ionization_energy_B', 'ionization_energy_A/B', 'ionization_energy_max', 'ionization_energy_avg', 'ionization_energy_weighted_norm_A+B', 'coordination_number_A', 'coordination_number_B', 'coordination_number_A-B', 'ratio_closest_B', 'ratio_closest_min', 'ratio_closest_avg', 'polyhedron_distortion_A', 'polyhedron_distortion_B', 'polyhedron_distortion_max', 'polyhedron_distortion_min', 'polyhedron_distortion_avg', 'CIF_radius_A', 'CIF_radius_B', 'CIF_radius_A/B', 'CIF_radius_A-B', 'CIF_radius_avg', 'CIF_radius_weighted_norm_A+B', 'Pauling_radius_CN12_A', 'Pauling_radius_CN12_B', 'Pauling_radius_CN12_A/B', 'Pauling_radius_CN12_A-B', 'Pauling_radius_CN12_avg', 'Pauling_radius_CN12_weighted_norm_A+B', 'Pauling_EN_A', 'Pauling_EN_B', 'Pauling_EN_A-B', 'Pauling_EN_A/B', 'Pauling_EN_max', 'Pauling_EN_min', 'Pauling_EN_avg', 'Pauling_EN_weighted_norm_A+B', 'Martynov_Batsanov_EN_A', 'Martynov_Batsanov_EN_B', 'Martynov_Batsanov_EN_A-B', 'Martynov_Batsanov_EN_A/B', 'Martynov_Batsanov_EN_max', 'Martynov_Batsanov_EN_min', 'Martynov_Batsanov_EN_avg', 'Martynov_Batsanov_EN_weighted_norm_A+B', 'melting_point_K_A', 'melting_point_K_B', 'melting_point_K_A-B', 'melting_point_K_A/B', 'melting_point_K_max', 'melting_point_K_min', 'melting_point_K_avg', 'melting_point_K_weighted_norm_A+B', 'density_A', 'density_B', 'density_A-B', 'density_A/B', 'density_max', 'density_min', 'density_avg', 'density_weighted_norm_A+B', 'specific_heat_A', 'specific_heat_B', 'specific_heat_A-B', 'specific_heat_A/B', 'specific_heat_max', 'specific_heat_min', 'specific_heat_avg', 'specific_heat_weighted_norm_A+B', 'cohesive_energy_A', 'cohesive_energy_B', 'cohesive_energy_A-B', 'cohesive_energy_A/B', 'cohesive_energy_max', 'cohesive_energy_min', 'cohesive_energy_avg', 'cohesive_energy_weighted_norm_A+B', 'bulk_modulus_A', 'bulk_modulus_B', 'bulk_modulus_A-B', 'bulk_modulus_A/B', 'bulk_modulus_max', 'bulk_modulus_min', 'bulk_modulus_avg', 'bulk_modulus_weighted_norm_A+B'], Score = 0.8500\n",
      "Iteration 45: Removed 'specific_heat_A-B', Remaining = ['valencee_total_weighted_norm_A+B', 'unpaired_electrons_weighted_norm_A+B', 'Gilman_A', 'Gilman_weighted_A+B', 'Gilman_weighted_norm_A+B', 'ionization_energy_B', 'ionization_energy_A/B', 'ionization_energy_max', 'ionization_energy_avg', 'ionization_energy_weighted_norm_A+B', 'coordination_number_A', 'coordination_number_B', 'coordination_number_A-B', 'ratio_closest_B', 'ratio_closest_min', 'ratio_closest_avg', 'polyhedron_distortion_A', 'polyhedron_distortion_B', 'polyhedron_distortion_max', 'polyhedron_distortion_min', 'polyhedron_distortion_avg', 'CIF_radius_A', 'CIF_radius_B', 'CIF_radius_A/B', 'CIF_radius_A-B', 'CIF_radius_avg', 'CIF_radius_weighted_norm_A+B', 'Pauling_radius_CN12_A', 'Pauling_radius_CN12_B', 'Pauling_radius_CN12_A/B', 'Pauling_radius_CN12_A-B', 'Pauling_radius_CN12_avg', 'Pauling_radius_CN12_weighted_norm_A+B', 'Pauling_EN_A', 'Pauling_EN_B', 'Pauling_EN_A-B', 'Pauling_EN_A/B', 'Pauling_EN_max', 'Pauling_EN_min', 'Pauling_EN_avg', 'Pauling_EN_weighted_norm_A+B', 'Martynov_Batsanov_EN_A', 'Martynov_Batsanov_EN_B', 'Martynov_Batsanov_EN_A-B', 'Martynov_Batsanov_EN_A/B', 'Martynov_Batsanov_EN_max', 'Martynov_Batsanov_EN_min', 'Martynov_Batsanov_EN_avg', 'Martynov_Batsanov_EN_weighted_norm_A+B', 'melting_point_K_A', 'melting_point_K_B', 'melting_point_K_A-B', 'melting_point_K_A/B', 'melting_point_K_max', 'melting_point_K_min', 'melting_point_K_avg', 'melting_point_K_weighted_norm_A+B', 'density_A', 'density_B', 'density_A-B', 'density_A/B', 'density_max', 'density_min', 'density_avg', 'density_weighted_norm_A+B', 'specific_heat_A', 'specific_heat_B', 'specific_heat_A/B', 'specific_heat_max', 'specific_heat_min', 'specific_heat_avg', 'specific_heat_weighted_norm_A+B', 'cohesive_energy_A', 'cohesive_energy_B', 'cohesive_energy_A-B', 'cohesive_energy_A/B', 'cohesive_energy_max', 'cohesive_energy_min', 'cohesive_energy_avg', 'cohesive_energy_weighted_norm_A+B', 'bulk_modulus_A', 'bulk_modulus_B', 'bulk_modulus_A-B', 'bulk_modulus_A/B', 'bulk_modulus_max', 'bulk_modulus_min', 'bulk_modulus_avg', 'bulk_modulus_weighted_norm_A+B'], Score = 0.8750\n",
      "Iteration 46: Removed 'valencee_total_weighted_norm_A+B', Remaining = ['unpaired_electrons_weighted_norm_A+B', 'Gilman_A', 'Gilman_weighted_A+B', 'Gilman_weighted_norm_A+B', 'ionization_energy_B', 'ionization_energy_A/B', 'ionization_energy_max', 'ionization_energy_avg', 'ionization_energy_weighted_norm_A+B', 'coordination_number_A', 'coordination_number_B', 'coordination_number_A-B', 'ratio_closest_B', 'ratio_closest_min', 'ratio_closest_avg', 'polyhedron_distortion_A', 'polyhedron_distortion_B', 'polyhedron_distortion_max', 'polyhedron_distortion_min', 'polyhedron_distortion_avg', 'CIF_radius_A', 'CIF_radius_B', 'CIF_radius_A/B', 'CIF_radius_A-B', 'CIF_radius_avg', 'CIF_radius_weighted_norm_A+B', 'Pauling_radius_CN12_A', 'Pauling_radius_CN12_B', 'Pauling_radius_CN12_A/B', 'Pauling_radius_CN12_A-B', 'Pauling_radius_CN12_avg', 'Pauling_radius_CN12_weighted_norm_A+B', 'Pauling_EN_A', 'Pauling_EN_B', 'Pauling_EN_A-B', 'Pauling_EN_A/B', 'Pauling_EN_max', 'Pauling_EN_min', 'Pauling_EN_avg', 'Pauling_EN_weighted_norm_A+B', 'Martynov_Batsanov_EN_A', 'Martynov_Batsanov_EN_B', 'Martynov_Batsanov_EN_A-B', 'Martynov_Batsanov_EN_A/B', 'Martynov_Batsanov_EN_max', 'Martynov_Batsanov_EN_min', 'Martynov_Batsanov_EN_avg', 'Martynov_Batsanov_EN_weighted_norm_A+B', 'melting_point_K_A', 'melting_point_K_B', 'melting_point_K_A-B', 'melting_point_K_A/B', 'melting_point_K_max', 'melting_point_K_min', 'melting_point_K_avg', 'melting_point_K_weighted_norm_A+B', 'density_A', 'density_B', 'density_A-B', 'density_A/B', 'density_max', 'density_min', 'density_avg', 'density_weighted_norm_A+B', 'specific_heat_A', 'specific_heat_B', 'specific_heat_A/B', 'specific_heat_max', 'specific_heat_min', 'specific_heat_avg', 'specific_heat_weighted_norm_A+B', 'cohesive_energy_A', 'cohesive_energy_B', 'cohesive_energy_A-B', 'cohesive_energy_A/B', 'cohesive_energy_max', 'cohesive_energy_min', 'cohesive_energy_avg', 'cohesive_energy_weighted_norm_A+B', 'bulk_modulus_A', 'bulk_modulus_B', 'bulk_modulus_A-B', 'bulk_modulus_A/B', 'bulk_modulus_max', 'bulk_modulus_min', 'bulk_modulus_avg', 'bulk_modulus_weighted_norm_A+B'], Score = 0.8750\n",
      "Iteration 47: Removed 'ionization_energy_A/B', Remaining = ['unpaired_electrons_weighted_norm_A+B', 'Gilman_A', 'Gilman_weighted_A+B', 'Gilman_weighted_norm_A+B', 'ionization_energy_B', 'ionization_energy_max', 'ionization_energy_avg', 'ionization_energy_weighted_norm_A+B', 'coordination_number_A', 'coordination_number_B', 'coordination_number_A-B', 'ratio_closest_B', 'ratio_closest_min', 'ratio_closest_avg', 'polyhedron_distortion_A', 'polyhedron_distortion_B', 'polyhedron_distortion_max', 'polyhedron_distortion_min', 'polyhedron_distortion_avg', 'CIF_radius_A', 'CIF_radius_B', 'CIF_radius_A/B', 'CIF_radius_A-B', 'CIF_radius_avg', 'CIF_radius_weighted_norm_A+B', 'Pauling_radius_CN12_A', 'Pauling_radius_CN12_B', 'Pauling_radius_CN12_A/B', 'Pauling_radius_CN12_A-B', 'Pauling_radius_CN12_avg', 'Pauling_radius_CN12_weighted_norm_A+B', 'Pauling_EN_A', 'Pauling_EN_B', 'Pauling_EN_A-B', 'Pauling_EN_A/B', 'Pauling_EN_max', 'Pauling_EN_min', 'Pauling_EN_avg', 'Pauling_EN_weighted_norm_A+B', 'Martynov_Batsanov_EN_A', 'Martynov_Batsanov_EN_B', 'Martynov_Batsanov_EN_A-B', 'Martynov_Batsanov_EN_A/B', 'Martynov_Batsanov_EN_max', 'Martynov_Batsanov_EN_min', 'Martynov_Batsanov_EN_avg', 'Martynov_Batsanov_EN_weighted_norm_A+B', 'melting_point_K_A', 'melting_point_K_B', 'melting_point_K_A-B', 'melting_point_K_A/B', 'melting_point_K_max', 'melting_point_K_min', 'melting_point_K_avg', 'melting_point_K_weighted_norm_A+B', 'density_A', 'density_B', 'density_A-B', 'density_A/B', 'density_max', 'density_min', 'density_avg', 'density_weighted_norm_A+B', 'specific_heat_A', 'specific_heat_B', 'specific_heat_A/B', 'specific_heat_max', 'specific_heat_min', 'specific_heat_avg', 'specific_heat_weighted_norm_A+B', 'cohesive_energy_A', 'cohesive_energy_B', 'cohesive_energy_A-B', 'cohesive_energy_A/B', 'cohesive_energy_max', 'cohesive_energy_min', 'cohesive_energy_avg', 'cohesive_energy_weighted_norm_A+B', 'bulk_modulus_A', 'bulk_modulus_B', 'bulk_modulus_A-B', 'bulk_modulus_A/B', 'bulk_modulus_max', 'bulk_modulus_min', 'bulk_modulus_avg', 'bulk_modulus_weighted_norm_A+B'], Score = 0.9000\n",
      "Iteration 48: Removed 'ionization_energy_weighted_norm_A+B', Remaining = ['unpaired_electrons_weighted_norm_A+B', 'Gilman_A', 'Gilman_weighted_A+B', 'Gilman_weighted_norm_A+B', 'ionization_energy_B', 'ionization_energy_max', 'ionization_energy_avg', 'coordination_number_A', 'coordination_number_B', 'coordination_number_A-B', 'ratio_closest_B', 'ratio_closest_min', 'ratio_closest_avg', 'polyhedron_distortion_A', 'polyhedron_distortion_B', 'polyhedron_distortion_max', 'polyhedron_distortion_min', 'polyhedron_distortion_avg', 'CIF_radius_A', 'CIF_radius_B', 'CIF_radius_A/B', 'CIF_radius_A-B', 'CIF_radius_avg', 'CIF_radius_weighted_norm_A+B', 'Pauling_radius_CN12_A', 'Pauling_radius_CN12_B', 'Pauling_radius_CN12_A/B', 'Pauling_radius_CN12_A-B', 'Pauling_radius_CN12_avg', 'Pauling_radius_CN12_weighted_norm_A+B', 'Pauling_EN_A', 'Pauling_EN_B', 'Pauling_EN_A-B', 'Pauling_EN_A/B', 'Pauling_EN_max', 'Pauling_EN_min', 'Pauling_EN_avg', 'Pauling_EN_weighted_norm_A+B', 'Martynov_Batsanov_EN_A', 'Martynov_Batsanov_EN_B', 'Martynov_Batsanov_EN_A-B', 'Martynov_Batsanov_EN_A/B', 'Martynov_Batsanov_EN_max', 'Martynov_Batsanov_EN_min', 'Martynov_Batsanov_EN_avg', 'Martynov_Batsanov_EN_weighted_norm_A+B', 'melting_point_K_A', 'melting_point_K_B', 'melting_point_K_A-B', 'melting_point_K_A/B', 'melting_point_K_max', 'melting_point_K_min', 'melting_point_K_avg', 'melting_point_K_weighted_norm_A+B', 'density_A', 'density_B', 'density_A-B', 'density_A/B', 'density_max', 'density_min', 'density_avg', 'density_weighted_norm_A+B', 'specific_heat_A', 'specific_heat_B', 'specific_heat_A/B', 'specific_heat_max', 'specific_heat_min', 'specific_heat_avg', 'specific_heat_weighted_norm_A+B', 'cohesive_energy_A', 'cohesive_energy_B', 'cohesive_energy_A-B', 'cohesive_energy_A/B', 'cohesive_energy_max', 'cohesive_energy_min', 'cohesive_energy_avg', 'cohesive_energy_weighted_norm_A+B', 'bulk_modulus_A', 'bulk_modulus_B', 'bulk_modulus_A-B', 'bulk_modulus_A/B', 'bulk_modulus_max', 'bulk_modulus_min', 'bulk_modulus_avg', 'bulk_modulus_weighted_norm_A+B'], Score = 0.9000\n",
      "Iteration 49: Removed 'polyhedron_distortion_max', Remaining = ['unpaired_electrons_weighted_norm_A+B', 'Gilman_A', 'Gilman_weighted_A+B', 'Gilman_weighted_norm_A+B', 'ionization_energy_B', 'ionization_energy_max', 'ionization_energy_avg', 'coordination_number_A', 'coordination_number_B', 'coordination_number_A-B', 'ratio_closest_B', 'ratio_closest_min', 'ratio_closest_avg', 'polyhedron_distortion_A', 'polyhedron_distortion_B', 'polyhedron_distortion_min', 'polyhedron_distortion_avg', 'CIF_radius_A', 'CIF_radius_B', 'CIF_radius_A/B', 'CIF_radius_A-B', 'CIF_radius_avg', 'CIF_radius_weighted_norm_A+B', 'Pauling_radius_CN12_A', 'Pauling_radius_CN12_B', 'Pauling_radius_CN12_A/B', 'Pauling_radius_CN12_A-B', 'Pauling_radius_CN12_avg', 'Pauling_radius_CN12_weighted_norm_A+B', 'Pauling_EN_A', 'Pauling_EN_B', 'Pauling_EN_A-B', 'Pauling_EN_A/B', 'Pauling_EN_max', 'Pauling_EN_min', 'Pauling_EN_avg', 'Pauling_EN_weighted_norm_A+B', 'Martynov_Batsanov_EN_A', 'Martynov_Batsanov_EN_B', 'Martynov_Batsanov_EN_A-B', 'Martynov_Batsanov_EN_A/B', 'Martynov_Batsanov_EN_max', 'Martynov_Batsanov_EN_min', 'Martynov_Batsanov_EN_avg', 'Martynov_Batsanov_EN_weighted_norm_A+B', 'melting_point_K_A', 'melting_point_K_B', 'melting_point_K_A-B', 'melting_point_K_A/B', 'melting_point_K_max', 'melting_point_K_min', 'melting_point_K_avg', 'melting_point_K_weighted_norm_A+B', 'density_A', 'density_B', 'density_A-B', 'density_A/B', 'density_max', 'density_min', 'density_avg', 'density_weighted_norm_A+B', 'specific_heat_A', 'specific_heat_B', 'specific_heat_A/B', 'specific_heat_max', 'specific_heat_min', 'specific_heat_avg', 'specific_heat_weighted_norm_A+B', 'cohesive_energy_A', 'cohesive_energy_B', 'cohesive_energy_A-B', 'cohesive_energy_A/B', 'cohesive_energy_max', 'cohesive_energy_min', 'cohesive_energy_avg', 'cohesive_energy_weighted_norm_A+B', 'bulk_modulus_A', 'bulk_modulus_B', 'bulk_modulus_A-B', 'bulk_modulus_A/B', 'bulk_modulus_max', 'bulk_modulus_min', 'bulk_modulus_avg', 'bulk_modulus_weighted_norm_A+B'], Score = 0.9000\n",
      "Iteration 50: Removed 'Pauling_radius_CN12_A/B', Remaining = ['unpaired_electrons_weighted_norm_A+B', 'Gilman_A', 'Gilman_weighted_A+B', 'Gilman_weighted_norm_A+B', 'ionization_energy_B', 'ionization_energy_max', 'ionization_energy_avg', 'coordination_number_A', 'coordination_number_B', 'coordination_number_A-B', 'ratio_closest_B', 'ratio_closest_min', 'ratio_closest_avg', 'polyhedron_distortion_A', 'polyhedron_distortion_B', 'polyhedron_distortion_min', 'polyhedron_distortion_avg', 'CIF_radius_A', 'CIF_radius_B', 'CIF_radius_A/B', 'CIF_radius_A-B', 'CIF_radius_avg', 'CIF_radius_weighted_norm_A+B', 'Pauling_radius_CN12_A', 'Pauling_radius_CN12_B', 'Pauling_radius_CN12_A-B', 'Pauling_radius_CN12_avg', 'Pauling_radius_CN12_weighted_norm_A+B', 'Pauling_EN_A', 'Pauling_EN_B', 'Pauling_EN_A-B', 'Pauling_EN_A/B', 'Pauling_EN_max', 'Pauling_EN_min', 'Pauling_EN_avg', 'Pauling_EN_weighted_norm_A+B', 'Martynov_Batsanov_EN_A', 'Martynov_Batsanov_EN_B', 'Martynov_Batsanov_EN_A-B', 'Martynov_Batsanov_EN_A/B', 'Martynov_Batsanov_EN_max', 'Martynov_Batsanov_EN_min', 'Martynov_Batsanov_EN_avg', 'Martynov_Batsanov_EN_weighted_norm_A+B', 'melting_point_K_A', 'melting_point_K_B', 'melting_point_K_A-B', 'melting_point_K_A/B', 'melting_point_K_max', 'melting_point_K_min', 'melting_point_K_avg', 'melting_point_K_weighted_norm_A+B', 'density_A', 'density_B', 'density_A-B', 'density_A/B', 'density_max', 'density_min', 'density_avg', 'density_weighted_norm_A+B', 'specific_heat_A', 'specific_heat_B', 'specific_heat_A/B', 'specific_heat_max', 'specific_heat_min', 'specific_heat_avg', 'specific_heat_weighted_norm_A+B', 'cohesive_energy_A', 'cohesive_energy_B', 'cohesive_energy_A-B', 'cohesive_energy_A/B', 'cohesive_energy_max', 'cohesive_energy_min', 'cohesive_energy_avg', 'cohesive_energy_weighted_norm_A+B', 'bulk_modulus_A', 'bulk_modulus_B', 'bulk_modulus_A-B', 'bulk_modulus_A/B', 'bulk_modulus_max', 'bulk_modulus_min', 'bulk_modulus_avg', 'bulk_modulus_weighted_norm_A+B'], Score = 0.9000\n",
      "Iteration 51: Removed 'Pauling_radius_CN12_A-B', Remaining = ['unpaired_electrons_weighted_norm_A+B', 'Gilman_A', 'Gilman_weighted_A+B', 'Gilman_weighted_norm_A+B', 'ionization_energy_B', 'ionization_energy_max', 'ionization_energy_avg', 'coordination_number_A', 'coordination_number_B', 'coordination_number_A-B', 'ratio_closest_B', 'ratio_closest_min', 'ratio_closest_avg', 'polyhedron_distortion_A', 'polyhedron_distortion_B', 'polyhedron_distortion_min', 'polyhedron_distortion_avg', 'CIF_radius_A', 'CIF_radius_B', 'CIF_radius_A/B', 'CIF_radius_A-B', 'CIF_radius_avg', 'CIF_radius_weighted_norm_A+B', 'Pauling_radius_CN12_A', 'Pauling_radius_CN12_B', 'Pauling_radius_CN12_avg', 'Pauling_radius_CN12_weighted_norm_A+B', 'Pauling_EN_A', 'Pauling_EN_B', 'Pauling_EN_A-B', 'Pauling_EN_A/B', 'Pauling_EN_max', 'Pauling_EN_min', 'Pauling_EN_avg', 'Pauling_EN_weighted_norm_A+B', 'Martynov_Batsanov_EN_A', 'Martynov_Batsanov_EN_B', 'Martynov_Batsanov_EN_A-B', 'Martynov_Batsanov_EN_A/B', 'Martynov_Batsanov_EN_max', 'Martynov_Batsanov_EN_min', 'Martynov_Batsanov_EN_avg', 'Martynov_Batsanov_EN_weighted_norm_A+B', 'melting_point_K_A', 'melting_point_K_B', 'melting_point_K_A-B', 'melting_point_K_A/B', 'melting_point_K_max', 'melting_point_K_min', 'melting_point_K_avg', 'melting_point_K_weighted_norm_A+B', 'density_A', 'density_B', 'density_A-B', 'density_A/B', 'density_max', 'density_min', 'density_avg', 'density_weighted_norm_A+B', 'specific_heat_A', 'specific_heat_B', 'specific_heat_A/B', 'specific_heat_max', 'specific_heat_min', 'specific_heat_avg', 'specific_heat_weighted_norm_A+B', 'cohesive_energy_A', 'cohesive_energy_B', 'cohesive_energy_A-B', 'cohesive_energy_A/B', 'cohesive_energy_max', 'cohesive_energy_min', 'cohesive_energy_avg', 'cohesive_energy_weighted_norm_A+B', 'bulk_modulus_A', 'bulk_modulus_B', 'bulk_modulus_A-B', 'bulk_modulus_A/B', 'bulk_modulus_max', 'bulk_modulus_min', 'bulk_modulus_avg', 'bulk_modulus_weighted_norm_A+B'], Score = 0.9000\n",
      "Iteration 52: Removed 'unpaired_electrons_weighted_norm_A+B', Remaining = ['Gilman_A', 'Gilman_weighted_A+B', 'Gilman_weighted_norm_A+B', 'ionization_energy_B', 'ionization_energy_max', 'ionization_energy_avg', 'coordination_number_A', 'coordination_number_B', 'coordination_number_A-B', 'ratio_closest_B', 'ratio_closest_min', 'ratio_closest_avg', 'polyhedron_distortion_A', 'polyhedron_distortion_B', 'polyhedron_distortion_min', 'polyhedron_distortion_avg', 'CIF_radius_A', 'CIF_radius_B', 'CIF_radius_A/B', 'CIF_radius_A-B', 'CIF_radius_avg', 'CIF_radius_weighted_norm_A+B', 'Pauling_radius_CN12_A', 'Pauling_radius_CN12_B', 'Pauling_radius_CN12_avg', 'Pauling_radius_CN12_weighted_norm_A+B', 'Pauling_EN_A', 'Pauling_EN_B', 'Pauling_EN_A-B', 'Pauling_EN_A/B', 'Pauling_EN_max', 'Pauling_EN_min', 'Pauling_EN_avg', 'Pauling_EN_weighted_norm_A+B', 'Martynov_Batsanov_EN_A', 'Martynov_Batsanov_EN_B', 'Martynov_Batsanov_EN_A-B', 'Martynov_Batsanov_EN_A/B', 'Martynov_Batsanov_EN_max', 'Martynov_Batsanov_EN_min', 'Martynov_Batsanov_EN_avg', 'Martynov_Batsanov_EN_weighted_norm_A+B', 'melting_point_K_A', 'melting_point_K_B', 'melting_point_K_A-B', 'melting_point_K_A/B', 'melting_point_K_max', 'melting_point_K_min', 'melting_point_K_avg', 'melting_point_K_weighted_norm_A+B', 'density_A', 'density_B', 'density_A-B', 'density_A/B', 'density_max', 'density_min', 'density_avg', 'density_weighted_norm_A+B', 'specific_heat_A', 'specific_heat_B', 'specific_heat_A/B', 'specific_heat_max', 'specific_heat_min', 'specific_heat_avg', 'specific_heat_weighted_norm_A+B', 'cohesive_energy_A', 'cohesive_energy_B', 'cohesive_energy_A-B', 'cohesive_energy_A/B', 'cohesive_energy_max', 'cohesive_energy_min', 'cohesive_energy_avg', 'cohesive_energy_weighted_norm_A+B', 'bulk_modulus_A', 'bulk_modulus_B', 'bulk_modulus_A-B', 'bulk_modulus_A/B', 'bulk_modulus_max', 'bulk_modulus_min', 'bulk_modulus_avg', 'bulk_modulus_weighted_norm_A+B'], Score = 0.9000\n",
      "Iteration 53: Removed 'Pauling_EN_min', Remaining = ['Gilman_A', 'Gilman_weighted_A+B', 'Gilman_weighted_norm_A+B', 'ionization_energy_B', 'ionization_energy_max', 'ionization_energy_avg', 'coordination_number_A', 'coordination_number_B', 'coordination_number_A-B', 'ratio_closest_B', 'ratio_closest_min', 'ratio_closest_avg', 'polyhedron_distortion_A', 'polyhedron_distortion_B', 'polyhedron_distortion_min', 'polyhedron_distortion_avg', 'CIF_radius_A', 'CIF_radius_B', 'CIF_radius_A/B', 'CIF_radius_A-B', 'CIF_radius_avg', 'CIF_radius_weighted_norm_A+B', 'Pauling_radius_CN12_A', 'Pauling_radius_CN12_B', 'Pauling_radius_CN12_avg', 'Pauling_radius_CN12_weighted_norm_A+B', 'Pauling_EN_A', 'Pauling_EN_B', 'Pauling_EN_A-B', 'Pauling_EN_A/B', 'Pauling_EN_max', 'Pauling_EN_avg', 'Pauling_EN_weighted_norm_A+B', 'Martynov_Batsanov_EN_A', 'Martynov_Batsanov_EN_B', 'Martynov_Batsanov_EN_A-B', 'Martynov_Batsanov_EN_A/B', 'Martynov_Batsanov_EN_max', 'Martynov_Batsanov_EN_min', 'Martynov_Batsanov_EN_avg', 'Martynov_Batsanov_EN_weighted_norm_A+B', 'melting_point_K_A', 'melting_point_K_B', 'melting_point_K_A-B', 'melting_point_K_A/B', 'melting_point_K_max', 'melting_point_K_min', 'melting_point_K_avg', 'melting_point_K_weighted_norm_A+B', 'density_A', 'density_B', 'density_A-B', 'density_A/B', 'density_max', 'density_min', 'density_avg', 'density_weighted_norm_A+B', 'specific_heat_A', 'specific_heat_B', 'specific_heat_A/B', 'specific_heat_max', 'specific_heat_min', 'specific_heat_avg', 'specific_heat_weighted_norm_A+B', 'cohesive_energy_A', 'cohesive_energy_B', 'cohesive_energy_A-B', 'cohesive_energy_A/B', 'cohesive_energy_max', 'cohesive_energy_min', 'cohesive_energy_avg', 'cohesive_energy_weighted_norm_A+B', 'bulk_modulus_A', 'bulk_modulus_B', 'bulk_modulus_A-B', 'bulk_modulus_A/B', 'bulk_modulus_max', 'bulk_modulus_min', 'bulk_modulus_avg', 'bulk_modulus_weighted_norm_A+B'], Score = 0.9000\n",
      "Iteration 54: Removed 'ratio_closest_min', Remaining = ['Gilman_A', 'Gilman_weighted_A+B', 'Gilman_weighted_norm_A+B', 'ionization_energy_B', 'ionization_energy_max', 'ionization_energy_avg', 'coordination_number_A', 'coordination_number_B', 'coordination_number_A-B', 'ratio_closest_B', 'ratio_closest_avg', 'polyhedron_distortion_A', 'polyhedron_distortion_B', 'polyhedron_distortion_min', 'polyhedron_distortion_avg', 'CIF_radius_A', 'CIF_radius_B', 'CIF_radius_A/B', 'CIF_radius_A-B', 'CIF_radius_avg', 'CIF_radius_weighted_norm_A+B', 'Pauling_radius_CN12_A', 'Pauling_radius_CN12_B', 'Pauling_radius_CN12_avg', 'Pauling_radius_CN12_weighted_norm_A+B', 'Pauling_EN_A', 'Pauling_EN_B', 'Pauling_EN_A-B', 'Pauling_EN_A/B', 'Pauling_EN_max', 'Pauling_EN_avg', 'Pauling_EN_weighted_norm_A+B', 'Martynov_Batsanov_EN_A', 'Martynov_Batsanov_EN_B', 'Martynov_Batsanov_EN_A-B', 'Martynov_Batsanov_EN_A/B', 'Martynov_Batsanov_EN_max', 'Martynov_Batsanov_EN_min', 'Martynov_Batsanov_EN_avg', 'Martynov_Batsanov_EN_weighted_norm_A+B', 'melting_point_K_A', 'melting_point_K_B', 'melting_point_K_A-B', 'melting_point_K_A/B', 'melting_point_K_max', 'melting_point_K_min', 'melting_point_K_avg', 'melting_point_K_weighted_norm_A+B', 'density_A', 'density_B', 'density_A-B', 'density_A/B', 'density_max', 'density_min', 'density_avg', 'density_weighted_norm_A+B', 'specific_heat_A', 'specific_heat_B', 'specific_heat_A/B', 'specific_heat_max', 'specific_heat_min', 'specific_heat_avg', 'specific_heat_weighted_norm_A+B', 'cohesive_energy_A', 'cohesive_energy_B', 'cohesive_energy_A-B', 'cohesive_energy_A/B', 'cohesive_energy_max', 'cohesive_energy_min', 'cohesive_energy_avg', 'cohesive_energy_weighted_norm_A+B', 'bulk_modulus_A', 'bulk_modulus_B', 'bulk_modulus_A-B', 'bulk_modulus_A/B', 'bulk_modulus_max', 'bulk_modulus_min', 'bulk_modulus_avg', 'bulk_modulus_weighted_norm_A+B'], Score = 0.9000\n",
      "Iteration 55: Removed 'ionization_energy_B', Remaining = ['Gilman_A', 'Gilman_weighted_A+B', 'Gilman_weighted_norm_A+B', 'ionization_energy_max', 'ionization_energy_avg', 'coordination_number_A', 'coordination_number_B', 'coordination_number_A-B', 'ratio_closest_B', 'ratio_closest_avg', 'polyhedron_distortion_A', 'polyhedron_distortion_B', 'polyhedron_distortion_min', 'polyhedron_distortion_avg', 'CIF_radius_A', 'CIF_radius_B', 'CIF_radius_A/B', 'CIF_radius_A-B', 'CIF_radius_avg', 'CIF_radius_weighted_norm_A+B', 'Pauling_radius_CN12_A', 'Pauling_radius_CN12_B', 'Pauling_radius_CN12_avg', 'Pauling_radius_CN12_weighted_norm_A+B', 'Pauling_EN_A', 'Pauling_EN_B', 'Pauling_EN_A-B', 'Pauling_EN_A/B', 'Pauling_EN_max', 'Pauling_EN_avg', 'Pauling_EN_weighted_norm_A+B', 'Martynov_Batsanov_EN_A', 'Martynov_Batsanov_EN_B', 'Martynov_Batsanov_EN_A-B', 'Martynov_Batsanov_EN_A/B', 'Martynov_Batsanov_EN_max', 'Martynov_Batsanov_EN_min', 'Martynov_Batsanov_EN_avg', 'Martynov_Batsanov_EN_weighted_norm_A+B', 'melting_point_K_A', 'melting_point_K_B', 'melting_point_K_A-B', 'melting_point_K_A/B', 'melting_point_K_max', 'melting_point_K_min', 'melting_point_K_avg', 'melting_point_K_weighted_norm_A+B', 'density_A', 'density_B', 'density_A-B', 'density_A/B', 'density_max', 'density_min', 'density_avg', 'density_weighted_norm_A+B', 'specific_heat_A', 'specific_heat_B', 'specific_heat_A/B', 'specific_heat_max', 'specific_heat_min', 'specific_heat_avg', 'specific_heat_weighted_norm_A+B', 'cohesive_energy_A', 'cohesive_energy_B', 'cohesive_energy_A-B', 'cohesive_energy_A/B', 'cohesive_energy_max', 'cohesive_energy_min', 'cohesive_energy_avg', 'cohesive_energy_weighted_norm_A+B', 'bulk_modulus_A', 'bulk_modulus_B', 'bulk_modulus_A-B', 'bulk_modulus_A/B', 'bulk_modulus_max', 'bulk_modulus_min', 'bulk_modulus_avg', 'bulk_modulus_weighted_norm_A+B'], Score = 0.9000\n",
      "Iteration 56: Removed 'coordination_number_A', Remaining = ['Gilman_A', 'Gilman_weighted_A+B', 'Gilman_weighted_norm_A+B', 'ionization_energy_max', 'ionization_energy_avg', 'coordination_number_B', 'coordination_number_A-B', 'ratio_closest_B', 'ratio_closest_avg', 'polyhedron_distortion_A', 'polyhedron_distortion_B', 'polyhedron_distortion_min', 'polyhedron_distortion_avg', 'CIF_radius_A', 'CIF_radius_B', 'CIF_radius_A/B', 'CIF_radius_A-B', 'CIF_radius_avg', 'CIF_radius_weighted_norm_A+B', 'Pauling_radius_CN12_A', 'Pauling_radius_CN12_B', 'Pauling_radius_CN12_avg', 'Pauling_radius_CN12_weighted_norm_A+B', 'Pauling_EN_A', 'Pauling_EN_B', 'Pauling_EN_A-B', 'Pauling_EN_A/B', 'Pauling_EN_max', 'Pauling_EN_avg', 'Pauling_EN_weighted_norm_A+B', 'Martynov_Batsanov_EN_A', 'Martynov_Batsanov_EN_B', 'Martynov_Batsanov_EN_A-B', 'Martynov_Batsanov_EN_A/B', 'Martynov_Batsanov_EN_max', 'Martynov_Batsanov_EN_min', 'Martynov_Batsanov_EN_avg', 'Martynov_Batsanov_EN_weighted_norm_A+B', 'melting_point_K_A', 'melting_point_K_B', 'melting_point_K_A-B', 'melting_point_K_A/B', 'melting_point_K_max', 'melting_point_K_min', 'melting_point_K_avg', 'melting_point_K_weighted_norm_A+B', 'density_A', 'density_B', 'density_A-B', 'density_A/B', 'density_max', 'density_min', 'density_avg', 'density_weighted_norm_A+B', 'specific_heat_A', 'specific_heat_B', 'specific_heat_A/B', 'specific_heat_max', 'specific_heat_min', 'specific_heat_avg', 'specific_heat_weighted_norm_A+B', 'cohesive_energy_A', 'cohesive_energy_B', 'cohesive_energy_A-B', 'cohesive_energy_A/B', 'cohesive_energy_max', 'cohesive_energy_min', 'cohesive_energy_avg', 'cohesive_energy_weighted_norm_A+B', 'bulk_modulus_A', 'bulk_modulus_B', 'bulk_modulus_A-B', 'bulk_modulus_A/B', 'bulk_modulus_max', 'bulk_modulus_min', 'bulk_modulus_avg', 'bulk_modulus_weighted_norm_A+B'], Score = 0.9000\n",
      "Iteration 57: Removed 'polyhedron_distortion_B', Remaining = ['Gilman_A', 'Gilman_weighted_A+B', 'Gilman_weighted_norm_A+B', 'ionization_energy_max', 'ionization_energy_avg', 'coordination_number_B', 'coordination_number_A-B', 'ratio_closest_B', 'ratio_closest_avg', 'polyhedron_distortion_A', 'polyhedron_distortion_min', 'polyhedron_distortion_avg', 'CIF_radius_A', 'CIF_radius_B', 'CIF_radius_A/B', 'CIF_radius_A-B', 'CIF_radius_avg', 'CIF_radius_weighted_norm_A+B', 'Pauling_radius_CN12_A', 'Pauling_radius_CN12_B', 'Pauling_radius_CN12_avg', 'Pauling_radius_CN12_weighted_norm_A+B', 'Pauling_EN_A', 'Pauling_EN_B', 'Pauling_EN_A-B', 'Pauling_EN_A/B', 'Pauling_EN_max', 'Pauling_EN_avg', 'Pauling_EN_weighted_norm_A+B', 'Martynov_Batsanov_EN_A', 'Martynov_Batsanov_EN_B', 'Martynov_Batsanov_EN_A-B', 'Martynov_Batsanov_EN_A/B', 'Martynov_Batsanov_EN_max', 'Martynov_Batsanov_EN_min', 'Martynov_Batsanov_EN_avg', 'Martynov_Batsanov_EN_weighted_norm_A+B', 'melting_point_K_A', 'melting_point_K_B', 'melting_point_K_A-B', 'melting_point_K_A/B', 'melting_point_K_max', 'melting_point_K_min', 'melting_point_K_avg', 'melting_point_K_weighted_norm_A+B', 'density_A', 'density_B', 'density_A-B', 'density_A/B', 'density_max', 'density_min', 'density_avg', 'density_weighted_norm_A+B', 'specific_heat_A', 'specific_heat_B', 'specific_heat_A/B', 'specific_heat_max', 'specific_heat_min', 'specific_heat_avg', 'specific_heat_weighted_norm_A+B', 'cohesive_energy_A', 'cohesive_energy_B', 'cohesive_energy_A-B', 'cohesive_energy_A/B', 'cohesive_energy_max', 'cohesive_energy_min', 'cohesive_energy_avg', 'cohesive_energy_weighted_norm_A+B', 'bulk_modulus_A', 'bulk_modulus_B', 'bulk_modulus_A-B', 'bulk_modulus_A/B', 'bulk_modulus_max', 'bulk_modulus_min', 'bulk_modulus_avg', 'bulk_modulus_weighted_norm_A+B'], Score = 0.9000\n",
      "Iteration 58: Removed 'CIF_radius_B', Remaining = ['Gilman_A', 'Gilman_weighted_A+B', 'Gilman_weighted_norm_A+B', 'ionization_energy_max', 'ionization_energy_avg', 'coordination_number_B', 'coordination_number_A-B', 'ratio_closest_B', 'ratio_closest_avg', 'polyhedron_distortion_A', 'polyhedron_distortion_min', 'polyhedron_distortion_avg', 'CIF_radius_A', 'CIF_radius_A/B', 'CIF_radius_A-B', 'CIF_radius_avg', 'CIF_radius_weighted_norm_A+B', 'Pauling_radius_CN12_A', 'Pauling_radius_CN12_B', 'Pauling_radius_CN12_avg', 'Pauling_radius_CN12_weighted_norm_A+B', 'Pauling_EN_A', 'Pauling_EN_B', 'Pauling_EN_A-B', 'Pauling_EN_A/B', 'Pauling_EN_max', 'Pauling_EN_avg', 'Pauling_EN_weighted_norm_A+B', 'Martynov_Batsanov_EN_A', 'Martynov_Batsanov_EN_B', 'Martynov_Batsanov_EN_A-B', 'Martynov_Batsanov_EN_A/B', 'Martynov_Batsanov_EN_max', 'Martynov_Batsanov_EN_min', 'Martynov_Batsanov_EN_avg', 'Martynov_Batsanov_EN_weighted_norm_A+B', 'melting_point_K_A', 'melting_point_K_B', 'melting_point_K_A-B', 'melting_point_K_A/B', 'melting_point_K_max', 'melting_point_K_min', 'melting_point_K_avg', 'melting_point_K_weighted_norm_A+B', 'density_A', 'density_B', 'density_A-B', 'density_A/B', 'density_max', 'density_min', 'density_avg', 'density_weighted_norm_A+B', 'specific_heat_A', 'specific_heat_B', 'specific_heat_A/B', 'specific_heat_max', 'specific_heat_min', 'specific_heat_avg', 'specific_heat_weighted_norm_A+B', 'cohesive_energy_A', 'cohesive_energy_B', 'cohesive_energy_A-B', 'cohesive_energy_A/B', 'cohesive_energy_max', 'cohesive_energy_min', 'cohesive_energy_avg', 'cohesive_energy_weighted_norm_A+B', 'bulk_modulus_A', 'bulk_modulus_B', 'bulk_modulus_A-B', 'bulk_modulus_A/B', 'bulk_modulus_max', 'bulk_modulus_min', 'bulk_modulus_avg', 'bulk_modulus_weighted_norm_A+B'], Score = 0.9000\n",
      "Iteration 59: Removed 'Pauling_EN_A', Remaining = ['Gilman_A', 'Gilman_weighted_A+B', 'Gilman_weighted_norm_A+B', 'ionization_energy_max', 'ionization_energy_avg', 'coordination_number_B', 'coordination_number_A-B', 'ratio_closest_B', 'ratio_closest_avg', 'polyhedron_distortion_A', 'polyhedron_distortion_min', 'polyhedron_distortion_avg', 'CIF_radius_A', 'CIF_radius_A/B', 'CIF_radius_A-B', 'CIF_radius_avg', 'CIF_radius_weighted_norm_A+B', 'Pauling_radius_CN12_A', 'Pauling_radius_CN12_B', 'Pauling_radius_CN12_avg', 'Pauling_radius_CN12_weighted_norm_A+B', 'Pauling_EN_B', 'Pauling_EN_A-B', 'Pauling_EN_A/B', 'Pauling_EN_max', 'Pauling_EN_avg', 'Pauling_EN_weighted_norm_A+B', 'Martynov_Batsanov_EN_A', 'Martynov_Batsanov_EN_B', 'Martynov_Batsanov_EN_A-B', 'Martynov_Batsanov_EN_A/B', 'Martynov_Batsanov_EN_max', 'Martynov_Batsanov_EN_min', 'Martynov_Batsanov_EN_avg', 'Martynov_Batsanov_EN_weighted_norm_A+B', 'melting_point_K_A', 'melting_point_K_B', 'melting_point_K_A-B', 'melting_point_K_A/B', 'melting_point_K_max', 'melting_point_K_min', 'melting_point_K_avg', 'melting_point_K_weighted_norm_A+B', 'density_A', 'density_B', 'density_A-B', 'density_A/B', 'density_max', 'density_min', 'density_avg', 'density_weighted_norm_A+B', 'specific_heat_A', 'specific_heat_B', 'specific_heat_A/B', 'specific_heat_max', 'specific_heat_min', 'specific_heat_avg', 'specific_heat_weighted_norm_A+B', 'cohesive_energy_A', 'cohesive_energy_B', 'cohesive_energy_A-B', 'cohesive_energy_A/B', 'cohesive_energy_max', 'cohesive_energy_min', 'cohesive_energy_avg', 'cohesive_energy_weighted_norm_A+B', 'bulk_modulus_A', 'bulk_modulus_B', 'bulk_modulus_A-B', 'bulk_modulus_A/B', 'bulk_modulus_max', 'bulk_modulus_min', 'bulk_modulus_avg', 'bulk_modulus_weighted_norm_A+B'], Score = 0.9000\n",
      "Iteration 60: Removed 'CIF_radius_A/B', Remaining = ['Gilman_A', 'Gilman_weighted_A+B', 'Gilman_weighted_norm_A+B', 'ionization_energy_max', 'ionization_energy_avg', 'coordination_number_B', 'coordination_number_A-B', 'ratio_closest_B', 'ratio_closest_avg', 'polyhedron_distortion_A', 'polyhedron_distortion_min', 'polyhedron_distortion_avg', 'CIF_radius_A', 'CIF_radius_A-B', 'CIF_radius_avg', 'CIF_radius_weighted_norm_A+B', 'Pauling_radius_CN12_A', 'Pauling_radius_CN12_B', 'Pauling_radius_CN12_avg', 'Pauling_radius_CN12_weighted_norm_A+B', 'Pauling_EN_B', 'Pauling_EN_A-B', 'Pauling_EN_A/B', 'Pauling_EN_max', 'Pauling_EN_avg', 'Pauling_EN_weighted_norm_A+B', 'Martynov_Batsanov_EN_A', 'Martynov_Batsanov_EN_B', 'Martynov_Batsanov_EN_A-B', 'Martynov_Batsanov_EN_A/B', 'Martynov_Batsanov_EN_max', 'Martynov_Batsanov_EN_min', 'Martynov_Batsanov_EN_avg', 'Martynov_Batsanov_EN_weighted_norm_A+B', 'melting_point_K_A', 'melting_point_K_B', 'melting_point_K_A-B', 'melting_point_K_A/B', 'melting_point_K_max', 'melting_point_K_min', 'melting_point_K_avg', 'melting_point_K_weighted_norm_A+B', 'density_A', 'density_B', 'density_A-B', 'density_A/B', 'density_max', 'density_min', 'density_avg', 'density_weighted_norm_A+B', 'specific_heat_A', 'specific_heat_B', 'specific_heat_A/B', 'specific_heat_max', 'specific_heat_min', 'specific_heat_avg', 'specific_heat_weighted_norm_A+B', 'cohesive_energy_A', 'cohesive_energy_B', 'cohesive_energy_A-B', 'cohesive_energy_A/B', 'cohesive_energy_max', 'cohesive_energy_min', 'cohesive_energy_avg', 'cohesive_energy_weighted_norm_A+B', 'bulk_modulus_A', 'bulk_modulus_B', 'bulk_modulus_A-B', 'bulk_modulus_A/B', 'bulk_modulus_max', 'bulk_modulus_min', 'bulk_modulus_avg', 'bulk_modulus_weighted_norm_A+B'], Score = 0.9000\n",
      "Iteration 61: Removed 'Martynov_Batsanov_EN_A', Remaining = ['Gilman_A', 'Gilman_weighted_A+B', 'Gilman_weighted_norm_A+B', 'ionization_energy_max', 'ionization_energy_avg', 'coordination_number_B', 'coordination_number_A-B', 'ratio_closest_B', 'ratio_closest_avg', 'polyhedron_distortion_A', 'polyhedron_distortion_min', 'polyhedron_distortion_avg', 'CIF_radius_A', 'CIF_radius_A-B', 'CIF_radius_avg', 'CIF_radius_weighted_norm_A+B', 'Pauling_radius_CN12_A', 'Pauling_radius_CN12_B', 'Pauling_radius_CN12_avg', 'Pauling_radius_CN12_weighted_norm_A+B', 'Pauling_EN_B', 'Pauling_EN_A-B', 'Pauling_EN_A/B', 'Pauling_EN_max', 'Pauling_EN_avg', 'Pauling_EN_weighted_norm_A+B', 'Martynov_Batsanov_EN_B', 'Martynov_Batsanov_EN_A-B', 'Martynov_Batsanov_EN_A/B', 'Martynov_Batsanov_EN_max', 'Martynov_Batsanov_EN_min', 'Martynov_Batsanov_EN_avg', 'Martynov_Batsanov_EN_weighted_norm_A+B', 'melting_point_K_A', 'melting_point_K_B', 'melting_point_K_A-B', 'melting_point_K_A/B', 'melting_point_K_max', 'melting_point_K_min', 'melting_point_K_avg', 'melting_point_K_weighted_norm_A+B', 'density_A', 'density_B', 'density_A-B', 'density_A/B', 'density_max', 'density_min', 'density_avg', 'density_weighted_norm_A+B', 'specific_heat_A', 'specific_heat_B', 'specific_heat_A/B', 'specific_heat_max', 'specific_heat_min', 'specific_heat_avg', 'specific_heat_weighted_norm_A+B', 'cohesive_energy_A', 'cohesive_energy_B', 'cohesive_energy_A-B', 'cohesive_energy_A/B', 'cohesive_energy_max', 'cohesive_energy_min', 'cohesive_energy_avg', 'cohesive_energy_weighted_norm_A+B', 'bulk_modulus_A', 'bulk_modulus_B', 'bulk_modulus_A-B', 'bulk_modulus_A/B', 'bulk_modulus_max', 'bulk_modulus_min', 'bulk_modulus_avg', 'bulk_modulus_weighted_norm_A+B'], Score = 0.9000\n",
      "Iteration 62: Removed 'Martynov_Batsanov_EN_A-B', Remaining = ['Gilman_A', 'Gilman_weighted_A+B', 'Gilman_weighted_norm_A+B', 'ionization_energy_max', 'ionization_energy_avg', 'coordination_number_B', 'coordination_number_A-B', 'ratio_closest_B', 'ratio_closest_avg', 'polyhedron_distortion_A', 'polyhedron_distortion_min', 'polyhedron_distortion_avg', 'CIF_radius_A', 'CIF_radius_A-B', 'CIF_radius_avg', 'CIF_radius_weighted_norm_A+B', 'Pauling_radius_CN12_A', 'Pauling_radius_CN12_B', 'Pauling_radius_CN12_avg', 'Pauling_radius_CN12_weighted_norm_A+B', 'Pauling_EN_B', 'Pauling_EN_A-B', 'Pauling_EN_A/B', 'Pauling_EN_max', 'Pauling_EN_avg', 'Pauling_EN_weighted_norm_A+B', 'Martynov_Batsanov_EN_B', 'Martynov_Batsanov_EN_A/B', 'Martynov_Batsanov_EN_max', 'Martynov_Batsanov_EN_min', 'Martynov_Batsanov_EN_avg', 'Martynov_Batsanov_EN_weighted_norm_A+B', 'melting_point_K_A', 'melting_point_K_B', 'melting_point_K_A-B', 'melting_point_K_A/B', 'melting_point_K_max', 'melting_point_K_min', 'melting_point_K_avg', 'melting_point_K_weighted_norm_A+B', 'density_A', 'density_B', 'density_A-B', 'density_A/B', 'density_max', 'density_min', 'density_avg', 'density_weighted_norm_A+B', 'specific_heat_A', 'specific_heat_B', 'specific_heat_A/B', 'specific_heat_max', 'specific_heat_min', 'specific_heat_avg', 'specific_heat_weighted_norm_A+B', 'cohesive_energy_A', 'cohesive_energy_B', 'cohesive_energy_A-B', 'cohesive_energy_A/B', 'cohesive_energy_max', 'cohesive_energy_min', 'cohesive_energy_avg', 'cohesive_energy_weighted_norm_A+B', 'bulk_modulus_A', 'bulk_modulus_B', 'bulk_modulus_A-B', 'bulk_modulus_A/B', 'bulk_modulus_max', 'bulk_modulus_min', 'bulk_modulus_avg', 'bulk_modulus_weighted_norm_A+B'], Score = 0.9000\n",
      "Iteration 63: Removed 'cohesive_energy_A/B', Remaining = ['Gilman_A', 'Gilman_weighted_A+B', 'Gilman_weighted_norm_A+B', 'ionization_energy_max', 'ionization_energy_avg', 'coordination_number_B', 'coordination_number_A-B', 'ratio_closest_B', 'ratio_closest_avg', 'polyhedron_distortion_A', 'polyhedron_distortion_min', 'polyhedron_distortion_avg', 'CIF_radius_A', 'CIF_radius_A-B', 'CIF_radius_avg', 'CIF_radius_weighted_norm_A+B', 'Pauling_radius_CN12_A', 'Pauling_radius_CN12_B', 'Pauling_radius_CN12_avg', 'Pauling_radius_CN12_weighted_norm_A+B', 'Pauling_EN_B', 'Pauling_EN_A-B', 'Pauling_EN_A/B', 'Pauling_EN_max', 'Pauling_EN_avg', 'Pauling_EN_weighted_norm_A+B', 'Martynov_Batsanov_EN_B', 'Martynov_Batsanov_EN_A/B', 'Martynov_Batsanov_EN_max', 'Martynov_Batsanov_EN_min', 'Martynov_Batsanov_EN_avg', 'Martynov_Batsanov_EN_weighted_norm_A+B', 'melting_point_K_A', 'melting_point_K_B', 'melting_point_K_A-B', 'melting_point_K_A/B', 'melting_point_K_max', 'melting_point_K_min', 'melting_point_K_avg', 'melting_point_K_weighted_norm_A+B', 'density_A', 'density_B', 'density_A-B', 'density_A/B', 'density_max', 'density_min', 'density_avg', 'density_weighted_norm_A+B', 'specific_heat_A', 'specific_heat_B', 'specific_heat_A/B', 'specific_heat_max', 'specific_heat_min', 'specific_heat_avg', 'specific_heat_weighted_norm_A+B', 'cohesive_energy_A', 'cohesive_energy_B', 'cohesive_energy_A-B', 'cohesive_energy_max', 'cohesive_energy_min', 'cohesive_energy_avg', 'cohesive_energy_weighted_norm_A+B', 'bulk_modulus_A', 'bulk_modulus_B', 'bulk_modulus_A-B', 'bulk_modulus_A/B', 'bulk_modulus_max', 'bulk_modulus_min', 'bulk_modulus_avg', 'bulk_modulus_weighted_norm_A+B'], Score = 0.9250\n",
      "Iteration 64: Removed 'ionization_energy_avg', Remaining = ['Gilman_A', 'Gilman_weighted_A+B', 'Gilman_weighted_norm_A+B', 'ionization_energy_max', 'coordination_number_B', 'coordination_number_A-B', 'ratio_closest_B', 'ratio_closest_avg', 'polyhedron_distortion_A', 'polyhedron_distortion_min', 'polyhedron_distortion_avg', 'CIF_radius_A', 'CIF_radius_A-B', 'CIF_radius_avg', 'CIF_radius_weighted_norm_A+B', 'Pauling_radius_CN12_A', 'Pauling_radius_CN12_B', 'Pauling_radius_CN12_avg', 'Pauling_radius_CN12_weighted_norm_A+B', 'Pauling_EN_B', 'Pauling_EN_A-B', 'Pauling_EN_A/B', 'Pauling_EN_max', 'Pauling_EN_avg', 'Pauling_EN_weighted_norm_A+B', 'Martynov_Batsanov_EN_B', 'Martynov_Batsanov_EN_A/B', 'Martynov_Batsanov_EN_max', 'Martynov_Batsanov_EN_min', 'Martynov_Batsanov_EN_avg', 'Martynov_Batsanov_EN_weighted_norm_A+B', 'melting_point_K_A', 'melting_point_K_B', 'melting_point_K_A-B', 'melting_point_K_A/B', 'melting_point_K_max', 'melting_point_K_min', 'melting_point_K_avg', 'melting_point_K_weighted_norm_A+B', 'density_A', 'density_B', 'density_A-B', 'density_A/B', 'density_max', 'density_min', 'density_avg', 'density_weighted_norm_A+B', 'specific_heat_A', 'specific_heat_B', 'specific_heat_A/B', 'specific_heat_max', 'specific_heat_min', 'specific_heat_avg', 'specific_heat_weighted_norm_A+B', 'cohesive_energy_A', 'cohesive_energy_B', 'cohesive_energy_A-B', 'cohesive_energy_max', 'cohesive_energy_min', 'cohesive_energy_avg', 'cohesive_energy_weighted_norm_A+B', 'bulk_modulus_A', 'bulk_modulus_B', 'bulk_modulus_A-B', 'bulk_modulus_A/B', 'bulk_modulus_max', 'bulk_modulus_min', 'bulk_modulus_avg', 'bulk_modulus_weighted_norm_A+B'], Score = 0.9250\n",
      "Iteration 65: Removed 'Pauling_radius_CN12_B', Remaining = ['Gilman_A', 'Gilman_weighted_A+B', 'Gilman_weighted_norm_A+B', 'ionization_energy_max', 'coordination_number_B', 'coordination_number_A-B', 'ratio_closest_B', 'ratio_closest_avg', 'polyhedron_distortion_A', 'polyhedron_distortion_min', 'polyhedron_distortion_avg', 'CIF_radius_A', 'CIF_radius_A-B', 'CIF_radius_avg', 'CIF_radius_weighted_norm_A+B', 'Pauling_radius_CN12_A', 'Pauling_radius_CN12_avg', 'Pauling_radius_CN12_weighted_norm_A+B', 'Pauling_EN_B', 'Pauling_EN_A-B', 'Pauling_EN_A/B', 'Pauling_EN_max', 'Pauling_EN_avg', 'Pauling_EN_weighted_norm_A+B', 'Martynov_Batsanov_EN_B', 'Martynov_Batsanov_EN_A/B', 'Martynov_Batsanov_EN_max', 'Martynov_Batsanov_EN_min', 'Martynov_Batsanov_EN_avg', 'Martynov_Batsanov_EN_weighted_norm_A+B', 'melting_point_K_A', 'melting_point_K_B', 'melting_point_K_A-B', 'melting_point_K_A/B', 'melting_point_K_max', 'melting_point_K_min', 'melting_point_K_avg', 'melting_point_K_weighted_norm_A+B', 'density_A', 'density_B', 'density_A-B', 'density_A/B', 'density_max', 'density_min', 'density_avg', 'density_weighted_norm_A+B', 'specific_heat_A', 'specific_heat_B', 'specific_heat_A/B', 'specific_heat_max', 'specific_heat_min', 'specific_heat_avg', 'specific_heat_weighted_norm_A+B', 'cohesive_energy_A', 'cohesive_energy_B', 'cohesive_energy_A-B', 'cohesive_energy_max', 'cohesive_energy_min', 'cohesive_energy_avg', 'cohesive_energy_weighted_norm_A+B', 'bulk_modulus_A', 'bulk_modulus_B', 'bulk_modulus_A-B', 'bulk_modulus_A/B', 'bulk_modulus_max', 'bulk_modulus_min', 'bulk_modulus_avg', 'bulk_modulus_weighted_norm_A+B'], Score = 0.9250\n",
      "Iteration 66: Removed 'Martynov_Batsanov_EN_min', Remaining = ['Gilman_A', 'Gilman_weighted_A+B', 'Gilman_weighted_norm_A+B', 'ionization_energy_max', 'coordination_number_B', 'coordination_number_A-B', 'ratio_closest_B', 'ratio_closest_avg', 'polyhedron_distortion_A', 'polyhedron_distortion_min', 'polyhedron_distortion_avg', 'CIF_radius_A', 'CIF_radius_A-B', 'CIF_radius_avg', 'CIF_radius_weighted_norm_A+B', 'Pauling_radius_CN12_A', 'Pauling_radius_CN12_avg', 'Pauling_radius_CN12_weighted_norm_A+B', 'Pauling_EN_B', 'Pauling_EN_A-B', 'Pauling_EN_A/B', 'Pauling_EN_max', 'Pauling_EN_avg', 'Pauling_EN_weighted_norm_A+B', 'Martynov_Batsanov_EN_B', 'Martynov_Batsanov_EN_A/B', 'Martynov_Batsanov_EN_max', 'Martynov_Batsanov_EN_avg', 'Martynov_Batsanov_EN_weighted_norm_A+B', 'melting_point_K_A', 'melting_point_K_B', 'melting_point_K_A-B', 'melting_point_K_A/B', 'melting_point_K_max', 'melting_point_K_min', 'melting_point_K_avg', 'melting_point_K_weighted_norm_A+B', 'density_A', 'density_B', 'density_A-B', 'density_A/B', 'density_max', 'density_min', 'density_avg', 'density_weighted_norm_A+B', 'specific_heat_A', 'specific_heat_B', 'specific_heat_A/B', 'specific_heat_max', 'specific_heat_min', 'specific_heat_avg', 'specific_heat_weighted_norm_A+B', 'cohesive_energy_A', 'cohesive_energy_B', 'cohesive_energy_A-B', 'cohesive_energy_max', 'cohesive_energy_min', 'cohesive_energy_avg', 'cohesive_energy_weighted_norm_A+B', 'bulk_modulus_A', 'bulk_modulus_B', 'bulk_modulus_A-B', 'bulk_modulus_A/B', 'bulk_modulus_max', 'bulk_modulus_min', 'bulk_modulus_avg', 'bulk_modulus_weighted_norm_A+B'], Score = 0.9250\n",
      "Iteration 67: Removed 'melting_point_K_A', Remaining = ['Gilman_A', 'Gilman_weighted_A+B', 'Gilman_weighted_norm_A+B', 'ionization_energy_max', 'coordination_number_B', 'coordination_number_A-B', 'ratio_closest_B', 'ratio_closest_avg', 'polyhedron_distortion_A', 'polyhedron_distortion_min', 'polyhedron_distortion_avg', 'CIF_radius_A', 'CIF_radius_A-B', 'CIF_radius_avg', 'CIF_radius_weighted_norm_A+B', 'Pauling_radius_CN12_A', 'Pauling_radius_CN12_avg', 'Pauling_radius_CN12_weighted_norm_A+B', 'Pauling_EN_B', 'Pauling_EN_A-B', 'Pauling_EN_A/B', 'Pauling_EN_max', 'Pauling_EN_avg', 'Pauling_EN_weighted_norm_A+B', 'Martynov_Batsanov_EN_B', 'Martynov_Batsanov_EN_A/B', 'Martynov_Batsanov_EN_max', 'Martynov_Batsanov_EN_avg', 'Martynov_Batsanov_EN_weighted_norm_A+B', 'melting_point_K_B', 'melting_point_K_A-B', 'melting_point_K_A/B', 'melting_point_K_max', 'melting_point_K_min', 'melting_point_K_avg', 'melting_point_K_weighted_norm_A+B', 'density_A', 'density_B', 'density_A-B', 'density_A/B', 'density_max', 'density_min', 'density_avg', 'density_weighted_norm_A+B', 'specific_heat_A', 'specific_heat_B', 'specific_heat_A/B', 'specific_heat_max', 'specific_heat_min', 'specific_heat_avg', 'specific_heat_weighted_norm_A+B', 'cohesive_energy_A', 'cohesive_energy_B', 'cohesive_energy_A-B', 'cohesive_energy_max', 'cohesive_energy_min', 'cohesive_energy_avg', 'cohesive_energy_weighted_norm_A+B', 'bulk_modulus_A', 'bulk_modulus_B', 'bulk_modulus_A-B', 'bulk_modulus_A/B', 'bulk_modulus_max', 'bulk_modulus_min', 'bulk_modulus_avg', 'bulk_modulus_weighted_norm_A+B'], Score = 0.9250\n",
      "Iteration 68: Removed 'CIF_radius_A-B', Remaining = ['Gilman_A', 'Gilman_weighted_A+B', 'Gilman_weighted_norm_A+B', 'ionization_energy_max', 'coordination_number_B', 'coordination_number_A-B', 'ratio_closest_B', 'ratio_closest_avg', 'polyhedron_distortion_A', 'polyhedron_distortion_min', 'polyhedron_distortion_avg', 'CIF_radius_A', 'CIF_radius_avg', 'CIF_radius_weighted_norm_A+B', 'Pauling_radius_CN12_A', 'Pauling_radius_CN12_avg', 'Pauling_radius_CN12_weighted_norm_A+B', 'Pauling_EN_B', 'Pauling_EN_A-B', 'Pauling_EN_A/B', 'Pauling_EN_max', 'Pauling_EN_avg', 'Pauling_EN_weighted_norm_A+B', 'Martynov_Batsanov_EN_B', 'Martynov_Batsanov_EN_A/B', 'Martynov_Batsanov_EN_max', 'Martynov_Batsanov_EN_avg', 'Martynov_Batsanov_EN_weighted_norm_A+B', 'melting_point_K_B', 'melting_point_K_A-B', 'melting_point_K_A/B', 'melting_point_K_max', 'melting_point_K_min', 'melting_point_K_avg', 'melting_point_K_weighted_norm_A+B', 'density_A', 'density_B', 'density_A-B', 'density_A/B', 'density_max', 'density_min', 'density_avg', 'density_weighted_norm_A+B', 'specific_heat_A', 'specific_heat_B', 'specific_heat_A/B', 'specific_heat_max', 'specific_heat_min', 'specific_heat_avg', 'specific_heat_weighted_norm_A+B', 'cohesive_energy_A', 'cohesive_energy_B', 'cohesive_energy_A-B', 'cohesive_energy_max', 'cohesive_energy_min', 'cohesive_energy_avg', 'cohesive_energy_weighted_norm_A+B', 'bulk_modulus_A', 'bulk_modulus_B', 'bulk_modulus_A-B', 'bulk_modulus_A/B', 'bulk_modulus_max', 'bulk_modulus_min', 'bulk_modulus_avg', 'bulk_modulus_weighted_norm_A+B'], Score = 0.9250\n",
      "Iteration 69: Removed 'Pauling_radius_CN12_A', Remaining = ['Gilman_A', 'Gilman_weighted_A+B', 'Gilman_weighted_norm_A+B', 'ionization_energy_max', 'coordination_number_B', 'coordination_number_A-B', 'ratio_closest_B', 'ratio_closest_avg', 'polyhedron_distortion_A', 'polyhedron_distortion_min', 'polyhedron_distortion_avg', 'CIF_radius_A', 'CIF_radius_avg', 'CIF_radius_weighted_norm_A+B', 'Pauling_radius_CN12_avg', 'Pauling_radius_CN12_weighted_norm_A+B', 'Pauling_EN_B', 'Pauling_EN_A-B', 'Pauling_EN_A/B', 'Pauling_EN_max', 'Pauling_EN_avg', 'Pauling_EN_weighted_norm_A+B', 'Martynov_Batsanov_EN_B', 'Martynov_Batsanov_EN_A/B', 'Martynov_Batsanov_EN_max', 'Martynov_Batsanov_EN_avg', 'Martynov_Batsanov_EN_weighted_norm_A+B', 'melting_point_K_B', 'melting_point_K_A-B', 'melting_point_K_A/B', 'melting_point_K_max', 'melting_point_K_min', 'melting_point_K_avg', 'melting_point_K_weighted_norm_A+B', 'density_A', 'density_B', 'density_A-B', 'density_A/B', 'density_max', 'density_min', 'density_avg', 'density_weighted_norm_A+B', 'specific_heat_A', 'specific_heat_B', 'specific_heat_A/B', 'specific_heat_max', 'specific_heat_min', 'specific_heat_avg', 'specific_heat_weighted_norm_A+B', 'cohesive_energy_A', 'cohesive_energy_B', 'cohesive_energy_A-B', 'cohesive_energy_max', 'cohesive_energy_min', 'cohesive_energy_avg', 'cohesive_energy_weighted_norm_A+B', 'bulk_modulus_A', 'bulk_modulus_B', 'bulk_modulus_A-B', 'bulk_modulus_A/B', 'bulk_modulus_max', 'bulk_modulus_min', 'bulk_modulus_avg', 'bulk_modulus_weighted_norm_A+B'], Score = 0.9250\n",
      "Iteration 70: Removed 'Pauling_EN_avg', Remaining = ['Gilman_A', 'Gilman_weighted_A+B', 'Gilman_weighted_norm_A+B', 'ionization_energy_max', 'coordination_number_B', 'coordination_number_A-B', 'ratio_closest_B', 'ratio_closest_avg', 'polyhedron_distortion_A', 'polyhedron_distortion_min', 'polyhedron_distortion_avg', 'CIF_radius_A', 'CIF_radius_avg', 'CIF_radius_weighted_norm_A+B', 'Pauling_radius_CN12_avg', 'Pauling_radius_CN12_weighted_norm_A+B', 'Pauling_EN_B', 'Pauling_EN_A-B', 'Pauling_EN_A/B', 'Pauling_EN_max', 'Pauling_EN_weighted_norm_A+B', 'Martynov_Batsanov_EN_B', 'Martynov_Batsanov_EN_A/B', 'Martynov_Batsanov_EN_max', 'Martynov_Batsanov_EN_avg', 'Martynov_Batsanov_EN_weighted_norm_A+B', 'melting_point_K_B', 'melting_point_K_A-B', 'melting_point_K_A/B', 'melting_point_K_max', 'melting_point_K_min', 'melting_point_K_avg', 'melting_point_K_weighted_norm_A+B', 'density_A', 'density_B', 'density_A-B', 'density_A/B', 'density_max', 'density_min', 'density_avg', 'density_weighted_norm_A+B', 'specific_heat_A', 'specific_heat_B', 'specific_heat_A/B', 'specific_heat_max', 'specific_heat_min', 'specific_heat_avg', 'specific_heat_weighted_norm_A+B', 'cohesive_energy_A', 'cohesive_energy_B', 'cohesive_energy_A-B', 'cohesive_energy_max', 'cohesive_energy_min', 'cohesive_energy_avg', 'cohesive_energy_weighted_norm_A+B', 'bulk_modulus_A', 'bulk_modulus_B', 'bulk_modulus_A-B', 'bulk_modulus_A/B', 'bulk_modulus_max', 'bulk_modulus_min', 'bulk_modulus_avg', 'bulk_modulus_weighted_norm_A+B'], Score = 0.9250\n",
      "Iteration 71: Removed 'melting_point_K_B', Remaining = ['Gilman_A', 'Gilman_weighted_A+B', 'Gilman_weighted_norm_A+B', 'ionization_energy_max', 'coordination_number_B', 'coordination_number_A-B', 'ratio_closest_B', 'ratio_closest_avg', 'polyhedron_distortion_A', 'polyhedron_distortion_min', 'polyhedron_distortion_avg', 'CIF_radius_A', 'CIF_radius_avg', 'CIF_radius_weighted_norm_A+B', 'Pauling_radius_CN12_avg', 'Pauling_radius_CN12_weighted_norm_A+B', 'Pauling_EN_B', 'Pauling_EN_A-B', 'Pauling_EN_A/B', 'Pauling_EN_max', 'Pauling_EN_weighted_norm_A+B', 'Martynov_Batsanov_EN_B', 'Martynov_Batsanov_EN_A/B', 'Martynov_Batsanov_EN_max', 'Martynov_Batsanov_EN_avg', 'Martynov_Batsanov_EN_weighted_norm_A+B', 'melting_point_K_A-B', 'melting_point_K_A/B', 'melting_point_K_max', 'melting_point_K_min', 'melting_point_K_avg', 'melting_point_K_weighted_norm_A+B', 'density_A', 'density_B', 'density_A-B', 'density_A/B', 'density_max', 'density_min', 'density_avg', 'density_weighted_norm_A+B', 'specific_heat_A', 'specific_heat_B', 'specific_heat_A/B', 'specific_heat_max', 'specific_heat_min', 'specific_heat_avg', 'specific_heat_weighted_norm_A+B', 'cohesive_energy_A', 'cohesive_energy_B', 'cohesive_energy_A-B', 'cohesive_energy_max', 'cohesive_energy_min', 'cohesive_energy_avg', 'cohesive_energy_weighted_norm_A+B', 'bulk_modulus_A', 'bulk_modulus_B', 'bulk_modulus_A-B', 'bulk_modulus_A/B', 'bulk_modulus_max', 'bulk_modulus_min', 'bulk_modulus_avg', 'bulk_modulus_weighted_norm_A+B'], Score = 0.9250\n",
      "Iteration 72: Removed 'Martynov_Batsanov_EN_weighted_norm_A+B', Remaining = ['Gilman_A', 'Gilman_weighted_A+B', 'Gilman_weighted_norm_A+B', 'ionization_energy_max', 'coordination_number_B', 'coordination_number_A-B', 'ratio_closest_B', 'ratio_closest_avg', 'polyhedron_distortion_A', 'polyhedron_distortion_min', 'polyhedron_distortion_avg', 'CIF_radius_A', 'CIF_radius_avg', 'CIF_radius_weighted_norm_A+B', 'Pauling_radius_CN12_avg', 'Pauling_radius_CN12_weighted_norm_A+B', 'Pauling_EN_B', 'Pauling_EN_A-B', 'Pauling_EN_A/B', 'Pauling_EN_max', 'Pauling_EN_weighted_norm_A+B', 'Martynov_Batsanov_EN_B', 'Martynov_Batsanov_EN_A/B', 'Martynov_Batsanov_EN_max', 'Martynov_Batsanov_EN_avg', 'melting_point_K_A-B', 'melting_point_K_A/B', 'melting_point_K_max', 'melting_point_K_min', 'melting_point_K_avg', 'melting_point_K_weighted_norm_A+B', 'density_A', 'density_B', 'density_A-B', 'density_A/B', 'density_max', 'density_min', 'density_avg', 'density_weighted_norm_A+B', 'specific_heat_A', 'specific_heat_B', 'specific_heat_A/B', 'specific_heat_max', 'specific_heat_min', 'specific_heat_avg', 'specific_heat_weighted_norm_A+B', 'cohesive_energy_A', 'cohesive_energy_B', 'cohesive_energy_A-B', 'cohesive_energy_max', 'cohesive_energy_min', 'cohesive_energy_avg', 'cohesive_energy_weighted_norm_A+B', 'bulk_modulus_A', 'bulk_modulus_B', 'bulk_modulus_A-B', 'bulk_modulus_A/B', 'bulk_modulus_max', 'bulk_modulus_min', 'bulk_modulus_avg', 'bulk_modulus_weighted_norm_A+B'], Score = 0.9250\n",
      "Iteration 73: Removed 'Martynov_Batsanov_EN_A/B', Remaining = ['Gilman_A', 'Gilman_weighted_A+B', 'Gilman_weighted_norm_A+B', 'ionization_energy_max', 'coordination_number_B', 'coordination_number_A-B', 'ratio_closest_B', 'ratio_closest_avg', 'polyhedron_distortion_A', 'polyhedron_distortion_min', 'polyhedron_distortion_avg', 'CIF_radius_A', 'CIF_radius_avg', 'CIF_radius_weighted_norm_A+B', 'Pauling_radius_CN12_avg', 'Pauling_radius_CN12_weighted_norm_A+B', 'Pauling_EN_B', 'Pauling_EN_A-B', 'Pauling_EN_A/B', 'Pauling_EN_max', 'Pauling_EN_weighted_norm_A+B', 'Martynov_Batsanov_EN_B', 'Martynov_Batsanov_EN_max', 'Martynov_Batsanov_EN_avg', 'melting_point_K_A-B', 'melting_point_K_A/B', 'melting_point_K_max', 'melting_point_K_min', 'melting_point_K_avg', 'melting_point_K_weighted_norm_A+B', 'density_A', 'density_B', 'density_A-B', 'density_A/B', 'density_max', 'density_min', 'density_avg', 'density_weighted_norm_A+B', 'specific_heat_A', 'specific_heat_B', 'specific_heat_A/B', 'specific_heat_max', 'specific_heat_min', 'specific_heat_avg', 'specific_heat_weighted_norm_A+B', 'cohesive_energy_A', 'cohesive_energy_B', 'cohesive_energy_A-B', 'cohesive_energy_max', 'cohesive_energy_min', 'cohesive_energy_avg', 'cohesive_energy_weighted_norm_A+B', 'bulk_modulus_A', 'bulk_modulus_B', 'bulk_modulus_A-B', 'bulk_modulus_A/B', 'bulk_modulus_max', 'bulk_modulus_min', 'bulk_modulus_avg', 'bulk_modulus_weighted_norm_A+B'], Score = 0.9250\n",
      "Iteration 74: Removed 'melting_point_K_A-B', Remaining = ['Gilman_A', 'Gilman_weighted_A+B', 'Gilman_weighted_norm_A+B', 'ionization_energy_max', 'coordination_number_B', 'coordination_number_A-B', 'ratio_closest_B', 'ratio_closest_avg', 'polyhedron_distortion_A', 'polyhedron_distortion_min', 'polyhedron_distortion_avg', 'CIF_radius_A', 'CIF_radius_avg', 'CIF_radius_weighted_norm_A+B', 'Pauling_radius_CN12_avg', 'Pauling_radius_CN12_weighted_norm_A+B', 'Pauling_EN_B', 'Pauling_EN_A-B', 'Pauling_EN_A/B', 'Pauling_EN_max', 'Pauling_EN_weighted_norm_A+B', 'Martynov_Batsanov_EN_B', 'Martynov_Batsanov_EN_max', 'Martynov_Batsanov_EN_avg', 'melting_point_K_A/B', 'melting_point_K_max', 'melting_point_K_min', 'melting_point_K_avg', 'melting_point_K_weighted_norm_A+B', 'density_A', 'density_B', 'density_A-B', 'density_A/B', 'density_max', 'density_min', 'density_avg', 'density_weighted_norm_A+B', 'specific_heat_A', 'specific_heat_B', 'specific_heat_A/B', 'specific_heat_max', 'specific_heat_min', 'specific_heat_avg', 'specific_heat_weighted_norm_A+B', 'cohesive_energy_A', 'cohesive_energy_B', 'cohesive_energy_A-B', 'cohesive_energy_max', 'cohesive_energy_min', 'cohesive_energy_avg', 'cohesive_energy_weighted_norm_A+B', 'bulk_modulus_A', 'bulk_modulus_B', 'bulk_modulus_A-B', 'bulk_modulus_A/B', 'bulk_modulus_max', 'bulk_modulus_min', 'bulk_modulus_avg', 'bulk_modulus_weighted_norm_A+B'], Score = 0.9250\n",
      "Iteration 75: Removed 'melting_point_K_A/B', Remaining = ['Gilman_A', 'Gilman_weighted_A+B', 'Gilman_weighted_norm_A+B', 'ionization_energy_max', 'coordination_number_B', 'coordination_number_A-B', 'ratio_closest_B', 'ratio_closest_avg', 'polyhedron_distortion_A', 'polyhedron_distortion_min', 'polyhedron_distortion_avg', 'CIF_radius_A', 'CIF_radius_avg', 'CIF_radius_weighted_norm_A+B', 'Pauling_radius_CN12_avg', 'Pauling_radius_CN12_weighted_norm_A+B', 'Pauling_EN_B', 'Pauling_EN_A-B', 'Pauling_EN_A/B', 'Pauling_EN_max', 'Pauling_EN_weighted_norm_A+B', 'Martynov_Batsanov_EN_B', 'Martynov_Batsanov_EN_max', 'Martynov_Batsanov_EN_avg', 'melting_point_K_max', 'melting_point_K_min', 'melting_point_K_avg', 'melting_point_K_weighted_norm_A+B', 'density_A', 'density_B', 'density_A-B', 'density_A/B', 'density_max', 'density_min', 'density_avg', 'density_weighted_norm_A+B', 'specific_heat_A', 'specific_heat_B', 'specific_heat_A/B', 'specific_heat_max', 'specific_heat_min', 'specific_heat_avg', 'specific_heat_weighted_norm_A+B', 'cohesive_energy_A', 'cohesive_energy_B', 'cohesive_energy_A-B', 'cohesive_energy_max', 'cohesive_energy_min', 'cohesive_energy_avg', 'cohesive_energy_weighted_norm_A+B', 'bulk_modulus_A', 'bulk_modulus_B', 'bulk_modulus_A-B', 'bulk_modulus_A/B', 'bulk_modulus_max', 'bulk_modulus_min', 'bulk_modulus_avg', 'bulk_modulus_weighted_norm_A+B'], Score = 0.9250\n",
      "Iteration 76: Removed 'melting_point_K_max', Remaining = ['Gilman_A', 'Gilman_weighted_A+B', 'Gilman_weighted_norm_A+B', 'ionization_energy_max', 'coordination_number_B', 'coordination_number_A-B', 'ratio_closest_B', 'ratio_closest_avg', 'polyhedron_distortion_A', 'polyhedron_distortion_min', 'polyhedron_distortion_avg', 'CIF_radius_A', 'CIF_radius_avg', 'CIF_radius_weighted_norm_A+B', 'Pauling_radius_CN12_avg', 'Pauling_radius_CN12_weighted_norm_A+B', 'Pauling_EN_B', 'Pauling_EN_A-B', 'Pauling_EN_A/B', 'Pauling_EN_max', 'Pauling_EN_weighted_norm_A+B', 'Martynov_Batsanov_EN_B', 'Martynov_Batsanov_EN_max', 'Martynov_Batsanov_EN_avg', 'melting_point_K_min', 'melting_point_K_avg', 'melting_point_K_weighted_norm_A+B', 'density_A', 'density_B', 'density_A-B', 'density_A/B', 'density_max', 'density_min', 'density_avg', 'density_weighted_norm_A+B', 'specific_heat_A', 'specific_heat_B', 'specific_heat_A/B', 'specific_heat_max', 'specific_heat_min', 'specific_heat_avg', 'specific_heat_weighted_norm_A+B', 'cohesive_energy_A', 'cohesive_energy_B', 'cohesive_energy_A-B', 'cohesive_energy_max', 'cohesive_energy_min', 'cohesive_energy_avg', 'cohesive_energy_weighted_norm_A+B', 'bulk_modulus_A', 'bulk_modulus_B', 'bulk_modulus_A-B', 'bulk_modulus_A/B', 'bulk_modulus_max', 'bulk_modulus_min', 'bulk_modulus_avg', 'bulk_modulus_weighted_norm_A+B'], Score = 0.9250\n",
      "Iteration 77: Removed 'coordination_number_A-B', Remaining = ['Gilman_A', 'Gilman_weighted_A+B', 'Gilman_weighted_norm_A+B', 'ionization_energy_max', 'coordination_number_B', 'ratio_closest_B', 'ratio_closest_avg', 'polyhedron_distortion_A', 'polyhedron_distortion_min', 'polyhedron_distortion_avg', 'CIF_radius_A', 'CIF_radius_avg', 'CIF_radius_weighted_norm_A+B', 'Pauling_radius_CN12_avg', 'Pauling_radius_CN12_weighted_norm_A+B', 'Pauling_EN_B', 'Pauling_EN_A-B', 'Pauling_EN_A/B', 'Pauling_EN_max', 'Pauling_EN_weighted_norm_A+B', 'Martynov_Batsanov_EN_B', 'Martynov_Batsanov_EN_max', 'Martynov_Batsanov_EN_avg', 'melting_point_K_min', 'melting_point_K_avg', 'melting_point_K_weighted_norm_A+B', 'density_A', 'density_B', 'density_A-B', 'density_A/B', 'density_max', 'density_min', 'density_avg', 'density_weighted_norm_A+B', 'specific_heat_A', 'specific_heat_B', 'specific_heat_A/B', 'specific_heat_max', 'specific_heat_min', 'specific_heat_avg', 'specific_heat_weighted_norm_A+B', 'cohesive_energy_A', 'cohesive_energy_B', 'cohesive_energy_A-B', 'cohesive_energy_max', 'cohesive_energy_min', 'cohesive_energy_avg', 'cohesive_energy_weighted_norm_A+B', 'bulk_modulus_A', 'bulk_modulus_B', 'bulk_modulus_A-B', 'bulk_modulus_A/B', 'bulk_modulus_max', 'bulk_modulus_min', 'bulk_modulus_avg', 'bulk_modulus_weighted_norm_A+B'], Score = 0.9250\n",
      "Iteration 78: Removed 'melting_point_K_min', Remaining = ['Gilman_A', 'Gilman_weighted_A+B', 'Gilman_weighted_norm_A+B', 'ionization_energy_max', 'coordination_number_B', 'ratio_closest_B', 'ratio_closest_avg', 'polyhedron_distortion_A', 'polyhedron_distortion_min', 'polyhedron_distortion_avg', 'CIF_radius_A', 'CIF_radius_avg', 'CIF_radius_weighted_norm_A+B', 'Pauling_radius_CN12_avg', 'Pauling_radius_CN12_weighted_norm_A+B', 'Pauling_EN_B', 'Pauling_EN_A-B', 'Pauling_EN_A/B', 'Pauling_EN_max', 'Pauling_EN_weighted_norm_A+B', 'Martynov_Batsanov_EN_B', 'Martynov_Batsanov_EN_max', 'Martynov_Batsanov_EN_avg', 'melting_point_K_avg', 'melting_point_K_weighted_norm_A+B', 'density_A', 'density_B', 'density_A-B', 'density_A/B', 'density_max', 'density_min', 'density_avg', 'density_weighted_norm_A+B', 'specific_heat_A', 'specific_heat_B', 'specific_heat_A/B', 'specific_heat_max', 'specific_heat_min', 'specific_heat_avg', 'specific_heat_weighted_norm_A+B', 'cohesive_energy_A', 'cohesive_energy_B', 'cohesive_energy_A-B', 'cohesive_energy_max', 'cohesive_energy_min', 'cohesive_energy_avg', 'cohesive_energy_weighted_norm_A+B', 'bulk_modulus_A', 'bulk_modulus_B', 'bulk_modulus_A-B', 'bulk_modulus_A/B', 'bulk_modulus_max', 'bulk_modulus_min', 'bulk_modulus_avg', 'bulk_modulus_weighted_norm_A+B'], Score = 0.9250\n",
      "Iteration 79: Removed 'CIF_radius_avg', Remaining = ['Gilman_A', 'Gilman_weighted_A+B', 'Gilman_weighted_norm_A+B', 'ionization_energy_max', 'coordination_number_B', 'ratio_closest_B', 'ratio_closest_avg', 'polyhedron_distortion_A', 'polyhedron_distortion_min', 'polyhedron_distortion_avg', 'CIF_radius_A', 'CIF_radius_weighted_norm_A+B', 'Pauling_radius_CN12_avg', 'Pauling_radius_CN12_weighted_norm_A+B', 'Pauling_EN_B', 'Pauling_EN_A-B', 'Pauling_EN_A/B', 'Pauling_EN_max', 'Pauling_EN_weighted_norm_A+B', 'Martynov_Batsanov_EN_B', 'Martynov_Batsanov_EN_max', 'Martynov_Batsanov_EN_avg', 'melting_point_K_avg', 'melting_point_K_weighted_norm_A+B', 'density_A', 'density_B', 'density_A-B', 'density_A/B', 'density_max', 'density_min', 'density_avg', 'density_weighted_norm_A+B', 'specific_heat_A', 'specific_heat_B', 'specific_heat_A/B', 'specific_heat_max', 'specific_heat_min', 'specific_heat_avg', 'specific_heat_weighted_norm_A+B', 'cohesive_energy_A', 'cohesive_energy_B', 'cohesive_energy_A-B', 'cohesive_energy_max', 'cohesive_energy_min', 'cohesive_energy_avg', 'cohesive_energy_weighted_norm_A+B', 'bulk_modulus_A', 'bulk_modulus_B', 'bulk_modulus_A-B', 'bulk_modulus_A/B', 'bulk_modulus_max', 'bulk_modulus_min', 'bulk_modulus_avg', 'bulk_modulus_weighted_norm_A+B'], Score = 0.9250\n",
      "Iteration 80: Removed 'melting_point_K_avg', Remaining = ['Gilman_A', 'Gilman_weighted_A+B', 'Gilman_weighted_norm_A+B', 'ionization_energy_max', 'coordination_number_B', 'ratio_closest_B', 'ratio_closest_avg', 'polyhedron_distortion_A', 'polyhedron_distortion_min', 'polyhedron_distortion_avg', 'CIF_radius_A', 'CIF_radius_weighted_norm_A+B', 'Pauling_radius_CN12_avg', 'Pauling_radius_CN12_weighted_norm_A+B', 'Pauling_EN_B', 'Pauling_EN_A-B', 'Pauling_EN_A/B', 'Pauling_EN_max', 'Pauling_EN_weighted_norm_A+B', 'Martynov_Batsanov_EN_B', 'Martynov_Batsanov_EN_max', 'Martynov_Batsanov_EN_avg', 'melting_point_K_weighted_norm_A+B', 'density_A', 'density_B', 'density_A-B', 'density_A/B', 'density_max', 'density_min', 'density_avg', 'density_weighted_norm_A+B', 'specific_heat_A', 'specific_heat_B', 'specific_heat_A/B', 'specific_heat_max', 'specific_heat_min', 'specific_heat_avg', 'specific_heat_weighted_norm_A+B', 'cohesive_energy_A', 'cohesive_energy_B', 'cohesive_energy_A-B', 'cohesive_energy_max', 'cohesive_energy_min', 'cohesive_energy_avg', 'cohesive_energy_weighted_norm_A+B', 'bulk_modulus_A', 'bulk_modulus_B', 'bulk_modulus_A-B', 'bulk_modulus_A/B', 'bulk_modulus_max', 'bulk_modulus_min', 'bulk_modulus_avg', 'bulk_modulus_weighted_norm_A+B'], Score = 0.9250\n",
      "Iteration 81: Removed 'Pauling_EN_max', Remaining = ['Gilman_A', 'Gilman_weighted_A+B', 'Gilman_weighted_norm_A+B', 'ionization_energy_max', 'coordination_number_B', 'ratio_closest_B', 'ratio_closest_avg', 'polyhedron_distortion_A', 'polyhedron_distortion_min', 'polyhedron_distortion_avg', 'CIF_radius_A', 'CIF_radius_weighted_norm_A+B', 'Pauling_radius_CN12_avg', 'Pauling_radius_CN12_weighted_norm_A+B', 'Pauling_EN_B', 'Pauling_EN_A-B', 'Pauling_EN_A/B', 'Pauling_EN_weighted_norm_A+B', 'Martynov_Batsanov_EN_B', 'Martynov_Batsanov_EN_max', 'Martynov_Batsanov_EN_avg', 'melting_point_K_weighted_norm_A+B', 'density_A', 'density_B', 'density_A-B', 'density_A/B', 'density_max', 'density_min', 'density_avg', 'density_weighted_norm_A+B', 'specific_heat_A', 'specific_heat_B', 'specific_heat_A/B', 'specific_heat_max', 'specific_heat_min', 'specific_heat_avg', 'specific_heat_weighted_norm_A+B', 'cohesive_energy_A', 'cohesive_energy_B', 'cohesive_energy_A-B', 'cohesive_energy_max', 'cohesive_energy_min', 'cohesive_energy_avg', 'cohesive_energy_weighted_norm_A+B', 'bulk_modulus_A', 'bulk_modulus_B', 'bulk_modulus_A-B', 'bulk_modulus_A/B', 'bulk_modulus_max', 'bulk_modulus_min', 'bulk_modulus_avg', 'bulk_modulus_weighted_norm_A+B'], Score = 0.9250\n",
      "Iteration 82: Removed 'density_A/B', Remaining = ['Gilman_A', 'Gilman_weighted_A+B', 'Gilman_weighted_norm_A+B', 'ionization_energy_max', 'coordination_number_B', 'ratio_closest_B', 'ratio_closest_avg', 'polyhedron_distortion_A', 'polyhedron_distortion_min', 'polyhedron_distortion_avg', 'CIF_radius_A', 'CIF_radius_weighted_norm_A+B', 'Pauling_radius_CN12_avg', 'Pauling_radius_CN12_weighted_norm_A+B', 'Pauling_EN_B', 'Pauling_EN_A-B', 'Pauling_EN_A/B', 'Pauling_EN_weighted_norm_A+B', 'Martynov_Batsanov_EN_B', 'Martynov_Batsanov_EN_max', 'Martynov_Batsanov_EN_avg', 'melting_point_K_weighted_norm_A+B', 'density_A', 'density_B', 'density_A-B', 'density_max', 'density_min', 'density_avg', 'density_weighted_norm_A+B', 'specific_heat_A', 'specific_heat_B', 'specific_heat_A/B', 'specific_heat_max', 'specific_heat_min', 'specific_heat_avg', 'specific_heat_weighted_norm_A+B', 'cohesive_energy_A', 'cohesive_energy_B', 'cohesive_energy_A-B', 'cohesive_energy_max', 'cohesive_energy_min', 'cohesive_energy_avg', 'cohesive_energy_weighted_norm_A+B', 'bulk_modulus_A', 'bulk_modulus_B', 'bulk_modulus_A-B', 'bulk_modulus_A/B', 'bulk_modulus_max', 'bulk_modulus_min', 'bulk_modulus_avg', 'bulk_modulus_weighted_norm_A+B'], Score = 0.9250\n",
      "Iteration 83: Removed 'melting_point_K_weighted_norm_A+B', Remaining = ['Gilman_A', 'Gilman_weighted_A+B', 'Gilman_weighted_norm_A+B', 'ionization_energy_max', 'coordination_number_B', 'ratio_closest_B', 'ratio_closest_avg', 'polyhedron_distortion_A', 'polyhedron_distortion_min', 'polyhedron_distortion_avg', 'CIF_radius_A', 'CIF_radius_weighted_norm_A+B', 'Pauling_radius_CN12_avg', 'Pauling_radius_CN12_weighted_norm_A+B', 'Pauling_EN_B', 'Pauling_EN_A-B', 'Pauling_EN_A/B', 'Pauling_EN_weighted_norm_A+B', 'Martynov_Batsanov_EN_B', 'Martynov_Batsanov_EN_max', 'Martynov_Batsanov_EN_avg', 'density_A', 'density_B', 'density_A-B', 'density_max', 'density_min', 'density_avg', 'density_weighted_norm_A+B', 'specific_heat_A', 'specific_heat_B', 'specific_heat_A/B', 'specific_heat_max', 'specific_heat_min', 'specific_heat_avg', 'specific_heat_weighted_norm_A+B', 'cohesive_energy_A', 'cohesive_energy_B', 'cohesive_energy_A-B', 'cohesive_energy_max', 'cohesive_energy_min', 'cohesive_energy_avg', 'cohesive_energy_weighted_norm_A+B', 'bulk_modulus_A', 'bulk_modulus_B', 'bulk_modulus_A-B', 'bulk_modulus_A/B', 'bulk_modulus_max', 'bulk_modulus_min', 'bulk_modulus_avg', 'bulk_modulus_weighted_norm_A+B'], Score = 0.9250\n",
      "Iteration 84: Removed 'Pauling_radius_CN12_avg', Remaining = ['Gilman_A', 'Gilman_weighted_A+B', 'Gilman_weighted_norm_A+B', 'ionization_energy_max', 'coordination_number_B', 'ratio_closest_B', 'ratio_closest_avg', 'polyhedron_distortion_A', 'polyhedron_distortion_min', 'polyhedron_distortion_avg', 'CIF_radius_A', 'CIF_radius_weighted_norm_A+B', 'Pauling_radius_CN12_weighted_norm_A+B', 'Pauling_EN_B', 'Pauling_EN_A-B', 'Pauling_EN_A/B', 'Pauling_EN_weighted_norm_A+B', 'Martynov_Batsanov_EN_B', 'Martynov_Batsanov_EN_max', 'Martynov_Batsanov_EN_avg', 'density_A', 'density_B', 'density_A-B', 'density_max', 'density_min', 'density_avg', 'density_weighted_norm_A+B', 'specific_heat_A', 'specific_heat_B', 'specific_heat_A/B', 'specific_heat_max', 'specific_heat_min', 'specific_heat_avg', 'specific_heat_weighted_norm_A+B', 'cohesive_energy_A', 'cohesive_energy_B', 'cohesive_energy_A-B', 'cohesive_energy_max', 'cohesive_energy_min', 'cohesive_energy_avg', 'cohesive_energy_weighted_norm_A+B', 'bulk_modulus_A', 'bulk_modulus_B', 'bulk_modulus_A-B', 'bulk_modulus_A/B', 'bulk_modulus_max', 'bulk_modulus_min', 'bulk_modulus_avg', 'bulk_modulus_weighted_norm_A+B'], Score = 0.9250\n",
      "Iteration 85: Removed 'Gilman_A', Remaining = ['Gilman_weighted_A+B', 'Gilman_weighted_norm_A+B', 'ionization_energy_max', 'coordination_number_B', 'ratio_closest_B', 'ratio_closest_avg', 'polyhedron_distortion_A', 'polyhedron_distortion_min', 'polyhedron_distortion_avg', 'CIF_radius_A', 'CIF_radius_weighted_norm_A+B', 'Pauling_radius_CN12_weighted_norm_A+B', 'Pauling_EN_B', 'Pauling_EN_A-B', 'Pauling_EN_A/B', 'Pauling_EN_weighted_norm_A+B', 'Martynov_Batsanov_EN_B', 'Martynov_Batsanov_EN_max', 'Martynov_Batsanov_EN_avg', 'density_A', 'density_B', 'density_A-B', 'density_max', 'density_min', 'density_avg', 'density_weighted_norm_A+B', 'specific_heat_A', 'specific_heat_B', 'specific_heat_A/B', 'specific_heat_max', 'specific_heat_min', 'specific_heat_avg', 'specific_heat_weighted_norm_A+B', 'cohesive_energy_A', 'cohesive_energy_B', 'cohesive_energy_A-B', 'cohesive_energy_max', 'cohesive_energy_min', 'cohesive_energy_avg', 'cohesive_energy_weighted_norm_A+B', 'bulk_modulus_A', 'bulk_modulus_B', 'bulk_modulus_A-B', 'bulk_modulus_A/B', 'bulk_modulus_max', 'bulk_modulus_min', 'bulk_modulus_avg', 'bulk_modulus_weighted_norm_A+B'], Score = 0.9250\n",
      "Iteration 86: Removed 'Martynov_Batsanov_EN_B', Remaining = ['Gilman_weighted_A+B', 'Gilman_weighted_norm_A+B', 'ionization_energy_max', 'coordination_number_B', 'ratio_closest_B', 'ratio_closest_avg', 'polyhedron_distortion_A', 'polyhedron_distortion_min', 'polyhedron_distortion_avg', 'CIF_radius_A', 'CIF_radius_weighted_norm_A+B', 'Pauling_radius_CN12_weighted_norm_A+B', 'Pauling_EN_B', 'Pauling_EN_A-B', 'Pauling_EN_A/B', 'Pauling_EN_weighted_norm_A+B', 'Martynov_Batsanov_EN_max', 'Martynov_Batsanov_EN_avg', 'density_A', 'density_B', 'density_A-B', 'density_max', 'density_min', 'density_avg', 'density_weighted_norm_A+B', 'specific_heat_A', 'specific_heat_B', 'specific_heat_A/B', 'specific_heat_max', 'specific_heat_min', 'specific_heat_avg', 'specific_heat_weighted_norm_A+B', 'cohesive_energy_A', 'cohesive_energy_B', 'cohesive_energy_A-B', 'cohesive_energy_max', 'cohesive_energy_min', 'cohesive_energy_avg', 'cohesive_energy_weighted_norm_A+B', 'bulk_modulus_A', 'bulk_modulus_B', 'bulk_modulus_A-B', 'bulk_modulus_A/B', 'bulk_modulus_max', 'bulk_modulus_min', 'bulk_modulus_avg', 'bulk_modulus_weighted_norm_A+B'], Score = 0.9250\n",
      "Iteration 87: Removed 'density_B', Remaining = ['Gilman_weighted_A+B', 'Gilman_weighted_norm_A+B', 'ionization_energy_max', 'coordination_number_B', 'ratio_closest_B', 'ratio_closest_avg', 'polyhedron_distortion_A', 'polyhedron_distortion_min', 'polyhedron_distortion_avg', 'CIF_radius_A', 'CIF_radius_weighted_norm_A+B', 'Pauling_radius_CN12_weighted_norm_A+B', 'Pauling_EN_B', 'Pauling_EN_A-B', 'Pauling_EN_A/B', 'Pauling_EN_weighted_norm_A+B', 'Martynov_Batsanov_EN_max', 'Martynov_Batsanov_EN_avg', 'density_A', 'density_A-B', 'density_max', 'density_min', 'density_avg', 'density_weighted_norm_A+B', 'specific_heat_A', 'specific_heat_B', 'specific_heat_A/B', 'specific_heat_max', 'specific_heat_min', 'specific_heat_avg', 'specific_heat_weighted_norm_A+B', 'cohesive_energy_A', 'cohesive_energy_B', 'cohesive_energy_A-B', 'cohesive_energy_max', 'cohesive_energy_min', 'cohesive_energy_avg', 'cohesive_energy_weighted_norm_A+B', 'bulk_modulus_A', 'bulk_modulus_B', 'bulk_modulus_A-B', 'bulk_modulus_A/B', 'bulk_modulus_max', 'bulk_modulus_min', 'bulk_modulus_avg', 'bulk_modulus_weighted_norm_A+B'], Score = 0.9250\n",
      "Iteration 88: Removed 'cohesive_energy_A-B', Remaining = ['Gilman_weighted_A+B', 'Gilman_weighted_norm_A+B', 'ionization_energy_max', 'coordination_number_B', 'ratio_closest_B', 'ratio_closest_avg', 'polyhedron_distortion_A', 'polyhedron_distortion_min', 'polyhedron_distortion_avg', 'CIF_radius_A', 'CIF_radius_weighted_norm_A+B', 'Pauling_radius_CN12_weighted_norm_A+B', 'Pauling_EN_B', 'Pauling_EN_A-B', 'Pauling_EN_A/B', 'Pauling_EN_weighted_norm_A+B', 'Martynov_Batsanov_EN_max', 'Martynov_Batsanov_EN_avg', 'density_A', 'density_A-B', 'density_max', 'density_min', 'density_avg', 'density_weighted_norm_A+B', 'specific_heat_A', 'specific_heat_B', 'specific_heat_A/B', 'specific_heat_max', 'specific_heat_min', 'specific_heat_avg', 'specific_heat_weighted_norm_A+B', 'cohesive_energy_A', 'cohesive_energy_B', 'cohesive_energy_max', 'cohesive_energy_min', 'cohesive_energy_avg', 'cohesive_energy_weighted_norm_A+B', 'bulk_modulus_A', 'bulk_modulus_B', 'bulk_modulus_A-B', 'bulk_modulus_A/B', 'bulk_modulus_max', 'bulk_modulus_min', 'bulk_modulus_avg', 'bulk_modulus_weighted_norm_A+B'], Score = 0.9250\n",
      "Iteration 89: Removed 'density_avg', Remaining = ['Gilman_weighted_A+B', 'Gilman_weighted_norm_A+B', 'ionization_energy_max', 'coordination_number_B', 'ratio_closest_B', 'ratio_closest_avg', 'polyhedron_distortion_A', 'polyhedron_distortion_min', 'polyhedron_distortion_avg', 'CIF_radius_A', 'CIF_radius_weighted_norm_A+B', 'Pauling_radius_CN12_weighted_norm_A+B', 'Pauling_EN_B', 'Pauling_EN_A-B', 'Pauling_EN_A/B', 'Pauling_EN_weighted_norm_A+B', 'Martynov_Batsanov_EN_max', 'Martynov_Batsanov_EN_avg', 'density_A', 'density_A-B', 'density_max', 'density_min', 'density_weighted_norm_A+B', 'specific_heat_A', 'specific_heat_B', 'specific_heat_A/B', 'specific_heat_max', 'specific_heat_min', 'specific_heat_avg', 'specific_heat_weighted_norm_A+B', 'cohesive_energy_A', 'cohesive_energy_B', 'cohesive_energy_max', 'cohesive_energy_min', 'cohesive_energy_avg', 'cohesive_energy_weighted_norm_A+B', 'bulk_modulus_A', 'bulk_modulus_B', 'bulk_modulus_A-B', 'bulk_modulus_A/B', 'bulk_modulus_max', 'bulk_modulus_min', 'bulk_modulus_avg', 'bulk_modulus_weighted_norm_A+B'], Score = 0.9250\n",
      "Iteration 90: Removed 'specific_heat_min', Remaining = ['Gilman_weighted_A+B', 'Gilman_weighted_norm_A+B', 'ionization_energy_max', 'coordination_number_B', 'ratio_closest_B', 'ratio_closest_avg', 'polyhedron_distortion_A', 'polyhedron_distortion_min', 'polyhedron_distortion_avg', 'CIF_radius_A', 'CIF_radius_weighted_norm_A+B', 'Pauling_radius_CN12_weighted_norm_A+B', 'Pauling_EN_B', 'Pauling_EN_A-B', 'Pauling_EN_A/B', 'Pauling_EN_weighted_norm_A+B', 'Martynov_Batsanov_EN_max', 'Martynov_Batsanov_EN_avg', 'density_A', 'density_A-B', 'density_max', 'density_min', 'density_weighted_norm_A+B', 'specific_heat_A', 'specific_heat_B', 'specific_heat_A/B', 'specific_heat_max', 'specific_heat_avg', 'specific_heat_weighted_norm_A+B', 'cohesive_energy_A', 'cohesive_energy_B', 'cohesive_energy_max', 'cohesive_energy_min', 'cohesive_energy_avg', 'cohesive_energy_weighted_norm_A+B', 'bulk_modulus_A', 'bulk_modulus_B', 'bulk_modulus_A-B', 'bulk_modulus_A/B', 'bulk_modulus_max', 'bulk_modulus_min', 'bulk_modulus_avg', 'bulk_modulus_weighted_norm_A+B'], Score = 0.9250\n",
      "\n",
      "Final remaining features: ['Gilman_weighted_A+B', 'Gilman_weighted_norm_A+B', 'ionization_energy_max', 'coordination_number_B', 'ratio_closest_B', 'ratio_closest_avg', 'polyhedron_distortion_A', 'polyhedron_distortion_min', 'polyhedron_distortion_avg', 'CIF_radius_A', 'CIF_radius_weighted_norm_A+B', 'Pauling_radius_CN12_weighted_norm_A+B', 'Pauling_EN_B', 'Pauling_EN_A-B', 'Pauling_EN_A/B', 'Pauling_EN_weighted_norm_A+B', 'Martynov_Batsanov_EN_max', 'Martynov_Batsanov_EN_avg', 'density_A', 'density_A-B', 'density_max', 'density_min', 'density_weighted_norm_A+B', 'specific_heat_A', 'specific_heat_B', 'specific_heat_A/B', 'specific_heat_max', 'specific_heat_avg', 'specific_heat_weighted_norm_A+B', 'cohesive_energy_A', 'cohesive_energy_B', 'cohesive_energy_max', 'cohesive_energy_min', 'cohesive_energy_avg', 'cohesive_energy_weighted_norm_A+B', 'bulk_modulus_A', 'bulk_modulus_B', 'bulk_modulus_A-B', 'bulk_modulus_A/B', 'bulk_modulus_max', 'bulk_modulus_min', 'bulk_modulus_avg', 'bulk_modulus_weighted_norm_A+B']\n"
     ]
    },
    {
     "data": {
      "application/vnd.plotly.v1+json": {
       "config": {
        "plotlyServerURL": "https://plot.ly"
       },
       "data": [
        {
         "mode": "lines+markers",
         "name": "Performance",
         "type": "scatter",
         "x": [
          133,
          132,
          131,
          130,
          129,
          128,
          127,
          126,
          125,
          124,
          123,
          122,
          121,
          120,
          119,
          118,
          117,
          116,
          115,
          114,
          113,
          112,
          111,
          110,
          109,
          108,
          107,
          106,
          105,
          104,
          103,
          102,
          101,
          100,
          99,
          98,
          97,
          96,
          95,
          94,
          93,
          92,
          91,
          90,
          89,
          88,
          87,
          86,
          85,
          84,
          83,
          82,
          81,
          80,
          79,
          78,
          77,
          76,
          75,
          74,
          73,
          72,
          71,
          70,
          69,
          68,
          67,
          66,
          65,
          64,
          63,
          62,
          61,
          60,
          59,
          58,
          57,
          56,
          55,
          54,
          53,
          52,
          51,
          50,
          49,
          48,
          47,
          46,
          45,
          44,
          43
         ],
         "y": [
          0.8,
          0.8,
          0.8,
          0.8,
          0.8,
          0.8,
          0.8,
          0.8,
          0.8,
          0.8,
          0.8,
          0.8,
          0.8,
          0.8,
          0.8,
          0.8,
          0.8,
          0.8,
          0.8,
          0.8,
          0.8,
          0.8,
          0.825,
          0.825,
          0.825,
          0.825,
          0.85,
          0.85,
          0.85,
          0.85,
          0.85,
          0.85,
          0.85,
          0.85,
          0.85,
          0.85,
          0.85,
          0.85,
          0.85,
          0.85,
          0.85,
          0.85,
          0.85,
          0.85,
          0.85,
          0.875,
          0.875,
          0.9,
          0.9,
          0.9,
          0.9,
          0.9,
          0.9,
          0.9,
          0.9,
          0.9,
          0.9,
          0.9,
          0.9,
          0.9,
          0.9,
          0.9,
          0.9,
          0.925,
          0.925,
          0.925,
          0.925,
          0.925,
          0.925,
          0.925,
          0.925,
          0.925,
          0.925,
          0.925,
          0.925,
          0.925,
          0.925,
          0.925,
          0.925,
          0.925,
          0.925,
          0.925,
          0.925,
          0.925,
          0.925,
          0.925,
          0.925,
          0.925,
          0.925,
          0.925,
          0.925
         ]
        }
       ],
       "layout": {
        "template": {
         "data": {
          "bar": [
           {
            "error_x": {
             "color": "#2a3f5f"
            },
            "error_y": {
             "color": "#2a3f5f"
            },
            "marker": {
             "line": {
              "color": "white",
              "width": 0.5
             },
             "pattern": {
              "fillmode": "overlay",
              "size": 10,
              "solidity": 0.2
             }
            },
            "type": "bar"
           }
          ],
          "barpolar": [
           {
            "marker": {
             "line": {
              "color": "white",
              "width": 0.5
             },
             "pattern": {
              "fillmode": "overlay",
              "size": 10,
              "solidity": 0.2
             }
            },
            "type": "barpolar"
           }
          ],
          "carpet": [
           {
            "aaxis": {
             "endlinecolor": "#2a3f5f",
             "gridcolor": "#C8D4E3",
             "linecolor": "#C8D4E3",
             "minorgridcolor": "#C8D4E3",
             "startlinecolor": "#2a3f5f"
            },
            "baxis": {
             "endlinecolor": "#2a3f5f",
             "gridcolor": "#C8D4E3",
             "linecolor": "#C8D4E3",
             "minorgridcolor": "#C8D4E3",
             "startlinecolor": "#2a3f5f"
            },
            "type": "carpet"
           }
          ],
          "choropleth": [
           {
            "colorbar": {
             "outlinewidth": 0,
             "ticks": ""
            },
            "type": "choropleth"
           }
          ],
          "contour": [
           {
            "colorbar": {
             "outlinewidth": 0,
             "ticks": ""
            },
            "colorscale": [
             [
              0,
              "#0d0887"
             ],
             [
              0.1111111111111111,
              "#46039f"
             ],
             [
              0.2222222222222222,
              "#7201a8"
             ],
             [
              0.3333333333333333,
              "#9c179e"
             ],
             [
              0.4444444444444444,
              "#bd3786"
             ],
             [
              0.5555555555555556,
              "#d8576b"
             ],
             [
              0.6666666666666666,
              "#ed7953"
             ],
             [
              0.7777777777777778,
              "#fb9f3a"
             ],
             [
              0.8888888888888888,
              "#fdca26"
             ],
             [
              1,
              "#f0f921"
             ]
            ],
            "type": "contour"
           }
          ],
          "contourcarpet": [
           {
            "colorbar": {
             "outlinewidth": 0,
             "ticks": ""
            },
            "type": "contourcarpet"
           }
          ],
          "heatmap": [
           {
            "colorbar": {
             "outlinewidth": 0,
             "ticks": ""
            },
            "colorscale": [
             [
              0,
              "#0d0887"
             ],
             [
              0.1111111111111111,
              "#46039f"
             ],
             [
              0.2222222222222222,
              "#7201a8"
             ],
             [
              0.3333333333333333,
              "#9c179e"
             ],
             [
              0.4444444444444444,
              "#bd3786"
             ],
             [
              0.5555555555555556,
              "#d8576b"
             ],
             [
              0.6666666666666666,
              "#ed7953"
             ],
             [
              0.7777777777777778,
              "#fb9f3a"
             ],
             [
              0.8888888888888888,
              "#fdca26"
             ],
             [
              1,
              "#f0f921"
             ]
            ],
            "type": "heatmap"
           }
          ],
          "heatmapgl": [
           {
            "colorbar": {
             "outlinewidth": 0,
             "ticks": ""
            },
            "colorscale": [
             [
              0,
              "#0d0887"
             ],
             [
              0.1111111111111111,
              "#46039f"
             ],
             [
              0.2222222222222222,
              "#7201a8"
             ],
             [
              0.3333333333333333,
              "#9c179e"
             ],
             [
              0.4444444444444444,
              "#bd3786"
             ],
             [
              0.5555555555555556,
              "#d8576b"
             ],
             [
              0.6666666666666666,
              "#ed7953"
             ],
             [
              0.7777777777777778,
              "#fb9f3a"
             ],
             [
              0.8888888888888888,
              "#fdca26"
             ],
             [
              1,
              "#f0f921"
             ]
            ],
            "type": "heatmapgl"
           }
          ],
          "histogram": [
           {
            "marker": {
             "pattern": {
              "fillmode": "overlay",
              "size": 10,
              "solidity": 0.2
             }
            },
            "type": "histogram"
           }
          ],
          "histogram2d": [
           {
            "colorbar": {
             "outlinewidth": 0,
             "ticks": ""
            },
            "colorscale": [
             [
              0,
              "#0d0887"
             ],
             [
              0.1111111111111111,
              "#46039f"
             ],
             [
              0.2222222222222222,
              "#7201a8"
             ],
             [
              0.3333333333333333,
              "#9c179e"
             ],
             [
              0.4444444444444444,
              "#bd3786"
             ],
             [
              0.5555555555555556,
              "#d8576b"
             ],
             [
              0.6666666666666666,
              "#ed7953"
             ],
             [
              0.7777777777777778,
              "#fb9f3a"
             ],
             [
              0.8888888888888888,
              "#fdca26"
             ],
             [
              1,
              "#f0f921"
             ]
            ],
            "type": "histogram2d"
           }
          ],
          "histogram2dcontour": [
           {
            "colorbar": {
             "outlinewidth": 0,
             "ticks": ""
            },
            "colorscale": [
             [
              0,
              "#0d0887"
             ],
             [
              0.1111111111111111,
              "#46039f"
             ],
             [
              0.2222222222222222,
              "#7201a8"
             ],
             [
              0.3333333333333333,
              "#9c179e"
             ],
             [
              0.4444444444444444,
              "#bd3786"
             ],
             [
              0.5555555555555556,
              "#d8576b"
             ],
             [
              0.6666666666666666,
              "#ed7953"
             ],
             [
              0.7777777777777778,
              "#fb9f3a"
             ],
             [
              0.8888888888888888,
              "#fdca26"
             ],
             [
              1,
              "#f0f921"
             ]
            ],
            "type": "histogram2dcontour"
           }
          ],
          "mesh3d": [
           {
            "colorbar": {
             "outlinewidth": 0,
             "ticks": ""
            },
            "type": "mesh3d"
           }
          ],
          "parcoords": [
           {
            "line": {
             "colorbar": {
              "outlinewidth": 0,
              "ticks": ""
             }
            },
            "type": "parcoords"
           }
          ],
          "pie": [
           {
            "automargin": true,
            "type": "pie"
           }
          ],
          "scatter": [
           {
            "fillpattern": {
             "fillmode": "overlay",
             "size": 10,
             "solidity": 0.2
            },
            "type": "scatter"
           }
          ],
          "scatter3d": [
           {
            "line": {
             "colorbar": {
              "outlinewidth": 0,
              "ticks": ""
             }
            },
            "marker": {
             "colorbar": {
              "outlinewidth": 0,
              "ticks": ""
             }
            },
            "type": "scatter3d"
           }
          ],
          "scattercarpet": [
           {
            "marker": {
             "colorbar": {
              "outlinewidth": 0,
              "ticks": ""
             }
            },
            "type": "scattercarpet"
           }
          ],
          "scattergeo": [
           {
            "marker": {
             "colorbar": {
              "outlinewidth": 0,
              "ticks": ""
             }
            },
            "type": "scattergeo"
           }
          ],
          "scattergl": [
           {
            "marker": {
             "colorbar": {
              "outlinewidth": 0,
              "ticks": ""
             }
            },
            "type": "scattergl"
           }
          ],
          "scattermapbox": [
           {
            "marker": {
             "colorbar": {
              "outlinewidth": 0,
              "ticks": ""
             }
            },
            "type": "scattermapbox"
           }
          ],
          "scatterpolar": [
           {
            "marker": {
             "colorbar": {
              "outlinewidth": 0,
              "ticks": ""
             }
            },
            "type": "scatterpolar"
           }
          ],
          "scatterpolargl": [
           {
            "marker": {
             "colorbar": {
              "outlinewidth": 0,
              "ticks": ""
             }
            },
            "type": "scatterpolargl"
           }
          ],
          "scatterternary": [
           {
            "marker": {
             "colorbar": {
              "outlinewidth": 0,
              "ticks": ""
             }
            },
            "type": "scatterternary"
           }
          ],
          "surface": [
           {
            "colorbar": {
             "outlinewidth": 0,
             "ticks": ""
            },
            "colorscale": [
             [
              0,
              "#0d0887"
             ],
             [
              0.1111111111111111,
              "#46039f"
             ],
             [
              0.2222222222222222,
              "#7201a8"
             ],
             [
              0.3333333333333333,
              "#9c179e"
             ],
             [
              0.4444444444444444,
              "#bd3786"
             ],
             [
              0.5555555555555556,
              "#d8576b"
             ],
             [
              0.6666666666666666,
              "#ed7953"
             ],
             [
              0.7777777777777778,
              "#fb9f3a"
             ],
             [
              0.8888888888888888,
              "#fdca26"
             ],
             [
              1,
              "#f0f921"
             ]
            ],
            "type": "surface"
           }
          ],
          "table": [
           {
            "cells": {
             "fill": {
              "color": "#EBF0F8"
             },
             "line": {
              "color": "white"
             }
            },
            "header": {
             "fill": {
              "color": "#C8D4E3"
             },
             "line": {
              "color": "white"
             }
            },
            "type": "table"
           }
          ]
         },
         "layout": {
          "annotationdefaults": {
           "arrowcolor": "#2a3f5f",
           "arrowhead": 0,
           "arrowwidth": 1
          },
          "autotypenumbers": "strict",
          "coloraxis": {
           "colorbar": {
            "outlinewidth": 0,
            "ticks": ""
           }
          },
          "colorscale": {
           "diverging": [
            [
             0,
             "#8e0152"
            ],
            [
             0.1,
             "#c51b7d"
            ],
            [
             0.2,
             "#de77ae"
            ],
            [
             0.3,
             "#f1b6da"
            ],
            [
             0.4,
             "#fde0ef"
            ],
            [
             0.5,
             "#f7f7f7"
            ],
            [
             0.6,
             "#e6f5d0"
            ],
            [
             0.7,
             "#b8e186"
            ],
            [
             0.8,
             "#7fbc41"
            ],
            [
             0.9,
             "#4d9221"
            ],
            [
             1,
             "#276419"
            ]
           ],
           "sequential": [
            [
             0,
             "#0d0887"
            ],
            [
             0.1111111111111111,
             "#46039f"
            ],
            [
             0.2222222222222222,
             "#7201a8"
            ],
            [
             0.3333333333333333,
             "#9c179e"
            ],
            [
             0.4444444444444444,
             "#bd3786"
            ],
            [
             0.5555555555555556,
             "#d8576b"
            ],
            [
             0.6666666666666666,
             "#ed7953"
            ],
            [
             0.7777777777777778,
             "#fb9f3a"
            ],
            [
             0.8888888888888888,
             "#fdca26"
            ],
            [
             1,
             "#f0f921"
            ]
           ],
           "sequentialminus": [
            [
             0,
             "#0d0887"
            ],
            [
             0.1111111111111111,
             "#46039f"
            ],
            [
             0.2222222222222222,
             "#7201a8"
            ],
            [
             0.3333333333333333,
             "#9c179e"
            ],
            [
             0.4444444444444444,
             "#bd3786"
            ],
            [
             0.5555555555555556,
             "#d8576b"
            ],
            [
             0.6666666666666666,
             "#ed7953"
            ],
            [
             0.7777777777777778,
             "#fb9f3a"
            ],
            [
             0.8888888888888888,
             "#fdca26"
            ],
            [
             1,
             "#f0f921"
            ]
           ]
          },
          "colorway": [
           "#636efa",
           "#EF553B",
           "#00cc96",
           "#ab63fa",
           "#FFA15A",
           "#19d3f3",
           "#FF6692",
           "#B6E880",
           "#FF97FF",
           "#FECB52"
          ],
          "font": {
           "color": "#2a3f5f"
          },
          "geo": {
           "bgcolor": "white",
           "lakecolor": "white",
           "landcolor": "white",
           "showlakes": true,
           "showland": true,
           "subunitcolor": "#C8D4E3"
          },
          "hoverlabel": {
           "align": "left"
          },
          "hovermode": "closest",
          "mapbox": {
           "style": "light"
          },
          "paper_bgcolor": "white",
          "plot_bgcolor": "white",
          "polar": {
           "angularaxis": {
            "gridcolor": "#EBF0F8",
            "linecolor": "#EBF0F8",
            "ticks": ""
           },
           "bgcolor": "white",
           "radialaxis": {
            "gridcolor": "#EBF0F8",
            "linecolor": "#EBF0F8",
            "ticks": ""
           }
          },
          "scene": {
           "xaxis": {
            "backgroundcolor": "white",
            "gridcolor": "#DFE8F3",
            "gridwidth": 2,
            "linecolor": "#EBF0F8",
            "showbackground": true,
            "ticks": "",
            "zerolinecolor": "#EBF0F8"
           },
           "yaxis": {
            "backgroundcolor": "white",
            "gridcolor": "#DFE8F3",
            "gridwidth": 2,
            "linecolor": "#EBF0F8",
            "showbackground": true,
            "ticks": "",
            "zerolinecolor": "#EBF0F8"
           },
           "zaxis": {
            "backgroundcolor": "white",
            "gridcolor": "#DFE8F3",
            "gridwidth": 2,
            "linecolor": "#EBF0F8",
            "showbackground": true,
            "ticks": "",
            "zerolinecolor": "#EBF0F8"
           }
          },
          "shapedefaults": {
           "line": {
            "color": "#2a3f5f"
           }
          },
          "ternary": {
           "aaxis": {
            "gridcolor": "#DFE8F3",
            "linecolor": "#A2B1C6",
            "ticks": ""
           },
           "baxis": {
            "gridcolor": "#DFE8F3",
            "linecolor": "#A2B1C6",
            "ticks": ""
           },
           "bgcolor": "white",
           "caxis": {
            "gridcolor": "#DFE8F3",
            "linecolor": "#A2B1C6",
            "ticks": ""
           }
          },
          "title": {
           "x": 0.05
          },
          "xaxis": {
           "automargin": true,
           "gridcolor": "#EBF0F8",
           "linecolor": "#EBF0F8",
           "ticks": "",
           "title": {
            "standoff": 15
           },
           "zerolinecolor": "#EBF0F8",
           "zerolinewidth": 2
          },
          "yaxis": {
           "automargin": true,
           "gridcolor": "#EBF0F8",
           "linecolor": "#EBF0F8",
           "ticks": "",
           "title": {
            "standoff": 15
           },
           "zerolinecolor": "#EBF0F8",
           "zerolinewidth": 2
          }
         }
        },
        "title": {
         "text": "Backward Elimination Performance"
        },
        "xaxis": {
         "title": {
          "text": "Number of Features"
         }
        },
        "yaxis": {
         "title": {
          "text": "CV Accuracy Score"
         }
        }
       }
      }
     },
     "metadata": {},
     "output_type": "display_data"
    },
    {
     "name": "stdout",
     "output_type": "stream",
     "text": [
      "Remaining features via backward elimination: ['Gilman_weighted_A+B', 'Gilman_weighted_norm_A+B', 'ionization_energy_max', 'coordination_number_B', 'ratio_closest_B', 'ratio_closest_avg', 'polyhedron_distortion_A', 'polyhedron_distortion_min', 'polyhedron_distortion_avg', 'CIF_radius_A', 'CIF_radius_weighted_norm_A+B', 'Pauling_radius_CN12_weighted_norm_A+B', 'Pauling_EN_B', 'Pauling_EN_A-B', 'Pauling_EN_A/B', 'Pauling_EN_weighted_norm_A+B', 'Martynov_Batsanov_EN_max', 'Martynov_Batsanov_EN_avg', 'density_A', 'density_A-B', 'density_max', 'density_min', 'density_weighted_norm_A+B', 'specific_heat_A', 'specific_heat_B', 'specific_heat_A/B', 'specific_heat_max', 'specific_heat_avg', 'specific_heat_weighted_norm_A+B', 'cohesive_energy_A', 'cohesive_energy_B', 'cohesive_energy_max', 'cohesive_energy_min', 'cohesive_energy_avg', 'cohesive_energy_weighted_norm_A+B', 'bulk_modulus_A', 'bulk_modulus_B', 'bulk_modulus_A-B', 'bulk_modulus_A/B', 'bulk_modulus_max', 'bulk_modulus_min', 'bulk_modulus_avg', 'bulk_modulus_weighted_norm_A+B']\n"
     ]
    }
   ],
   "source": [
    "from feature import forward_selection_plsda, backward_elimination_plsda\n",
    "\n",
    "# Forward selection example:\n",
    "selected_feats, perf_hist = forward_selection_plsda(\n",
    "    filepath, \n",
    "    target_column=\"Class\", \n",
    "    max_features=50, \n",
    "    n_components=2,\n",
    "    scoring='accuracy', \n",
    "    verbose=True, \n",
    "    visualize=True\n",
    ")\n",
    "print(\"Selected features via forward selection:\", selected_feats)\n",
    "\n",
    "# Backward elimination example:\n",
    "remaining_feats, perf_hist_back = backward_elimination_plsda(\n",
    "    filepath, \n",
    "    target_column=\"Class\", \n",
    "    min_features=5, \n",
    "    n_components=2,\n",
    "    scoring='accuracy', \n",
    "    verbose=True, \n",
    "    visualize=True\n",
    ")\n",
    "print(\"Remaining features via backward elimination:\", remaining_feats)"
   ]
  }
 ],
 "metadata": {
  "kernelspec": {
   "display_name": "binary",
   "language": "python",
   "name": "python3"
  },
  "language_info": {
   "codemirror_mode": {
    "name": "ipython",
    "version": 3
   },
   "file_extension": ".py",
   "mimetype": "text/x-python",
   "name": "python",
   "nbconvert_exporter": "python",
   "pygments_lexer": "ipython3",
   "version": "3.9.18"
  }
 },
 "nbformat": 4,
 "nbformat_minor": 2
}
