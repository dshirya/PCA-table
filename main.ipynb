{
 "cells": [
  {
   "cell_type": "code",
   "execution_count": null,
   "metadata": {},
   "outputs": [],
   "source": [
    "from pca_analysis import run_pca_analysis\n",
    "\n",
    "# Define your file path\n",
    "filepath = \"elemental-property-list.xlsx\"\n",
    "run_pca_analysis(filepath)"
   ]
  }
 ],
 "metadata": {
  "kernelspec": {
   "display_name": "binary",
   "language": "python",
   "name": "python3"
  },
  "language_info": {
   "codemirror_mode": {
    "name": "ipython",
    "version": 3
   },
   "file_extension": ".py",
   "mimetype": "text/x-python",
   "name": "python",
   "nbconvert_exporter": "python",
   "pygments_lexer": "ipython3",
   "version": "3.9.20"
  }
 },
 "nbformat": 4,
 "nbformat_minor": 4
}
